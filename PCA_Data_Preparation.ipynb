{
  "nbformat": 4,
  "nbformat_minor": 0,
  "metadata": {
    "colab": {
      "name": "PCA_Data Preparation.ipynb",
      "provenance": [],
      "collapsed_sections": [],
      "mount_file_id": "1hDdRLz3mUB0Ldphf50Bl9ZWw8qHh1iP5",
      "authorship_tag": "ABX9TyNvECD52sX4G+Mg7K04kprA",
      "include_colab_link": true
    },
    "kernelspec": {
      "name": "python3",
      "display_name": "Python 3"
    },
    "language_info": {
      "name": "python"
    }
  },
  "cells": [
    {
      "cell_type": "markdown",
      "metadata": {
        "id": "view-in-github",
        "colab_type": "text"
      },
      "source": [
        "<a href=\"https://colab.research.google.com/github/davidislip/SVM-and-MVO/blob/main/PCA_Data_Preparation.ipynb\" target=\"_parent\"><img src=\"https://colab.research.google.com/assets/colab-badge.svg\" alt=\"Open In Colab\"/></a>"
      ]
    },
    {
      "cell_type": "markdown",
      "metadata": {
        "id": "MqN_y29M6YR8"
      },
      "source": [
        "### PCA Transformation of attributes\n",
        "\n",
        "This notebook focuses on transforming the stock's attributes into a smaller set of fundamental factors. For example, in our current model there are 5 different factors for growth, the question is: can one or two factors explain a high proportion of the variance present among those factors. The dimension reduction is done by robust PCA\n",
        "\n",
        "@article{candes2011robust,\n",
        "  title={Robust principal component analysis?},\n",
        "  author={Cand{\\`e}s, Emmanuel J and Li, Xiaodong and Ma, Yi and Wright, John},\n",
        "  journal={Journal of the ACM (JACM)},\n",
        "  volume={58},\n",
        "  number={3},\n",
        "  pages={1--37},\n",
        "  year={2011},\n",
        "  publisher={ACM New York, NY, USA}\n",
        "}\n",
        "\n",
        "\n",
        "the matrix should have (approximately) low-rank: mathematically,\n",
        "M = L0 + N0,\n",
        "where L0 has low-rank and N0 is a small perturbation matrix. Classical Principal Component Analysis seeks the rank-k estimate of L0 by solving\n",
        "\n",
        "minimize kM − Lk\n",
        "subject to rank(L) ≤ k."
      ]
    },
    {
      "cell_type": "code",
      "metadata": {
        "colab": {
          "base_uri": "https://localhost:8080/"
        },
        "id": "l3fEvFDq6PgZ",
        "outputId": "43e06d51-8267-416f-a7b1-b8d640646a04"
      },
      "source": [
        "!sudo python -m pip install gurobipy==9.1.2\n",
        "import gurobipy as gp\n",
        "from gurobipy import GRB\n",
        "from google.colab import drive \n",
        "drive.mount('/content/gdrive', force_remount=True)\n",
        "from math import sqrt\n",
        "import sys\n",
        "pth = 'gdrive/My Drive/Colab Notebooks/'\n",
        "sys.path.append(pth + 'SVM MVO/PYFILES/')\n",
        "from packages import *\n",
        "from r_pca import *\n",
        "from sklearn.decomposition import PCA\n",
        "%matplotlib inline\n",
        "\n",
        "## Import Forecasts\n",
        "forecasts = pd.read_pickle(pth +'SVM MVO/DATA/Forecasts.pkl')\n",
        "## Import Returns\n",
        "rets = pd.read_pickle(pth + 'SVM MVO/DATA/RETS.pkl')\n",
        "## Import feature vectors\n",
        "wrds_svm = pd.read_pickle(pth + 'SVM MVO/DATA/WRDS_ASOF.pkl')"
      ],
      "execution_count": null,
      "outputs": [
        {
          "output_type": "stream",
          "name": "stdout",
          "text": [
            "Collecting gurobipy==9.1.2\n",
            "  Downloading gurobipy-9.1.2-cp37-cp37m-manylinux1_x86_64.whl (11.1 MB)\n",
            "\u001b[K     |████████████████████████████████| 11.1 MB 4.7 MB/s \n",
            "\u001b[?25hInstalling collected packages: gurobipy\n",
            "Successfully installed gurobipy-9.1.2\n",
            "Mounted at /content/gdrive\n"
          ]
        }
      ]
    },
    {
      "cell_type": "code",
      "metadata": {
        "colab": {
          "base_uri": "https://localhost:8080/"
        },
        "id": "nYBpVMDbM5Pi",
        "outputId": "00a3cfca-9645-445f-c8e7-5c35fea71aca"
      },
      "source": [
        "#preprocessing \n",
        "tics = list(rets.columns)\n",
        "print(\"valid tickers:\", tics)\n",
        "#get the wharton research data for the valid tickers for the month\n",
        "#restrict the wharton research data to the columns of interest\n",
        "Y = wrds_svm.loc[:,\"ROC1\":\"GRW8\"] # Y matrix in formulation \n",
        "Y_ =  (Y - Y.mean(axis=0))/(Y.std(axis=0))\n",
        "Y_ = Y_.iloc[:,:]\n",
        "Y_.columns\n",
        "Y_.mean()"
      ],
      "execution_count": null,
      "outputs": [
        {
          "output_type": "stream",
          "name": "stdout",
          "text": [
            "valid tickers: ['AAPL', 'ABC', 'ABMD', 'ABT', 'ADBE', 'ADI', 'ADM', 'ADP', 'ADSK', 'AEE', 'AEP', 'AES', 'AJG', 'AKAM', 'ALB', 'ALK', 'AMAT', 'AMD', 'AME', 'AMGN', 'AMT', 'AMZN', 'ANSS', 'AON', 'AOS', 'APA', 'APD', 'APH', 'ATO', 'AVY', 'AZO', 'BA', 'BAX', 'BBY', 'BDX', 'BKNG', 'BLL', 'BMY', 'BSX', 'BWA', 'CAG', 'CAH', 'CAT', 'CCI', 'CCL', 'CDNS', 'CERN', 'CHD', 'CHRW', 'CI', 'CL', 'CLX', 'CMCSA', 'CMI', 'CMS', 'CNP', 'COO', 'COP', 'COST', 'CPB', 'CPRT', 'CSCO', 'CSX', 'CTAS', 'CTSH', 'CTXS', 'CVS', 'CVX', 'D', 'DD', 'DGX', 'DHR', 'DIS', 'DISH', 'DLTR', 'DOV', 'DRI', 'DTE', 'DUK', 'DVA', 'DVN', 'DXC', 'EA', 'EBAY', 'ECL', 'ED', 'EFX', 'EIX', 'EL', 'EMN', 'EMR', 'EOG', 'ES', 'ETN', 'ETR', 'EVRG', 'EXC', 'EXPD', 'F', 'FAST', 'FCX', 'FDX', 'FE', 'FFIV', 'FISV', 'FLS', 'FMC', 'GD', 'GIS', 'GLW', 'GPC', 'GPS', 'GWW', 'HAL', 'HAS', 'HD', 'HES', 'HFC', 'HOG', 'HOLX', 'HON', 'HP', 'HPQ', 'HRB', 'HRL', 'HSIC', 'HSY', 'HUM', 'IBM', 'IDXX', 'IEX', 'IFF', 'INCY', 'INTC', 'INTU', 'IP', 'IPG', 'IRM', 'IT', 'ITW', 'IVZ', 'J', 'JBHT', 'JCI', 'JKHY', 'JNJ', 'JNPR', 'JWN', 'K', 'KLAC', 'KMB', 'KMX', 'KO', 'KR', 'KSS', 'KSU', 'LEG', 'LH', 'LHX', 'LIN', 'LLY', 'LMT', 'LNT', 'LOW', 'LRCX', 'LUV', 'M', 'MAR', 'MAS', 'MCD', 'MCHP', 'MCK', 'MCO', 'MDT', 'MGM', 'MHK', 'MKC', 'MLM', 'MMC', 'MMM', 'MO', 'MRK', 'MRO', 'MSFT', 'MSI', 'MTD', 'MU', 'MXIM', 'NEE', 'NEM', 'NI', 'NKE', 'NLOK', 'NOC', 'NOV', 'NSC', 'NTAP', 'NUE', 'NVDA', 'NWL', 'OMC', 'ORCL', 'ORLY', 'OXY', 'PAYX', 'PEG', 'PEP', 'PFE', 'PG', 'PH', 'PKI', 'PNR', 'PNW', 'PPG', 'PPL', 'PRGO', 'PVH', 'PWR', 'PXD', 'QCOM', 'RCL', 'REGN', 'RHI', 'RL', 'RMD', 'ROK', 'ROL', 'ROP', 'ROST', 'RSG', 'RTX', 'SBAC', 'SBUX', 'SEE', 'SHW', 'SJM', 'SLB', 'SNA', 'SNPS', 'SO', 'SPGI', 'SRE', 'STE', 'STZ', 'SWK', 'SWKS', 'SYK', 'SYY', 'T', 'TAP', 'TFX', 'TGT', 'TJX', 'TMO', 'TSCO', 'TSN', 'TT', 'TXN', 'TXT', 'UHS', 'UNH', 'UNP', 'URI', 'VFC', 'VLO', 'VMC', 'VRSN', 'VRTX', 'VZ', 'WAB', 'WAT', 'WBA', 'WDC', 'WEC', 'WHR', 'WM', 'WMB', 'WMT', 'WY', 'XEL', 'XLNX', 'XOM', 'XRAY', 'XRX', 'YUM', 'ZBRA']\n"
          ]
        },
        {
          "output_type": "execute_result",
          "data": {
            "text/plain": [
              "ROC1    -5.321199e-15\n",
              "ROC2     6.842883e-17\n",
              "ROC3    -5.755075e-17\n",
              "ROC4     1.545069e-14\n",
              "ROC5     2.170526e-16\n",
              "INV1    -4.327805e-16\n",
              "INV2     2.101790e-15\n",
              "INV3     3.253609e-15\n",
              "PRO1     1.334464e-16\n",
              "PRO2     2.184986e-16\n",
              "PRO3     4.653018e-16\n",
              "PRO4    -4.143919e-16\n",
              "PRO5    -6.462627e-16\n",
              "PRO6    -1.397130e-15\n",
              "PRO7     2.261126e-17\n",
              "LEV1     7.941057e-16\n",
              "LEV2     8.732530e-16\n",
              "LEV3     1.780045e-15\n",
              "LEV4    -1.393581e-15\n",
              "LEV5     1.013321e-14\n",
              "RET1    -4.553434e-15\n",
              "LIQ1    -3.891670e-15\n",
              "LIQ2    -1.624189e-14\n",
              "LIQ3     6.035192e-16\n",
              "LIQ4    -2.970554e-14\n",
              "LIQ5     3.569552e-15\n",
              "RISK1    9.961169e-16\n",
              "RISK2   -1.840836e-15\n",
              "RISK3    2.236665e-14\n",
              "GRW1    -1.517052e-15\n",
              "GRW2    -6.751879e-16\n",
              "GRW3     1.424555e-15\n",
              "GRW4    -2.108416e-16\n",
              "GRW5     3.878303e-16\n",
              "GRW6    -2.132647e-15\n",
              "GRW7     1.208013e-15\n",
              "GRW8    -1.218881e-15\n",
              "dtype: float64"
            ]
          },
          "metadata": {},
          "execution_count": 13
        }
      ]
    },
    {
      "cell_type": "code",
      "metadata": {
        "colab": {
          "base_uri": "https://localhost:8080/",
          "height": 414
        },
        "id": "L-l15pccZMyc",
        "outputId": "57d6e712-455b-40dd-fc1b-ccd8299fd23f"
      },
      "source": [
        "# use R_pca to estimate the degraded data as L + S, where L is low rank, and S is sparse\n",
        "\n",
        "def PCA_Transform(Y_):\n",
        "  '''\n",
        "  robust pca to get T matrix, then transformed to pca factor values\n",
        "  cumulative % of var explained is also plotted\n",
        "  '''\n",
        "  dup_index = Y_.groupby(Y_.columns.tolist(), sort=False).ngroup()\n",
        "  dup_index.name = 'dup_index'\n",
        "  rpca = R_pca(Y_.drop_duplicates().values)\n",
        "  \n",
        "  L, S = rpca.fit(max_iter=10000, iter_print=1000)\n",
        "  pca = PCA(0.95)\n",
        "  pca.fit(L)\n",
        "  plt.figure()\n",
        "  plt.plot(np.arange(len(pca.explained_variance_ratio_))+1,\\\n",
        "           np.cumsum(pca.explained_variance_ratio_), \"*\")\n",
        "  plt.xlabel('number of components')\n",
        "  plt.ylabel('cumulative explained variance');\n",
        "\n",
        "  transformed_Y = pd.merge(dup_index, pd.DataFrame(pca.transform(L)), how = 'left', right_index = True, left_on = 'dup_index' )\n",
        "\n",
        "  return transformed_Y.drop(columns = ['dup_index'])\n",
        "# ROC = PCA_Transform(Y_.loc[:,'ROC1':'ROC5'])\n",
        "# INV = PCA_Transform(Y_.loc[:,'INV1':'INV3'])\n",
        "# PRO = PCA_Transform(Y_.loc[:,'PRO1':'PRO7'])\n",
        "# LEV = PCA_Transform(Y_.loc[:,'LEV1':'LEV5'])\n",
        "# RET = Y_.RET1.values\n",
        "# LIQ = PCA_Transform(Y_.loc[:,'LIQ1':'LIQ5'])\n",
        "# RISK = PCA_Transform(Y_.loc[:,'RISK1':'RISK3'])\n",
        "# GRW = PCA_Transform(Y_.loc[:,'GRW1':'GRW8'])\n",
        "All = PCA_Transform(Y_.loc[:,:])"
      ],
      "execution_count": null,
      "outputs": [
        {
          "output_type": "stream",
          "name": "stdout",
          "text": [
            "iteration: 1, error: 0.23597275134566023\n",
            "iteration: 1000, error: 0.0006438797475360515\n",
            "iteration: 2000, error: 0.0011892394334578967\n",
            "iteration: 3000, error: 0.002845247951052283\n",
            "iteration: 4000, error: 0.000609913372593971\n",
            "iteration: 5000, error: 0.00016569106381903503\n",
            "iteration: 6000, error: 0.00010005856221417033\n",
            "iteration: 6018, error: 9.070201845816925e-05\n"
          ]
        },
        {
          "output_type": "display_data",
          "data": {
            "image/png": "[encoded data removed]",
            "text/plain": [
              "<Figure size 432x288 with 1 Axes>"
            ]
          },
          "metadata": {
            "needs_background": "light"
          }
        }
      ]
    },
    {
      "cell_type": "code",
      "metadata": {
        "id": "EPXMN74MamzG"
      },
      "source": [
        "\n",
        "# ROC_pd = pd.DataFrame(ROC.values, index = Y_.index, \\\n",
        "#              columns = ['ROC'+str(i) for i in range(ROC.shape[1])])\n",
        "# INV_pd = pd.DataFrame(INV.values , index = Y_.index, \\\n",
        "#              columns = ['INV'+str(i) for i in range(INV.shape[1])])\n",
        "# PRO_pd = pd.DataFrame(PRO.values , index = Y_.index, \\\n",
        "#              columns = ['PRO'+str(i) for i in range(PRO.shape[1])])\n",
        "# LEV_pd = pd.DataFrame(LEV.values , index = Y_.index, \\\n",
        "#              columns = ['LEV'+str(i) for i in range(LEV.shape[1])])\n",
        "# RET_pd = pd.DataFrame(RET, index = Y_.index, \\\n",
        "#              columns = ['RET'+str(i) for i in range(1)])\n",
        "# LIQ_pd = pd.DataFrame(LIQ.values , index = Y_.index, \\\n",
        "#              columns = ['LIQ'+str(i) for i in range(LIQ.shape[1])])\n",
        "# RISK_pd = pd.DataFrame(RISK.values , index = Y_.index, \\\n",
        "#              columns = ['RISK'+str(i) for i in range(RISK.shape[1])])\n",
        "# GRW_pd = pd.DataFrame(GRW.values , index = Y_.index, \\\n",
        "#              columns = ['GRW'+str(i) for i in range(GRW.shape[1])])"
      ],
      "execution_count": null,
      "outputs": []
    },
    {
      "cell_type": "code",
      "metadata": {
        "id": "8YMDVqhqa9W0"
      },
      "source": [
        "# GRW_pd.plot.scatter(x = 'GRW0', y = 'GRW1', marker = '.', alpha = 0.02)\n",
        "#LIQ_pd.plot.scatter(x = 'LIQ0', y = 'LIQ1', marker = '.', alpha = 0.02)\n",
        "# LEV_pd.plot.scatter(x = 'LEV0', y = 'LEV1', marker = '.', alpha = 0.02)"
      ],
      "execution_count": null,
      "outputs": []
    },
    {
      "cell_type": "code",
      "metadata": {
        "id": "fkPFtnXLay6A"
      },
      "source": [
        "# Y_pca = pd.concat([ROC_pd, INV_pd, PRO_pd, LEV_pd, RET_pd, LIQ_pd, RISK_pd, GRW_pd], axis=1)\n",
        "Y_pca = All\n",
        "Y_pca.to_pickle(pth + 'SVM MVO/DATA/WRDS_PCA.pkl')"
      ],
      "execution_count": null,
      "outputs": []
    },
    {
      "cell_type": "code",
      "metadata": {
        "colab": {
          "base_uri": "https://localhost:8080/",
          "height": 447
        },
        "id": "o4qLJo5Oho5b",
        "outputId": "a54fcdfc-b722-44d4-c0c1-125fabfd30a1"
      },
      "source": [
        "Y_pca"
      ],
      "execution_count": null,
      "outputs": [
        {
          "output_type": "execute_result",
          "data": {
            "text/html": [
              "<div>\n",
              "<style scoped>\n",
              "    .dataframe tbody tr th:only-of-type {\n",
              "        vertical-align: middle;\n",
              "    }\n",
              "\n",
              "    .dataframe tbody tr th {\n",
              "        vertical-align: top;\n",
              "    }\n",
              "\n",
              "    .dataframe thead th {\n",
              "        text-align: right;\n",
              "    }\n",
              "</style>\n",
              "<table border=\"1\" class=\"dataframe\">\n",
              "  <thead>\n",
              "    <tr style=\"text-align: right;\">\n",
              "      <th></th>\n",
              "      <th></th>\n",
              "      <th>0</th>\n",
              "      <th>1</th>\n",
              "      <th>2</th>\n",
              "      <th>3</th>\n",
              "      <th>4</th>\n",
              "      <th>5</th>\n",
              "      <th>6</th>\n",
              "    </tr>\n",
              "    <tr>\n",
              "      <th>MonthStart</th>\n",
              "      <th>tic</th>\n",
              "      <th></th>\n",
              "      <th></th>\n",
              "      <th></th>\n",
              "      <th></th>\n",
              "      <th></th>\n",
              "      <th></th>\n",
              "      <th></th>\n",
              "    </tr>\n",
              "  </thead>\n",
              "  <tbody>\n",
              "    <tr>\n",
              "      <th rowspan=\"5\" valign=\"top\">2000-07-01</th>\n",
              "      <th>AAPL</th>\n",
              "      <td>-0.373278</td>\n",
              "      <td>-1.036200</td>\n",
              "      <td>-0.081772</td>\n",
              "      <td>0.106263</td>\n",
              "      <td>0.559171</td>\n",
              "      <td>0.349579</td>\n",
              "      <td>0.471735</td>\n",
              "    </tr>\n",
              "    <tr>\n",
              "      <th>ABC</th>\n",
              "      <td>1.021967</td>\n",
              "      <td>0.256179</td>\n",
              "      <td>-1.040983</td>\n",
              "      <td>0.070460</td>\n",
              "      <td>0.036328</td>\n",
              "      <td>0.616849</td>\n",
              "      <td>-0.046695</td>\n",
              "    </tr>\n",
              "    <tr>\n",
              "      <th>ABMD</th>\n",
              "      <td>1.201335</td>\n",
              "      <td>-0.449091</td>\n",
              "      <td>-0.238241</td>\n",
              "      <td>1.233415</td>\n",
              "      <td>1.041899</td>\n",
              "      <td>0.317774</td>\n",
              "      <td>0.342995</td>\n",
              "    </tr>\n",
              "    <tr>\n",
              "      <th>ABT</th>\n",
              "      <td>-1.113849</td>\n",
              "      <td>-0.709214</td>\n",
              "      <td>-0.807198</td>\n",
              "      <td>0.155243</td>\n",
              "      <td>-0.077059</td>\n",
              "      <td>-0.314460</td>\n",
              "      <td>0.438028</td>\n",
              "    </tr>\n",
              "    <tr>\n",
              "      <th>ADBE</th>\n",
              "      <td>-1.859370</td>\n",
              "      <td>-1.500111</td>\n",
              "      <td>-0.564404</td>\n",
              "      <td>0.075934</td>\n",
              "      <td>-0.244943</td>\n",
              "      <td>0.386917</td>\n",
              "      <td>0.391264</td>\n",
              "    </tr>\n",
              "    <tr>\n",
              "      <th>...</th>\n",
              "      <th>...</th>\n",
              "      <td>...</td>\n",
              "      <td>...</td>\n",
              "      <td>...</td>\n",
              "      <td>...</td>\n",
              "      <td>...</td>\n",
              "      <td>...</td>\n",
              "      <td>...</td>\n",
              "    </tr>\n",
              "    <tr>\n",
              "      <th rowspan=\"5\" valign=\"top\">2020-10-01</th>\n",
              "      <th>XOM</th>\n",
              "      <td>-0.050895</td>\n",
              "      <td>1.099566</td>\n",
              "      <td>0.296506</td>\n",
              "      <td>-0.044299</td>\n",
              "      <td>-1.128066</td>\n",
              "      <td>0.836012</td>\n",
              "      <td>-0.299347</td>\n",
              "    </tr>\n",
              "    <tr>\n",
              "      <th>XRAY</th>\n",
              "      <td>-0.286820</td>\n",
              "      <td>0.542438</td>\n",
              "      <td>0.078353</td>\n",
              "      <td>1.129770</td>\n",
              "      <td>0.434600</td>\n",
              "      <td>0.152256</td>\n",
              "      <td>-0.409161</td>\n",
              "    </tr>\n",
              "    <tr>\n",
              "      <th>XRX</th>\n",
              "      <td>0.199412</td>\n",
              "      <td>1.108638</td>\n",
              "      <td>-0.148833</td>\n",
              "      <td>0.412655</td>\n",
              "      <td>0.063616</td>\n",
              "      <td>0.845910</td>\n",
              "      <td>-0.314901</td>\n",
              "    </tr>\n",
              "    <tr>\n",
              "      <th>YUM</th>\n",
              "      <td>-0.864787</td>\n",
              "      <td>-0.222001</td>\n",
              "      <td>-0.530587</td>\n",
              "      <td>0.139908</td>\n",
              "      <td>1.099483</td>\n",
              "      <td>-0.620762</td>\n",
              "      <td>-0.252945</td>\n",
              "    </tr>\n",
              "    <tr>\n",
              "      <th>ZBRA</th>\n",
              "      <td>-0.411947</td>\n",
              "      <td>-0.541825</td>\n",
              "      <td>-0.832081</td>\n",
              "      <td>0.066746</td>\n",
              "      <td>-0.228308</td>\n",
              "      <td>-0.544825</td>\n",
              "      <td>-0.450392</td>\n",
              "    </tr>\n",
              "  </tbody>\n",
              "</table>\n",
              "<p>69784 rows × 7 columns</p>\n",
              "</div>"
            ],
            "text/plain": [
              "                        0         1         2  ...         4         5         6\n",
              "MonthStart tic                                 ...                              \n",
              "2000-07-01 AAPL -0.373278 -1.036200 -0.081772  ...  0.559171  0.349579  0.471735\n",
              "           ABC   1.021967  0.256179 -1.040983  ...  0.036328  0.616849 -0.046695\n",
              "           ABMD  1.201335 -0.449091 -0.238241  ...  1.041899  0.317774  0.342995\n",
              "           ABT  -1.113849 -0.709214 -0.807198  ... -0.077059 -0.314460  0.438028\n",
              "           ADBE -1.859370 -1.500111 -0.564404  ... -0.244943  0.386917  0.391264\n",
              "...                   ...       ...       ...  ...       ...       ...       ...\n",
              "2020-10-01 XOM  -0.050895  1.099566  0.296506  ... -1.128066  0.836012 -0.299347\n",
              "           XRAY -0.286820  0.542438  0.078353  ...  0.434600  0.152256 -0.409161\n",
              "           XRX   0.199412  1.108638 -0.148833  ...  0.063616  0.845910 -0.314901\n",
              "           YUM  -0.864787 -0.222001 -0.530587  ...  1.099483 -0.620762 -0.252945\n",
              "           ZBRA -0.411947 -0.541825 -0.832081  ... -0.228308 -0.544825 -0.450392\n",
              "\n",
              "[69784 rows x 7 columns]"
            ]
          },
          "metadata": {},
          "execution_count": 18
        }
      ]
    },
    {
      "cell_type": "code",
      "metadata": {
        "id": "Obr8UyrZT1fM"
      },
      "source": [
        ""
      ],
      "execution_count": null,
      "outputs": []
    }
  ]
}