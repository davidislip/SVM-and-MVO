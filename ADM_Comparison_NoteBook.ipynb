{
  "cells": [
    {
      "cell_type": "markdown",
      "metadata": {
        "id": "view-in-github",
        "colab_type": "text"
      },
      "source": [
        "<a href=\"https://colab.research.google.com/github/davidislip/SVM-and-MVO/blob/main/ADM_Comparison_NoteBook.ipynb\" target=\"_parent\"><img src=\"https://colab.research.google.com/assets/colab-badge.svg\" alt=\"Open In Colab\"/></a>"
      ]
    },
    {
      "cell_type": "markdown",
      "metadata": {
        "id": "MqN_y29M6YR8"
      },
      "source": [
        "# Integration of SVM and MVO \n",
        "\n",
        "A previous notebook attempted computational experiments with the following MIP formulation. \n",
        "$$\n",
        "\\begin{align} \n",
        "\\min_{x, z, w, b} \\quad & x^{\\intercal}\\Sigma x + \\frac{1}{2}||{w}||^2 + \\sum_{i=1}^N g(\\xi_i)&\\\\ \n",
        "\\textrm{s.t.} \\quad & \\mu^\\intercal x  \\geq \\bar{R}, \\quad \\sum_i z_i \\leq N \\\\\n",
        "\\quad & x_i \\leq z_i \\quad &\\forall i = 1,2,...,N \\\\\n",
        "              \\quad & y_i^{\\intercal} w + b \\leq M z_i - \\epsilon + \\xi_i \\quad & \\forall i = 1,2,...,N \\\\\n",
        "              \\quad & -M(1-z_i) + \\epsilon - \\xi_i \\leq  y_i^{\\intercal} w + b \\quad &\\forall i = 1,2,...,N \\\\\n",
        "              \\quad & x \\in \\mathcal{C} \\quad z \\in \\{0,1\\}^N  \\quad  w \\in \\mathbb{R}^m \\quad \\xi \\geq 0& \\\\\n",
        "\\end{align} \n",
        "$$\n",
        "\n",
        "with g as $C \\xi/N$ where $C$ is a hyperparameter. It was found that directly solving the MIP above proved too computationally expensive. It would take over 24 hours to perform the ~20 years of monthly rebalancing experiments. The length of time required for a single MIP solve was also sensitive to the value of $m$. To address the computational expensiveness of solving the MIP in a  brute force fashion, I propose a penalized alternating direction method. \n"
      ]
    },
    {
      "cell_type": "markdown",
      "metadata": {
        "id": "w4mC7QWYiTHZ"
      },
      "source": [
        "## General Alternating Direction Methods \n",
        "\n",
        "####The description below is adapted primarily from \"An Alternating Method for Cardinality-Constrained...\" by Costa et. al. \n",
        "\n",
        "Consider the following problem:\n",
        "\n",
        "$$\n",
        "\\begin{align} \n",
        "\\min_{u, v} \\quad & f(u, v)&\\\\ \n",
        "\\textrm{s.t.} \\quad & g(u,v) = 0, \\quad h(u, v) \\geq 0 \\\\\n",
        "\\quad & u \\in \\mathcal{U} \\subseteq \\mathbb{R}^{n_u}, \\quad v \\in \\mathcal{V}  \\subseteq \\mathbb{R}^{n_v} \\\\\n",
        "\\end{align} \n",
        "$$\n",
        "\n",
        "A standard alternating direction method (ADM) does the following:\n",
        "\n",
        "1. Choose initial value $(u^0, v^0) \\in \\mathcal{U} \\times \\mathcal{V}$ and $l=0$\n",
        "2. While not converged \n",
        "\n",
        "  2.1 Compute $u^{l+1} \\in \\text{argmin}\\ \\{  f(u,v^l): g(u, v^l) = 0, h(u,v^l) \\geq 0, u \\in \\mathcal{U} \\ \\}$\n",
        "\n",
        "  2.2 Compute $v^{l+1} \\in \\text{argmin}\\ \\{  f(u^{l+1},v): g(u^{l+1}, v) = 0, h(u^{l+1},v) \\geq 0, v \\in \\mathcal{V} \\ \\}$\n",
        "\n",
        "  2.3 $l \\leftarrow l + 1$\n",
        "\n",
        "Costa et al. then propose the use of a penalty function - variant of the ADM, whereby the coupling constraints induced by $h$ and $g$ are penalized in the objective as follows:\n",
        "\n",
        "$$\n",
        "\\phi(u,v; \\mu,  \\rho) = f(u,v) + \\sum_i \\mu_i |g_i(u,v)| + \\sum_j \\rho_i [h_i(u,v)]^-\n",
        "$$\n",
        "\n",
        "where $\\rho $ and $\\mu$ denote the penalty parameters of the equality and inequality constraints. The penalized alternating direction method algorithm is nearly identical to the ADM; however, if the constraints are not satisfied at the end of the iterations, then the penalty parameters are increased, and the iteration is restarted. \n",
        "\n",
        "In the case of integrating support vector machines and mean-variance optimization, one formulation is as follows:\n",
        "\n",
        "$$\n",
        "\\begin{align} \n",
        "\\min_{x, z, w, b} \\quad & x^{\\intercal}\\Sigma x + \\frac{1}{2}||{w}||^2 &\\\\ \n",
        "\\textrm{s.t.} \\quad & \\mu^\\intercal x  \\geq \\bar{R}, \\quad \\sum_{i} z_i \\leq N_l\\\\\n",
        "\\quad & x_i \\leq z_i \\quad &\\forall i = 1,2,...,N \\\\\n",
        "              \\quad & y_i^{\\intercal} w + b \\leq M z_i - \\epsilon \\quad & \\forall i = 1,2,...,N  \\ (A)\\\\\n",
        "              \\quad & -M(1-z_i) + \\epsilon \\leq  y_i^{\\intercal} w + b \\quad &\\forall i = 1,2,...,N\\  (B)\\\\\n",
        "              \\quad & x \\in \\mathcal{C} \\quad z \\in \\{0,1\\}^N & \\\\\n",
        "\\end{align} \n",
        "$$\n",
        "However, both constraints A and B can be replaced by the non-linear complementary constraint formulation:\n",
        "\n",
        "$$(2 z_i - 1)(y_i^{\\intercal} w + b) \\geq \\epsilon \\quad i = 1,2,...,N$$\n",
        "\n",
        "Although the constraint above is non-linear and non-convex, it decomposes into a simple linear constraint for each sub-problem when applying the alternating direction method.\n",
        "\n",
        "\n",
        "Setting $u = (x, z)$ and $v = (w, b)$, the nominal problem becomes minimizing  $ f(u,v) = x^{\\intercal} \\Sigma x + \\frac{1}{2} ||w||^2$ with \n",
        "\n",
        "$\\mathcal{U} = \\{(x,z) \\in \\mathbb{R}^N \\times \\{0,1\\}^N \\ | \\ \\mu^{\\intercal} x \\geq R,\\  \\mathbf{1}^{\\intercal}x = 1,\\  z_i= 1 \\iff x_i > 0,\\  \\mathbf{1}^{\\intercal} z \\leq N_L \\}$ \n",
        "\n",
        "and\n",
        "\n",
        " $\\mathcal{V} = \\{(w,b) \\in \\mathbb{R}^{m+1} \\}$\n",
        "\n",
        "and lastly, $h_i(u,v) = (2 z_i - 1)(y_i^{\\intercal} w + b) - \\epsilon$. Introducing the slack variables $\\xi_i \\geq 0 $ into the complementary constraint\n",
        "\n",
        "$$(2 z_i - 1)(y_i^{\\intercal} w + b) \\geq \\epsilon - \\xi_i \\quad i = 1,2,...,N$$\n",
        "\n",
        "implies $[h_i(u,v)]^- = \\xi_i(x, z, w, b)$ and that the penalty objective $\\phi = x^{\\intercal} \\Sigma x + \\frac{1}{2} ||w||^2 + \\sum_{i} \\mu_i \\xi_i$ \n",
        "\n",
        "## Implementation ⌨\n",
        "\n",
        "Given the previous iteration's SVM sub-problem results: ($w^l$, $b^l$), to obtain $x^{l+1}, z^{l+1}$ one solves $\\min_{x, z}\\ \\{ x^{\\intercal} \\Sigma x  + \\sum_{i} \\mu_i \\xi_i : \\ \\xi_i \\geq 1 - (2z_i - 1)(y^{\\intercal}w^{l} + b^l),\\  (x, z) \\in \\mathcal{U} \\ \\}$\n",
        "\n",
        "After computing $x^{l+1}, z^{l+1}$  it follows that $w^{l+1}, b^{l+1}$ are computed by solving $\\min_{w, b}\\ \\{ \\frac{1}{2} || w||^2 +  \\sum_{i} \\mu_i \\xi_i : \\ \\xi_i \\geq 1 - (2z^{l+1}_i - 1)(y^{\\intercal}w + b),\\  (w, b) \\in \\mathcal{V} \\ \\}$\n",
        "\n",
        "In the implementation in this notebook, $\\mu_i = C/N$ for a \"large\" C and the outer loop of incrementally increasing $\\mu_i$ is not included. This is because it is possible that for a given return constraint, there may exist no portfolios with a support vector that linearly separates the assets. Therefore a significant preference for linearly separable portfolios should suffice. Furthermore, the two subproblems defined above avoid big M constraints, and are optimized more simply than the full formulation.\n",
        "\n",
        "## Results from this notebook ⚡\n",
        "\n",
        "* ADM method solves the min variance integrated SVM problem in approx 2.5 seconds, whereas the exact branch and bound MIP solver takes approx. 240 seconds for N = 286 assets and m = 3 factors used for the SVM decision boundary.\n",
        "* The two solution methods have a max difference between the resulting portfolios of approximately 3%\n"
      ]
    },
    {
      "cell_type": "code",
      "execution_count": 1,
      "metadata": {
        "colab": {
          "base_uri": "https://localhost:8080/"
        },
        "id": "l3fEvFDq6PgZ",
        "outputId": "ae15ebc1-a3ac-4b6d-ffa0-4566a90a886f"
      },
      "outputs": [
        {
          "output_type": "stream",
          "name": "stdout",
          "text": [
            "Collecting gurobipy==9.1.2\n",
            "  Downloading gurobipy-9.1.2-cp37-cp37m-manylinux1_x86_64.whl (11.1 MB)\n",
            "\u001b[K     |████████████████████████████████| 11.1 MB 4.2 MB/s \n",
            "\u001b[?25hInstalling collected packages: gurobipy\n",
            "Successfully installed gurobipy-9.1.2\n",
            "Mounted at /content/gdrive\n"
          ]
        }
      ],
      "source": [
        "!sudo python -m pip install gurobipy==9.1.2\n",
        "import gurobipy as gp\n",
        "from gurobipy import GRB\n",
        "from google.colab import drive \n",
        "import math\n",
        "import time\n",
        "drive.mount('/content/gdrive')\n",
        "pth = 'gdrive/My Drive/Colab Notebooks/'\n",
        "import sys\n",
        "sys.path.append(pth + 'SVM MVO/PYFILES/')\n",
        "from packages import *\n",
        "#from svm_mvo import *\n",
        "%matplotlib inline\n",
        "\n",
        "## Import Forecasts\n",
        "forecasts = pd.read_pickle(pth +'SVM MVO/DATA/Forecasts.pkl')\n",
        "## Import Returns\n",
        "rets = pd.read_pickle(pth + 'SVM MVO/DATA/RETS.pkl')\n",
        "## Import feature vectors\n",
        "wrds_svm = pd.read_pickle(pth + 'SVM MVO/DATA/WRDS_ASOF.pkl')\n",
        "wrds_svm_pca = pd.read_pickle(pth + 'SVM MVO/DATA/WRDS_PCA.pkl')\n",
        "wrds_svm_pca['Momentum'] = wrds_svm.Momentum\n",
        "## Import Monthly Prices\n",
        "prices = pd.read_pickle(pth + 'SVM MVO/DATA/PRICES.pkl')"
      ]
    },
    {
      "cell_type": "code",
      "execution_count": 11,
      "metadata": {
        "colab": {
          "base_uri": "https://localhost:8080/"
        },
        "id": "knc5ipCyNDrK",
        "outputId": "8fa11d87-a0d3-49fc-bf89-c038c7840fdf"
      },
      "outputs": [
        {
          "output_type": "stream",
          "name": "stdout",
          "text": [
            "Changed value of parameter WLSACCESSID\n",
            "Changed value of parameter LICENSEID\n",
            "Changed value of parameter WLSSECRET\n",
            "\n",
            "--------------------------------------------\n",
            "Warning: your license will expire in 4 days\n",
            "--------------------------------------------\n",
            "\n",
            "info  : grbgetkey version 9.1.2, build v9.1.1rc0-30-g8af970cb\n",
            "info  : Contacting Gurobi license server...\n",
            "info  : License file for license ID 726787 was successfully retrieved\n",
            "info  : License expires at the end of the day on 2022-01-13\n",
            "info  : Saving license file...\n",
            "\n",
            "In which directory would you like to store the Gurobi license file?\n",
            "[hit Enter to store it in /opt/gurobi]: \n",
            "\n",
            "info  : License 726787 written to file /opt/gurobi/gurobi.lic\n",
            "\n",
            "--------------------------------------------\n",
            "Warning: your license will expire in 4 days\n",
            "--------------------------------------------\n",
            "\n",
            "Academic license - for non-commercial use only - expires 2022-01-13\n",
            "Using license file /opt/gurobi/gurobi.lic\n"
          ]
        }
      ],
      "source": [
        "try:\n",
        "  e = gp.Env(empty=True)\n",
        "  #e.setParam('OutputFlag', 0)\n",
        "  gurobi_licence = pd.read_csv(pth +'SVM MVO/DATA/gurobi.csv')\n",
        "  e.setParam('WLSACCESSID', gurobi_licence.WLSACCESSID[0])\n",
        "  e.setParam('LICENSEID', gurobi_licence.LICENSEID[0])\n",
        "  e.setParam('WLSSECRET', gurobi_licence.WLSSECRET[0])\n",
        "  e.start()\n",
        "except: \n",
        "  !chmod 755 /content/gdrive/My\\ Drive/Colab\\ Notebooks/SVM\\ MVO/gurobi/grbgetkey\n",
        "  !/content/gdrive/My\\ Drive/Colab\\ Notebooks/SVM\\ MVO/gurobi/grbgetkey 2d15bcec-464e-11ec-8a74-0242ac120003\n",
        "  e = gp.Env(empty=True)\n",
        "  #chmod 755 grbgetkey\n",
        "  e.start()"
      ]
    },
    {
      "cell_type": "code",
      "execution_count": 12,
      "metadata": {
        "colab": {
          "base_uri": "https://localhost:8080/",
          "height": 294
        },
        "id": "u55WrJvFHZxg",
        "outputId": "c76e3995-ad8c-402e-c64c-2dc3145b98aa"
      },
      "outputs": [
        {
          "output_type": "stream",
          "name": "stdout",
          "text": [
            "Changed value of parameter WLSACCESSID\n",
            "Changed value of parameter LICENSEID\n",
            "Changed value of parameter WLSSECRET\n",
            "\n",
            "--------------------------------------------\n",
            "Warning: your license will expire in 4 days\n",
            "--------------------------------------------\n",
            "\n",
            "\n",
            "--------------------------------------------\n",
            "Warning: your license will expire in 4 days\n",
            "--------------------------------------------\n",
            "\n",
            "Academic license - for non-commercial use only - expires 2022-01-13\n",
            "Using license file /opt/gurobi/gurobi.lic\n"
          ]
        },
        {
          "output_type": "display_data",
          "data": {
            "text/plain": [
              "<Figure size 432x288 with 0 Axes>"
            ]
          },
          "metadata": {}
        }
      ],
      "source": [
        "%run /content/gdrive/My\\ Drive/Colab\\ Notebooks/SVM\\ MVO/PYFILES/svm_mvo.py"
      ]
    },
    {
      "cell_type": "code",
      "execution_count": 13,
      "metadata": {
        "colab": {
          "base_uri": "https://localhost:8080/",
          "height": 282
        },
        "id": "cbpLLqRnGL07",
        "outputId": "d47085c2-15d1-433c-8c53-a24dc683f140"
      },
      "outputs": [
        {
          "output_type": "execute_result",
          "data": {
            "text/plain": [
              "[<matplotlib.lines.Line2D at 0x7f4b0a4cc290>]"
            ]
          },
          "metadata": {},
          "execution_count": 13
        },
        {
          "output_type": "display_data",
          "data": {
            "image/png": "[encoded data removed]",
            "text/plain": [
              "<Figure size 432x288 with 1 Axes>"
            ]
          },
          "metadata": {
            "needs_background": "light"
          }
        }
      ],
      "source": [
        "plt.plot(2000*0.5**(10 - np.arange(10)-1), '.')"
      ]
    },
    {
      "cell_type": "code",
      "execution_count": 15,
      "metadata": {
        "colab": {
          "base_uri": "https://localhost:8080/"
        },
        "id": "5NswPR4F6Wvy",
        "outputId": "37297ccf-49db-4ad3-a413-a9d5b03e5f90"
      },
      "outputs": [
        {
          "output_type": "execute_result",
          "data": {
            "text/plain": [
              "Timestamp('2000-07-01 00:00:00')"
            ]
          },
          "metadata": {},
          "execution_count": 15
        }
      ],
      "source": [
        "mth = rets.index[0]\n",
        "mth"
      ]
    },
    {
      "cell_type": "code",
      "execution_count": 110,
      "metadata": {
        "colab": {
          "base_uri": "https://localhost:8080/"
        },
        "id": "nYBpVMDbM5Pi",
        "outputId": "57f71f0c-7242-42e5-9640-972ed615d796"
      },
      "outputs": [
        {
          "output_type": "stream",
          "name": "stdout",
          "text": [
            "valid tickers: ['AAPL', 'ABC', 'ABMD', 'ABT', 'ADBE', 'ADI', 'ADM', 'ADP', 'ADSK', 'AEE', 'AEP', 'AES', 'AJG', 'AKAM', 'ALB', 'ALK', 'AMAT', 'AMD', 'AME', 'AMGN', 'AMT', 'AMZN', 'ANSS', 'AON', 'AOS', 'APA', 'APD', 'APH', 'ATO', 'AVY', 'AZO', 'BA', 'BAX', 'BBY', 'BDX', 'BKNG', 'BLL', 'BMY', 'BSX', 'BWA', 'CAG', 'CAH', 'CAT', 'CCI', 'CCL', 'CDNS', 'CERN', 'CHD', 'CHRW', 'CI', 'CL', 'CLX', 'CMCSA', 'CMI', 'CMS', 'CNP', 'COO', 'COP', 'COST', 'CPB', 'CPRT', 'CSCO', 'CSX', 'CTAS', 'CTSH', 'CTXS', 'CVS', 'CVX', 'D', 'DD', 'DGX', 'DHR', 'DIS', 'DISH', 'DLTR', 'DOV', 'DRI', 'DTE', 'DUK', 'DVA', 'DVN', 'DXC', 'EA', 'EBAY', 'ECL', 'ED', 'EFX', 'EIX', 'EL', 'EMN', 'EMR', 'EOG', 'ES', 'ETN', 'ETR', 'EVRG', 'EXC', 'EXPD', 'F', 'FAST', 'FCX', 'FDX', 'FE', 'FFIV', 'FISV', 'FLS', 'FMC', 'GD', 'GIS', 'GLW', 'GPC', 'GPS', 'GWW', 'HAL', 'HAS', 'HD', 'HES', 'HFC', 'HOG', 'HOLX', 'HON', 'HP', 'HPQ', 'HRB', 'HRL', 'HSIC', 'HSY', 'HUM', 'IBM', 'IDXX', 'IEX', 'IFF', 'INCY', 'INTC', 'INTU', 'IP', 'IPG', 'IRM', 'IT', 'ITW', 'IVZ', 'J', 'JBHT', 'JCI', 'JKHY', 'JNJ', 'JNPR', 'JWN', 'K', 'KLAC', 'KMB', 'KMX', 'KO', 'KR', 'KSS', 'KSU', 'LEG', 'LH', 'LHX', 'LIN', 'LLY', 'LMT', 'LNT', 'LOW', 'LRCX', 'LUV', 'M', 'MAR', 'MAS', 'MCD', 'MCHP', 'MCK', 'MCO', 'MDT', 'MGM', 'MHK', 'MKC', 'MLM', 'MMC', 'MMM', 'MO', 'MRK', 'MRO', 'MSFT', 'MSI', 'MTD', 'MU', 'MXIM', 'NEE', 'NEM', 'NI', 'NKE', 'NLOK', 'NOC', 'NOV', 'NSC', 'NTAP', 'NUE', 'NVDA', 'NWL', 'OMC', 'ORCL', 'ORLY', 'OXY', 'PAYX', 'PEG', 'PEP', 'PFE', 'PG', 'PH', 'PKI', 'PNR', 'PNW', 'PPG', 'PPL', 'PRGO', 'PVH', 'PWR', 'PXD', 'QCOM', 'RCL', 'REGN', 'RHI', 'RL', 'RMD', 'ROK', 'ROL', 'ROP', 'ROST', 'RSG', 'RTX', 'SBAC', 'SBUX', 'SEE', 'SHW', 'SJM', 'SLB', 'SNA', 'SNPS', 'SO', 'SPGI', 'SRE', 'STE', 'STZ', 'SWK', 'SWKS', 'SYK', 'SYY', 'T', 'TAP', 'TFX', 'TGT', 'TJX', 'TMO', 'TSCO', 'TSN', 'TT', 'TXN', 'TXT', 'UHS', 'UNH', 'UNP', 'URI', 'VFC', 'VLO', 'VMC', 'VRSN', 'VRTX', 'VZ', 'WAB', 'WAT', 'WBA', 'WDC', 'WEC', 'WHR', 'WM', 'WMB', 'WMT', 'WY', 'XEL', 'XLNX', 'XOM', 'XRAY', 'XRX', 'YUM', 'ZBRA']\n"
          ]
        }
      ],
      "source": [
        "#convenient function\n",
        "sign = lambda a: int((a>0)) - int((a<0))\n",
        "\n",
        "#preprocessing \n",
        "cov_, mean_ = forecasts[mth]\n",
        "N = len(mean_)\n",
        "cov = cov_[:N,:N] \n",
        "mean = mean_[:N,:]\n",
        "tics = list(rets.columns[:N])\n",
        "print(\"valid tickers:\", tics)\n",
        "\n",
        "#get the wharton research data for the valid tickers for the month\n",
        "wrds_tics = wrds_svm[wrds_svm.index.get_level_values('tic').isin(tics)].xs(mth, level=\"MonthStart\")\n",
        "Y = wrds_tics # Y matrix in formulation \n",
        "\n",
        "#Y['Momentum'] = wrds_tics.Momentum\n",
        "#restrict the wharton research data to the columns of interest\n",
        "Y_ =  (Y - Y.mean(axis=0))/(Y.std(axis=0)) #scale the features \n",
        "Y_ = Y_[['LEV1', 'GRW1']]\n",
        "cols = Y.columns.tolist() #use all the columns for this formulation\n",
        "AssetLim = math.floor(N*0.8)\n",
        "ret_constr = -1\n",
        "soft_margin = 1000\n",
        "dpi_setting = 150"
      ]
    },
    {
      "cell_type": "markdown",
      "metadata": {
        "id": "K7you9bPfMGK"
      },
      "source": [
        "### Mean Variance and SVM Joint Using Alternating Directions Method Class Definition\n",
        "\n",
        "The SVM_MVO_ADM objective does not require feasibility. Where as the other algorithm SVM_MVO_ADM_v2 does a random perturbation if it stalls at an infeasible point. "
      ]
    },
    {
      "cell_type": "code",
      "execution_count": 111,
      "metadata": {
        "colab": {
          "base_uri": "https://localhost:8080/"
        },
        "id": "0lHbqvBLqfkO",
        "outputId": "a6aefb5d-00c6-4b92-bc0f-ddef639a6ca0"
      },
      "outputs": [
        {
          "output_type": "stream",
          "name": "stdout",
          "text": [
            "Changed value of parameter MIPGap to 0.05\n",
            "   Prev: 0.0001  Min: 0.0  Max: inf  Default: 0.0001\n",
            "Changed value of parameter timelimit to 60.0\n",
            "   Prev: inf  Min: 0.0  Max: inf  Default: inf\n",
            "Changed value of parameter timelimit to 60.0\n",
            "   Prev: inf  Min: 0.0  Max: inf  Default: inf\n",
            "Initialization successful\n",
            "Solution time 61.33656597137451\n"
          ]
        }
      ],
      "source": [
        "MVO_ = MVO(tics, mean, cov, ret_constr, Y_, AssetLim)\n",
        "SVM_ = SVM(tics, Y_ , soft_margin, non_neg = True)\n",
        "SVM_MVO_Fast = SVM_MVO_ADM(MVO_, SVM_, IterLim = 10, ParamLim = 15)\n",
        "SVM_MVO_Fast.MVO_.model.params.MIPGap = 0.05 \n",
        "SVM_MVO_Fast.MVO_.model.params.timelimit = 60 \n",
        "SVM_MVO_Fast.SVM_.model.params.timelimit = 60\n",
        "SVM_MVO_Fast.MVO_.model.params.OutputFlag = 0\n",
        "SVM_MVO_Fast.SVM_.model.params.OutputFlag = 0\n",
        "start = time.time()\n",
        "SVM_MVO_Fast.initialize_soln()\n",
        "print(\"Initialization successful\")\n",
        "ws , xs, zs , xi_mvo, xi_svm, dt, objs_svm, objs_mvo = SVM_MVO_Fast.solve_ADM()\n",
        "end = time.time()\n",
        "print(\"Solution time\", end - start)"
      ]
    },
    {
      "cell_type": "markdown",
      "metadata": {
        "id": "KkuQOko4eqM0"
      },
      "source": [
        "### ADM method with individual updates on the penalty parameters"
      ]
    },
    {
      "cell_type": "code",
      "execution_count": 112,
      "metadata": {
        "colab": {
          "base_uri": "https://localhost:8080/"
        },
        "id": "YMdmVDm9pkyo",
        "outputId": "364cbf1d-dc8f-46d5-9e58-568d77d94c95"
      },
      "outputs": [
        {
          "output_type": "stream",
          "name": "stdout",
          "text": [
            "Changed value of parameter MIPGap to 0.05\n",
            "   Prev: 0.0001  Min: 0.0  Max: inf  Default: 0.0001\n",
            "Changed value of parameter timelimit to 60.0\n",
            "   Prev: inf  Min: 0.0  Max: inf  Default: inf\n",
            "Stalling at Infeasible Point\n",
            "SVM  0.28013872687987423\n",
            "MVO  0.28013742900763083\n",
            "Stalling at Infeasible Point\n",
            "SVM  0.006051306960750204\n",
            "MVO  0.006051283062112386\n",
            "Stalling at Infeasible Point\n",
            "SVM  3.126222944505671e-05\n",
            "MVO  3.126221156435349e-05\n",
            "ADM terminated with average value of C =  5258.584829477163\n",
            "Solution time 93.35381722450256\n"
          ]
        }
      ],
      "source": [
        "MVO_2 = MVO(tics, mean, cov, ret_constr, Y_, AssetLim)\n",
        "SVM_2 = SVM(tics, Y_ , soft_margin*np.ones_like(mean), non_neg = True)\n",
        "\n",
        "SVM_MVO_Fast_v2 = SVM_MVO_ADM_v2(MVO_2, SVM_2, IterLim = 10, ParamLim = 15)\n",
        "SVM_MVO_Fast_v2.MVO_.model.params.MIPGap = 0.05 \n",
        "SVM_MVO_Fast.MVO_.model.params.timelimit = 60 \n",
        "SVM_MVO_Fast_v2.SVM_.model.params.timelimit = 60\n",
        "SVM_MVO_Fast_v2.MVO_.model.params.OutputFlag = 0\n",
        "SVM_MVO_Fast_v2.SVM_.model.params.OutputFlag = 0\n",
        "start = time.time()\n",
        "SVM_MVO_Fast_v2.initialize_soln()\n",
        "ws_2, xs_2, zs_2 , xi_mvo_2, xi_svm_2, dt_2, objs_svm_2, objs_mvo_2 = SVM_MVO_Fast_v2.solve_ADM()\n",
        "end = time.time()\n",
        "print(\"Solution time\", end - start)"
      ]
    },
    {
      "cell_type": "code",
      "execution_count": 126,
      "metadata": {
        "colab": {
          "base_uri": "https://localhost:8080/"
        },
        "id": "VVZ9OwYlcV6Z",
        "outputId": "242e2b52-7d6c-46fb-8c3a-4535be2654c8"
      },
      "outputs": [
        {
          "output_type": "execute_result",
          "data": {
            "text/plain": [
              "0.002945049840712521"
            ]
          },
          "metadata": {},
          "execution_count": 126
        }
      ],
      "source": [
        "SVM_MVO_Fast.objective_svm[0]"
      ]
    },
    {
      "cell_type": "code",
      "execution_count": 114,
      "metadata": {
        "colab": {
          "base_uri": "https://localhost:8080/",
          "height": 297
        },
        "id": "FADQebGxYHBI",
        "outputId": "0d5726d7-28fe-49ea-ca3c-fe44dd98f673"
      },
      "outputs": [
        {
          "output_type": "display_data",
          "data": {
            "image/png": "[encoded data removed]",
            "text/plain": [
              "<Figure size 432x288 with 1 Axes>"
            ]
          },
          "metadata": {
            "needs_background": "light"
          }
        }
      ],
      "source": [
        "plt.plot(ws, \".-\");\n",
        "plt.xlabel(\"Iteration #\")\n",
        "plt.ylabel(\"$\\mathbf{w}$\")\n",
        "plt.title(\"Components of $\\mathbf{w}$ by iteration\");\n",
        "plt.tight_layout()                                                                           \n",
        "plt.savefig(pth+\"SVM MVO/Images/p4.png\",dpi = dpi_setting)"
      ]
    },
    {
      "cell_type": "code",
      "execution_count": 115,
      "metadata": {
        "colab": {
          "base_uri": "https://localhost:8080/",
          "height": 297
        },
        "id": "_RlPDK7iYNqg",
        "outputId": "474dd5ed-ae3d-4167-ad89-d85d3a2fcef4"
      },
      "outputs": [
        {
          "output_type": "display_data",
          "data": {
            "image/png": "[encoded data removed]",
            "text/plain": [
              "<Figure size 432x288 with 1 Axes>"
            ]
          },
          "metadata": {
            "needs_background": "light"
          }
        }
      ],
      "source": [
        "pd.DataFrame(xs).diff(\\\n",
        "                      ).abs().sum(axis = 1).iloc[1:].plot(xlabel = \"Iteration k\",\\\n",
        "                                                          ylabel = \"||$\\mathbf{x}^k - \\mathbf{x}^{k-1}$||\",\\\n",
        "                                                          title = \"Convergence of $\\mathbf{x}$\");\n",
        "plt.tight_layout()                                                                           \n",
        "plt.savefig(pth+\"SVM MVO/Images/p5.png\",dpi = dpi_setting)"
      ]
    },
    {
      "cell_type": "code",
      "execution_count": 116,
      "metadata": {
        "colab": {
          "base_uri": "https://localhost:8080/",
          "height": 1000
        },
        "id": "DWiP8KYDpCsV",
        "outputId": "e4e3c4ab-14c5-4304-b504-f0c8050024ae"
      },
      "outputs": [
        {
          "output_type": "stream",
          "name": "stdout",
          "text": [
            "xi for SVM as a function of iteration number\n",
            "0     0.280138\n",
            "1     0.280140\n",
            "2     0.280140\n",
            "3     0.280138\n",
            "4     0.280138\n",
            "5     0.280139\n",
            "6     0.280139\n",
            "7     0.042277\n",
            "8     0.016563\n",
            "9     0.016563\n",
            "10    0.016563\n",
            "11    0.013585\n",
            "12    0.013585\n",
            "13    0.013585\n",
            "14    0.011726\n",
            "15    0.011726\n",
            "16    0.011726\n",
            "17    0.010412\n",
            "18    0.010412\n",
            "19    0.010412\n",
            "20    0.008738\n",
            "21    0.008738\n",
            "22    0.008738\n",
            "23    0.007220\n",
            "24    0.007220\n",
            "25    0.007220\n",
            "26    0.005746\n",
            "27    0.005746\n",
            "28    0.005746\n",
            "29    0.005463\n",
            "30    0.005463\n",
            "31    0.005328\n",
            "32    0.005328\n",
            "33    0.003261\n",
            "34    0.003261\n",
            "35    0.003261\n",
            "36    0.003073\n",
            "37    0.003073\n",
            "38    0.003073\n",
            "39    0.002523\n",
            "40    0.002523\n",
            "dtype: float64\n",
            "xi for MVO as a function of iteration number\n",
            "0     0.000000\n",
            "1     0.280137\n",
            "2     0.280137\n",
            "3     0.280137\n",
            "4     0.280137\n",
            "5     0.280137\n",
            "6     0.280137\n",
            "7     0.249995\n",
            "8     0.023869\n",
            "9     0.016562\n",
            "10    0.016562\n",
            "11    0.016562\n",
            "12    0.013585\n",
            "13    0.013585\n",
            "14    0.013585\n",
            "15    0.011726\n",
            "16    0.011726\n",
            "17    0.011726\n",
            "18    0.010412\n",
            "19    0.010412\n",
            "20    0.010412\n",
            "21    0.008738\n",
            "22    0.008738\n",
            "23    0.008738\n",
            "24    0.007220\n",
            "25    0.007220\n",
            "26    0.007220\n",
            "27    0.005746\n",
            "28    0.005746\n",
            "29    0.005746\n",
            "30    0.005746\n",
            "31    0.005463\n",
            "32    0.005463\n",
            "33    0.005017\n",
            "34    0.003261\n",
            "35    0.003261\n",
            "36    0.003261\n",
            "37    0.003073\n",
            "38    0.003073\n",
            "39    0.003073\n",
            "40    0.002523\n",
            "dtype: float64\n",
            "These two series should converge to the same thing\n"
          ]
        },
        {
          "output_type": "display_data",
          "data": {
            "image/png": "[encoded data removed]",
            "text/plain": [
              "<Figure size 432x288 with 1 Axes>"
            ]
          },
          "metadata": {
            "needs_background": "light"
          }
        }
      ],
      "source": [
        "print(\"xi for SVM as a function of iteration number\")\n",
        "print(pd.DataFrame(xi_svm).sum(axis = 1))\n",
        "print(\"xi for MVO as a function of iteration number\")\n",
        "print(pd.DataFrame(xi_mvo).sum(axis = 1))\n",
        "print(\"These two series should converge to the same thing\")\n",
        "plt.plot(xi_svm[1:,:].sum(axis = 1));\n",
        "plt.plot(xi_mvo[1:,:].sum(axis = 1));"
      ]
    },
    {
      "cell_type": "code",
      "execution_count": 117,
      "metadata": {
        "colab": {
          "base_uri": "https://localhost:8080/"
        },
        "id": "1v71xA26BMhg",
        "outputId": "938929e3-e881-4e75-a412-5d7df87fc2c6"
      },
      "outputs": [
        {
          "output_type": "execute_result",
          "data": {
            "text/plain": [
              "array([], dtype=float64)"
            ]
          },
          "metadata": {},
          "execution_count": 117
        }
      ],
      "source": [
        "#is there non separability\n",
        "#check the last iteration xis\n",
        "xi_mvo_2[-1][xi_mvo_2[-1] > 0.0001]"
      ]
    },
    {
      "cell_type": "code",
      "execution_count": 118,
      "metadata": {
        "colab": {
          "base_uri": "https://localhost:8080/"
        },
        "id": "Ylj2C2kR9XtG",
        "outputId": "de6bd1a6-f704-4c91-fa9a-03e79a4e2954"
      },
      "outputs": [
        {
          "output_type": "execute_result",
          "data": {
            "text/plain": [
              "array([], dtype=float64)"
            ]
          },
          "metadata": {},
          "execution_count": 118
        }
      ],
      "source": [
        "#what is the asset allocation for non separable xi\n",
        "xs_2[-1][xi_mvo_2[-1] > 0.0001]"
      ]
    },
    {
      "cell_type": "code",
      "execution_count": 119,
      "metadata": {
        "colab": {
          "base_uri": "https://localhost:8080/"
        },
        "id": "pHvaStL6AOhQ",
        "outputId": "dea51dfe-2ea9-4b97-d545-e24c92eb8d55"
      },
      "outputs": [
        {
          "output_type": "execute_result",
          "data": {
            "text/plain": [
              "array([], dtype=float64)"
            ]
          },
          "metadata": {},
          "execution_count": 119
        }
      ],
      "source": [
        "#which side of the hyperplane are the non separable points on. \n",
        "np.dot(Y_.values[xi_mvo_2[-1] > 10**(-6)], SVM_2.w.x)+ SVM_2.b.x"
      ]
    },
    {
      "cell_type": "markdown",
      "metadata": {
        "id": "XxGCqUt7E3x1"
      },
      "source": [
        "##Exact MIP Solution with ADM Warm Start"
      ]
    },
    {
      "cell_type": "code",
      "execution_count": 120,
      "metadata": {
        "colab": {
          "base_uri": "https://localhost:8080/"
        },
        "id": "pYWso3OSHxIy",
        "outputId": "1b1049a3-411b-4659-a378-6fc096eb0717"
      },
      "outputs": [
        {
          "output_type": "stream",
          "name": "stdout",
          "text": [
            "Gurobi Optimizer version 9.1.2 build v9.1.2rc0 (linux64)\n",
            "Thread count: 4 physical cores, 8 logical processors, using up to 8 threads\n",
            "Optimize a model with 290 rows, 1147 columns and 1716 nonzeros\n",
            "Model fingerprint: 0x607e392f\n",
            "Model has 41043 quadratic objective terms\n",
            "Model has 572 general constraints\n",
            "Variable types: 861 continuous, 286 integer (286 binary)\n",
            "Coefficient statistics:\n",
            "  Matrix range     [2e-04, 1e+00]\n",
            "  Objective range  [2e+00, 2e+00]\n",
            "  QObjective range [6e-07, 1e+00]\n",
            "  Bounds range     [1e+00, 1e+00]\n",
            "  RHS range        [1e+00, 2e+02]\n",
            "\n",
            "User MIP start produced solution with objective 0.0186474 (0.04s)\n",
            "Loaded user MIP start with objective 0.0186474\n",
            "\n",
            "Presolve added 746 rows and 352 columns\n",
            "Presolve time: 0.01s\n",
            "Presolved: 1036 rows, 1499 columns, 4356 nonzeros\n",
            "Presolved model has 462 SOS constraint(s)\n",
            "Presolved model has 41043 quadratic objective terms\n",
            "Variable types: 1037 continuous, 462 integer (462 binary)\n",
            "\n",
            "Root relaxation: objective 6.860883e-04, 1042 iterations, 0.02 seconds\n",
            "\n",
            "    Nodes    |    Current Node    |     Objective Bounds      |     Work\n",
            " Expl Unexpl |  Obj  Depth IntInf | Incumbent    BestBd   Gap | It/Node Time\n",
            "\n",
            "     0     0    0.00069    0   77    0.01865    0.00069  96.3%     -    0s\n",
            "     0     0    0.00069    0   77    0.01865    0.00069  96.3%     -    0s\n",
            "H    0     0                       0.0076760    0.00069  91.1%     -    0s\n",
            "     0     2    0.00069    0   77    0.00768    0.00069  91.1%     -    0s\n",
            "*  478   203              85       0.0060805    0.00069  88.7%  34.0    1s\n",
            "H  980   325                       0.0044222    0.00069  84.5%  29.4    2s\n",
            "H 1011   315                       0.0044221    0.00069  84.5%  29.0    2s\n",
            "H 1967   616                       0.0044220    0.00069  84.5%  24.0    4s\n",
            "H 2085   612                       0.0042571    0.00069  83.9%  23.5    4s\n",
            "  2179   622     cutoff   67         0.00426    0.00069  83.9%  24.5    5s\n",
            "H 3183   437                       0.0034735    0.00069  80.2%  21.7    5s\n",
            "* 4170   473              97       0.0028401    0.00069  75.8%  17.8    6s\n",
            " 11133  1234    0.00097  176   30    0.00284    0.00097  65.7%   9.3   10s\n",
            "\n",
            "Explored 14418 nodes (112469 simplex iterations) in 11.20 seconds\n",
            "Thread count was 8 (of 8 available processors)\n",
            "\n",
            "Solution count 6: 0.00284007 0.00347352 0.00425709 ... 0.00767599\n",
            "\n",
            "Optimal solution found (tolerance 1.00e-04)\n",
            "Best objective 2.840065352713e-03, best bound 2.840065352713e-03, gap 0.0000%\n"
          ]
        },
        {
          "output_type": "execute_result",
          "data": {
            "text/plain": [
              "11.22816252708435"
            ]
          },
          "metadata": {},
          "execution_count": 120
        }
      ],
      "source": [
        "#SVM with slack \n",
        "#beat 600 seconds\n",
        "SVM_MVO_Slck = SVMMVO(tics, mean, cov, ret_constr, soft_margin, Y_, AssetLim, \\\n",
        "                      svm_choice = (True, True), print_var_frntr = False, indicator = True, non_neg = True)\n",
        "starts = [SVM_MVO_Fast_v2.x.x, SVM_MVO_Fast_v2.z.x, SVM_MVO_Fast_v2.w.x, SVM_MVO_Fast_v2.b.x]\n",
        "SVM_MVO_Slck.setModel(start = starts)\n",
        "# SVM_MVO_Slck.model.params.Presolve = 2\n",
        "# SVM_MVO_Slck.model.Params.ImpliedCuts = 2\n",
        "SVM_MVO_Slck.optimize()"
      ]
    },
    {
      "cell_type": "markdown",
      "metadata": {
        "id": "Jy28ezyvg6PA"
      },
      "source": [
        "## Exact Solution without ADM"
      ]
    },
    {
      "cell_type": "code",
      "execution_count": 121,
      "metadata": {
        "id": "G7jg3pm-tal0",
        "colab": {
          "base_uri": "https://localhost:8080/"
        },
        "outputId": "4eaef85b-0e2a-4de2-e1eb-8c5fb640487e"
      },
      "outputs": [
        {
          "output_type": "stream",
          "name": "stdout",
          "text": [
            "Discarded solution information including additional information\n",
            "Gurobi Optimizer version 9.1.2 build v9.1.2rc0 (linux64)\n",
            "Thread count: 4 physical cores, 8 logical processors, using up to 8 threads\n",
            "Optimize a model with 290 rows, 1147 columns and 1716 nonzeros\n",
            "Model fingerprint: 0x1193659e\n",
            "Model has 41043 quadratic objective terms\n",
            "Model has 1144 general constraints\n",
            "Variable types: 861 continuous, 286 integer (286 binary)\n",
            "Coefficient statistics:\n",
            "  Matrix range     [2e-04, 1e+00]\n",
            "  Objective range  [2e+00, 2e+00]\n",
            "  QObjective range [6e-07, 1e+00]\n",
            "  Bounds range     [1e+00, 1e+00]\n",
            "  RHS range        [1e+00, 2e+02]\n",
            "Presolve added 1384 rows and 990 columns\n",
            "Presolve time: 0.03s\n",
            "Presolved: 1674 rows, 2137 columns, 7018 nonzeros\n",
            "Presolved model has 924 SOS constraint(s)\n",
            "Presolved model has 41043 quadratic objective terms\n",
            "Variable types: 1499 continuous, 638 integer (638 binary)\n",
            "Found heuristic solution: objective 0.2121112\n",
            "\n",
            "Root relaxation: objective 6.860883e-04, 1727 iterations, 0.05 seconds\n",
            "\n",
            "    Nodes    |    Current Node    |     Objective Bounds      |     Work\n",
            " Expl Unexpl |  Obj  Depth IntInf | Incumbent    BestBd   Gap | It/Node Time\n",
            "\n",
            "     0     0    0.00069    0  144    0.21211    0.00069   100%     -    0s\n",
            "     0     0    0.00069    0  144    0.21211    0.00069   100%     -    0s\n",
            "H    0     0                       0.2035345    0.00069   100%     -    0s\n",
            "     0     0    0.00069    0   77    0.20353    0.00069   100%     -    0s\n",
            "     0     0    0.00069    0   77    0.20353    0.00069   100%     -    0s\n",
            "     0     2    0.00069    0   77    0.20353    0.00069   100%     -    0s\n",
            "H   31    36                       0.2035167    0.00069   100%   173    1s\n",
            "H   66    70                       0.2034835    0.00069   100%   133    2s\n",
            "H  101   106                       0.2034833    0.00069   100%   106    2s\n",
            "  2177  1931     cutoff  244         0.20348    0.00069   100%  50.4    5s\n",
            "H 2431  2065                       0.2033176    0.00069   100%  50.7    5s\n",
            "H 2526  2125                       0.2014557    0.00069   100%  50.2    5s\n",
            "H 2974  2445                       0.2014408    0.00069   100%  46.3    6s\n",
            "H 3043  2383                       0.2014403    0.00069   100%  47.8    9s\n",
            "H 3045  2267                       0.2014387    0.00069   100%  47.8    9s\n",
            "H 3083  2185                       0.2010701    0.00069   100%  48.0    9s\n",
            "H 3088  2078                       0.2005678    0.00069   100%  48.0    9s\n",
            "  3107  2105    0.00419   25   57    0.20057    0.00069   100%  48.3   10s\n",
            "H 3132  2011                       0.2000837    0.00069   100%  48.4   10s\n",
            "H 3134  1915                       0.1968376    0.00069   100%  48.4   10s\n",
            "H 3179  1851                       0.1955768    0.00069   100%  48.2   10s\n",
            "H 3180  1766                       0.1940161    0.00069   100%  48.3   10s\n",
            "H 3263  1741                       0.1887000    0.00069   100%  47.6   11s\n",
            "H 3979  2141                       0.1886987    0.00069   100%  44.1   13s\n",
            "H 3981  2068                       0.1884556    0.00069   100%  44.1   13s\n",
            "H 3982  1997                       0.1847574    0.00069   100%  44.1   13s\n",
            "H 3983  1931                       0.1845913    0.00069   100%  44.1   13s\n",
            "H 3987  1867                       0.1845039    0.00069   100%  44.1   13s\n",
            "H 3988  1815                       0.1821476    0.00069   100%  44.0   13s\n",
            "H 3989  1758                       0.1781289    0.00069   100%  44.0   13s\n",
            "H 3990  1704                       0.1762516    0.00069   100%  44.0   13s\n",
            "H 5749  2592                       0.1337692    0.00069  99.5%  37.8   14s\n",
            "H 5752  2526                       0.1174664    0.00069  99.4%  37.8   14s\n",
            "* 5917  2558             184       0.0291944    0.00069  97.6%  37.2   14s\n",
            "* 5918  2554             184       0.0263275    0.00069  97.4%  37.2   14s\n",
            "* 5919  2550             183       0.0229544    0.00069  97.0%  37.2   14s\n",
            "* 5920  2548             182       0.0204772    0.00069  96.6%  37.2   14s\n",
            "* 5925  2546             182       0.0197591    0.00069  96.5%  37.1   14s\n",
            "* 5926  2544             181       0.0181545    0.00069  96.2%  37.1   14s\n",
            "  6623  3341    0.00739  153   56    0.01815    0.00069  96.2%  35.0   15s\n",
            "* 7268  3438             176       0.0138131    0.00069  95.0%  32.8   15s\n",
            "* 7274  3438             176       0.0136418    0.00069  95.0%  32.8   15s\n",
            "H10417  3479                       0.0089234    0.00069  92.3%  24.8   16s\n",
            "H12216  3839                       0.0085330    0.00069  92.0%  22.1   17s\n",
            "H12262  3786                       0.0078867    0.00069  91.3%  22.0   17s\n",
            "H16207  1764                       0.0049941    0.00069  86.3%  18.1   19s\n",
            " 17956  3028    0.00418  166   72    0.00499    0.00069  86.3%  16.8   20s\n",
            "H22180  3883                       0.0042571    0.00069  83.9%  14.5   22s\n",
            " 28623  5637    0.00406  226   23    0.00426    0.00072  83.1%  12.5   25s\n",
            "H28838  1584                       0.0034735    0.00072  79.3%  12.5   25s\n",
            "*32796  2225             201       0.0033922    0.00077  77.2%  11.4   27s\n",
            "*32813  2037             201       0.0028401    0.00077  72.8%  11.4   27s\n",
            "\n",
            "Explored 39103 nodes (396541 simplex iterations) in 29.15 seconds\n",
            "Thread count was 8 (of 8 available processors)\n",
            "\n",
            "Solution count 10: 0.00284007 0.00339224 0.00347352 ... 0.0138131\n",
            "\n",
            "Optimal solution found (tolerance 1.00e-04)\n",
            "Best objective 2.840065352713e-03, best bound 2.840065352713e-03, gap 0.0000%\n"
          ]
        },
        {
          "output_type": "execute_result",
          "data": {
            "text/plain": [
              "29.18129563331604"
            ]
          },
          "metadata": {},
          "execution_count": 121
        }
      ],
      "source": [
        "SVM_MVO_Slck.model.reset(clearall = 1)\n",
        "SVM_MVO_Slck.setModel()\n",
        "SVM_MVO_Slck.optimize()"
      ]
    },
    {
      "cell_type": "markdown",
      "metadata": {
        "id": "-Vrd8OkRhfNN"
      },
      "source": [
        "## Comparison between exact and ADM method"
      ]
    },
    {
      "cell_type": "markdown",
      "metadata": {
        "id": "b28Id2FahmQm"
      },
      "source": [
        "### Components of $w$"
      ]
    },
    {
      "cell_type": "code",
      "execution_count": 122,
      "metadata": {
        "colab": {
          "base_uri": "https://localhost:8080/",
          "height": 547
        },
        "id": "niUVpCaElKm6",
        "outputId": "1db553f7-3717-458e-9734-dee9d7dfa3b0"
      },
      "outputs": [
        {
          "output_type": "display_data",
          "data": {
            "image/png": "[encoded data removed]",
            "text/plain": [
              "<Figure size 432x288 with 1 Axes>"
            ]
          },
          "metadata": {
            "needs_background": "light"
          }
        },
        {
          "output_type": "display_data",
          "data": {
            "image/png": "[encoded data removed]",
            "text/plain": [
              "<Figure size 432x288 with 1 Axes>"
            ]
          },
          "metadata": {
            "needs_background": "light"
          }
        }
      ],
      "source": [
        "plt.figure(figsize = (6,4))\n",
        "plt.plot(SVM_MVO_Slck.w.x)\n",
        "plt.title(\"$\\mathbf{w}$ from the Exact solution\");\n",
        "\n",
        "plt.figure(figsize = (6,4))\n",
        "plt.plot(SVM_2.w.x)\n",
        "plt.title(\"$\\mathbf{w}$ from the ADM solution\");\n"
      ]
    },
    {
      "cell_type": "code",
      "execution_count": 127,
      "metadata": {
        "id": "7cAFkoixSMrQ"
      },
      "outputs": [],
      "source": [
        "### quick check for any mismatch between x > 0 and z = 1\n",
        "# MVO_.x.x[(MVO_.x.x > 10**(-6)).astype(int) - MVO_.z.x > 0]"
      ]
    },
    {
      "cell_type": "markdown",
      "metadata": {
        "id": "bqZncgMwh3rL"
      },
      "source": [
        "### Portfolio Comparison between exact and ADM method"
      ]
    },
    {
      "cell_type": "code",
      "execution_count": 128,
      "metadata": {
        "id": "9boOM0ZQSe30",
        "colab": {
          "base_uri": "https://localhost:8080/",
          "height": 295
        },
        "outputId": "696c7eeb-2b38-404e-a58a-bd5924ed5b49"
      },
      "outputs": [
        {
          "output_type": "display_data",
          "data": {
            "image/png": "[encoded data removed]",
            "text/plain": [
              "<Figure size 432x288 with 1 Axes>"
            ]
          },
          "metadata": {
            "needs_background": "light"
          }
        }
      ],
      "source": [
        "#plt.plot(MVO_.x.x)\n",
        "plt.plot(100*(SVM_MVO_Slck.x.x - MVO_.x.x))\n",
        "plt.xlabel(\"Asset i\")\n",
        "plt.ylabel(\"$x^{{Exact}}_i - x^{{PADM}}_i$ as a percentage\");\n",
        "plt.title(\"Asset allocation differences between exact solution and ADM\");"
      ]
    },
    {
      "cell_type": "code",
      "execution_count": 129,
      "metadata": {
        "id": "I1isl83-4OwM",
        "colab": {
          "base_uri": "https://localhost:8080/",
          "height": 297
        },
        "outputId": "7b20c2d0-9e77-4979-d128-20380effd372"
      },
      "outputs": [
        {
          "output_type": "display_data",
          "data": {
            "image/png": "[encoded data removed]",
            "text/plain": [
              "<Figure size 864x288 with 1 Axes>"
            ]
          },
          "metadata": {
            "needs_background": "light"
          }
        }
      ],
      "source": [
        "out = pd.concat([SVM_MVO_Slck.get_results(), SVM_MVO_Fast.get_results()], axis = 0)\n",
        "out[out.columns[(out > 0.001).any(axis = 0)]].transpose()[:-2].plot.bar(title = 'Portfolio comparison (only including assets with positive allocation)',\\\n",
        "                                                                           xlabel = 'Assets', \\\n",
        "                                                                           ylabel = '% of Portfolio',\\\n",
        "                                                                           figsize = (12,4), width = 0.8);\n",
        "plt.tight_layout()   \n",
        "#plt.legend([\"Exact\", r\"PADM: $\\rho 1^{\\intercal}\\xi$\", r\"PADM: ${\\bf \\rho} ^{\\intercal}\\xi$\"])                    \n",
        "plt.legend([\"Exact\", r\"PADM: $\\rho 1^{\\intercal}\\xi$\"])                                                                        \n",
        "\n",
        "plt.savefig(pth+\"SVM MVO/Images/p6.png\",dpi = dpi_setting)"
      ]
    },
    {
      "cell_type": "markdown",
      "metadata": {
        "id": "YDpG9gS-iKRL"
      },
      "source": [
        "### Efficient frontiers: ADM vs. Exact Solution"
      ]
    },
    {
      "cell_type": "code",
      "execution_count": null,
      "metadata": {
        "id": "-Cb-yp9zbmZC"
      },
      "outputs": [],
      "source": [
        "#Plot efficient frontiers for the SVM MVO an Vanilla MVO\n",
        "plt.figure(figsize = (6,6))\n",
        "plt.plot(frontier[0], frontier[1], \".-\", label = \"ADM-SVM-MVO Mean Variance Frontier\");\n",
        "plt.plot(SVM_Slck_EF[0], SVM_Slck_EF[1], \".-\", label = \"exact SVM and MVO Frontier\");\n",
        "plt.legend();\n",
        "plt.ylabel('Return: $\\mu^{\\intercal}x$')\n",
        "plt.xlabel('Volatility: $\\sqrt{x^{\\intercal}\\Sigma x}$')\n",
        "plt.legend()\n",
        "plt.title(\"Efficient Frontier Comparison\");\n",
        "plt.tight_layout()                                                                           \n",
        "plt.savefig(pth+\"SVM MVO/Images/p7.png\",dpi = dpi_setting)"
      ]
    }
  ],
  "metadata": {
    "colab": {
      "collapsed_sections": [],
      "machine_shape": "hm",
      "name": "ADM Comparison NoteBook.ipynb",
      "provenance": [],
      "mount_file_id": "1hDdRLz3mUB0Ldphf50Bl9ZWw8qHh1iP5",
      "authorship_tag": "ABX9TyMKTzBqFFJfG/wSoIm5XXxx",
      "include_colab_link": true
    },
    "kernelspec": {
      "display_name": "Python 3",
      "name": "python3"
    },
    "language_info": {
      "name": "python"
    }
  },
  "nbformat": 4,
  "nbformat_minor": 0
}