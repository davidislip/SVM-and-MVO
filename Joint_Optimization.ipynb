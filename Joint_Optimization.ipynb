{
  "nbformat": 4,
  "nbformat_minor": 0,
  "metadata": {
    "colab": {
      "name": "Joint Optimization.ipynb",
      "provenance": [],
      "collapsed_sections": [],
      "mount_file_id": "1hDdRLz3mUB0Ldphf50Bl9ZWw8qHh1iP5",
      "authorship_tag": "ABX9TyNoEG3atkAxyng6B5KUOAhX",
      "include_colab_link": true
    },
    "kernelspec": {
      "name": "python3",
      "display_name": "Python 3"
    },
    "language_info": {
      "name": "python"
    }
  },
  "cells": [
    {
      "cell_type": "markdown",
      "metadata": {
        "id": "view-in-github",
        "colab_type": "text"
      },
      "source": [
        "<a href=\"https://colab.research.google.com/github/davidislip/SVM-and-MVO/blob/main/Joint_Optimization.ipynb\" target=\"_parent\"><img src=\"https://colab.research.google.com/assets/colab-badge.svg\" alt=\"Open In Colab\"/></a>"
      ]
    },
    {
      "cell_type": "markdown",
      "metadata": {
        "id": "MqN_y29M6YR8"
      },
      "source": [
        "## Integration of SVM and MVO \n",
        "The idea is to integrate support vector machines and mean variance optimization \n",
        "\n",
        "$$\n",
        "\\begin{align} \n",
        "\\min_{x, z, w} \\quad & \\lambda x^{\\intercal}\\Sigma x - \\mu^\\intercal x + \\frac{1}{2}||{w}||^2 &\\\\ \n",
        "\\textrm{s.t.} \\quad & x_i \\leq z_i \\quad &\\forall i = 1,2,...,N \\\\\n",
        "              \\quad & y_i^{\\intercal} w \\leq M z_i \\quad & \\forall i = 1,2,...,N \\\\\n",
        "              \\quad & -M(1-z_i) \\leq  y_i^{\\intercal} w \\quad &\\forall i = 1,2,...,N \\\\\n",
        "              \\quad & x \\in \\mathcal{C} \\quad z \\in \\{0,1\\}^N & \\\\\n",
        "\\end{align} \n",
        "$$"
      ]
    },
    {
      "cell_type": "code",
      "metadata": {
        "colab": {
          "base_uri": "https://localhost:8080/"
        },
        "id": "knc5ipCyNDrK",
        "outputId": "1325845c-926c-4f0f-edd0-b02f507d7103"
      },
      "source": [
        "!sudo python -m pip install gurobipy==9.1.2"
      ],
      "execution_count": 5,
      "outputs": [
        {
          "output_type": "stream",
          "name": "stdout",
          "text": [
            "Collecting gurobipy==9.1.2\n",
            "  Using cached gurobipy-9.1.2-cp37-cp37m-manylinux1_x86_64.whl (11.1 MB)\n",
            "Installing collected packages: gurobipy\n",
            "Successfully installed gurobipy-9.1.2\n",
            "info  : grbgetkey version 9.1.2, build v9.1.1rc0-30-g8af970cb\n",
            "info  : Contacting Gurobi license server...\n",
            "error : ERROR 201: 609d27d4-85ae-4740-88bf-a1112c73a6cb not found\n"
          ]
        }
      ]
    },
    {
      "cell_type": "code",
      "metadata": {
        "colab": {
          "base_uri": "https://localhost:8080/"
        },
        "id": "l3fEvFDq6PgZ",
        "outputId": "c98bb505-6590-40f2-8ce4-1769a29066ed"
      },
      "source": [
        "from google.colab import drive \n",
        "drive.mount('/content/gdrive')\n",
        "import gurobipy as gp\n",
        "from gurobipy import GRB\n",
        "from math import sqrt\n",
        "import sys\n",
        "pth = 'gdrive/My Drive/Colab Notebooks/'\n",
        "sys.path.append(pth + 'SVM MVO/PYFILES/')\n",
        "from packages import *\n",
        "%matplotlib inline\n",
        "\n",
        "## Import Forecasts\n",
        "forecasts = pd.read_pickle(pth +'SVM MVO/DATA/Forecasts.pkl')\n",
        "## Import Returns\n",
        "rets = pd.read_pickle(pth + 'SVM MVO/DATA/RETS.pkl')\n",
        "## Import feature vectors\n",
        "wrds_svm = pd.read_pickle(pth + 'SVM MVO/DATA/WRDS_ASOF.pkl')"
      ],
      "execution_count": 2,
      "outputs": [
        {
          "output_type": "stream",
          "name": "stdout",
          "text": [
            "Mounted at /content/gdrive\n"
          ]
        }
      ]
    },
    {
      "cell_type": "code",
      "metadata": {
        "id": "5NswPR4F6Wvy",
        "colab": {
          "base_uri": "https://localhost:8080/"
        },
        "outputId": "591acd0c-4a98-4f46-837b-6571c91a632c"
      },
      "source": [
        "mth = rets.index[0]\n",
        "mth"
      ],
      "execution_count": 4,
      "outputs": [
        {
          "output_type": "execute_result",
          "data": {
            "text/plain": [
              "Timestamp('2000-07-01 00:00:00')"
            ]
          },
          "metadata": {},
          "execution_count": 4
        }
      ]
    },
    {
      "cell_type": "code",
      "metadata": {
        "colab": {
          "base_uri": "https://localhost:8080/"
        },
        "id": "nYBpVMDbM5Pi",
        "outputId": "b29cb3df-b704-4a26-9290-02264ad0a567"
      },
      "source": [
        "#this will be changed when I figure out the gurobi license (right now can only handle 200 quadratic variables)\n",
        "#preprocessing \n",
        "cov_, mean_ = forecasts[mth]\n",
        "N = 40\n",
        "cov = cov_[:N,:N]\n",
        "mean = mean_[:N,:]\n",
        "tics = rets.columns[:N]\n",
        "print(\"valid tickers:\", tics)\n",
        "#get the wharton research data for the valid tickers\n",
        "wrds_tics = wrds_svm[wrds_svm.index.get_level_values('tic').isin(tics)].xs(mth, level=\"MonthStart\")\n",
        "#restrict the wharton research data to the columns of interest\n",
        "Y = wrds_tics.loc[:,\"ROC1\":\"GRW8\"] # Y matrix in formulation \n",
        "Y_ =  (Y - Y.mean(axis=0))/(Y.std(axis=0))\n",
        "Y_ = Y_.iloc[:,:]\n",
        "Y_['bias'] = 1\n",
        "#Y_"
      ],
      "execution_count": 129,
      "outputs": [
        {
          "output_type": "stream",
          "name": "stdout",
          "text": [
            "valid tickers: Index(['AAPL', 'ABC', 'ABMD', 'ABT', 'ADBE', 'ADI', 'ADM', 'ADP', 'ADSK',\n",
            "       'AEE', 'AEP', 'AES', 'AJG', 'AKAM', 'ALB', 'ALK', 'AMAT', 'AMD', 'AME',\n",
            "       'AMGN', 'AMT', 'AMZN', 'ANSS', 'AON', 'AOS', 'APA', 'APD', 'APH', 'ATO',\n",
            "       'AVY', 'AZO', 'BA', 'BAX', 'BBY', 'BDX', 'BKNG', 'BLL', 'BMY', 'BSX',\n",
            "       'BWA'],\n",
            "      dtype='object')\n"
          ]
        }
      ]
    },
    {
      "cell_type": "markdown",
      "metadata": {
        "id": "W3ta3eSVfHCy"
      },
      "source": [
        "### Simple Min Variance Portfolio "
      ]
    },
    {
      "cell_type": "code",
      "metadata": {
        "colab": {
          "base_uri": "https://localhost:8080/"
        },
        "id": "QQTfOFSJUyAi",
        "outputId": "fa6ffc19-e586-4696-fe4a-fdd89d91163c"
      },
      "source": [
        "# Create an empty model\n",
        "m = gp.Model('portfolio')\n",
        "\n",
        "# Add matrix variable for the stocks\n",
        "x = m.addMVar(len(mean))\n",
        "\n",
        "# Objective is to minimize risk (squared).  This is modeled using the\n",
        "# covariance matrix, which measures the historical correlation between stocks\n",
        "portfolio_risk = x @ cov @ x\n",
        "m.setObjective(portfolio_risk, GRB.MINIMIZE)\n",
        "\n",
        "# Fix budget with a constraint\n",
        "m.addConstr(x.sum() == 1, 'budget')\n",
        "\n",
        "# Verify model formulation\n",
        "m.write('portfolio_selection_optimization.lp')\n",
        "\n",
        "# Optimize model to find the minimum risk portfolio\n",
        "m.optimize()"
      ],
      "execution_count": 119,
      "outputs": [
        {
          "output_type": "stream",
          "name": "stdout",
          "text": [
            "Gurobi Optimizer version 9.1.2 build v9.1.2rc0 (linux64)\n",
            "Thread count: 1 physical cores, 2 logical processors, using up to 2 threads\n",
            "Optimize a model with 1 rows, 40 columns and 40 nonzeros\n",
            "Model fingerprint: 0x39fc15e8\n",
            "Model has 820 quadratic objective terms\n",
            "Coefficient statistics:\n",
            "  Matrix range     [1e+00, 1e+00]\n",
            "  Objective range  [0e+00, 0e+00]\n",
            "  QObjective range [5e-05, 7e-01]\n",
            "  Bounds range     [0e+00, 0e+00]\n",
            "  RHS range        [1e+00, 1e+00]\n",
            "Presolve time: 0.02s\n",
            "Presolved: 1 rows, 40 columns, 40 nonzeros\n",
            "Presolved model has 820 quadratic objective terms\n",
            "Ordering time: 0.00s\n",
            "\n",
            "Barrier statistics:\n",
            " Free vars  : 39\n",
            " AA' NZ     : 7.800e+02\n",
            " Factor NZ  : 8.200e+02\n",
            " Factor Ops : 2.214e+04 (less than 1 second per iteration)\n",
            " Threads    : 1\n",
            "\n",
            "                  Objective                Residual\n",
            "Iter       Primal          Dual         Primal    Dual     Compl     Time\n",
            "   0   2.02804896e+05 -2.02804896e+05  3.62e+04 2.52e-05  1.00e+06     0s\n",
            "   1   6.67895587e+04 -6.70324138e+04  1.86e+03 1.29e-06  5.45e+04     0s\n",
            "   2   1.43474076e+03 -1.72300978e+03  3.93e+01 2.74e-08  1.22e+03     0s\n",
            "   3   1.76153635e-01 -3.05074436e+02  3.93e-05 2.73e-14  7.63e+00     0s\n",
            "   4   1.75697185e-01 -5.17285735e-01  5.00e-08 3.47e-17  1.73e-02     0s\n",
            "   5   5.26946374e-02 -7.75713945e-02  5.00e-14 1.39e-17  3.26e-03     0s\n",
            "   6   7.01991868e-03 -6.93602979e-02  8.33e-17 2.22e-16  1.91e-03     0s\n",
            "   7   3.48164678e-03 -3.85515739e-03  4.16e-17 2.22e-16  1.83e-04     0s\n",
            "   8   1.69288183e-03 -1.97807075e-03  1.67e-16 1.04e-17  9.18e-05     0s\n",
            "   9   1.16414620e-03  7.76936423e-04  1.11e-16 1.21e-17  9.68e-06     0s\n",
            "  10   9.91773329e-04  8.80449563e-04  1.94e-16 5.64e-18  2.78e-06     0s\n",
            "  11   9.42951390e-04  9.38282506e-04  1.73e-17 3.04e-18  1.17e-07     0s\n",
            "  12   9.39292727e-04  9.39229298e-04  1.33e-15 3.47e-18  1.59e-09     0s\n",
            "  13   9.39231964e-04  9.39231650e-04  2.54e-14 2.80e-18  7.84e-12     0s\n",
            "\n",
            "Barrier solved model in 13 iterations and 0.10 seconds\n",
            "Optimal objective 9.39231964e-04\n",
            "\n"
          ]
        }
      ]
    },
    {
      "cell_type": "code",
      "metadata": {
        "colab": {
          "base_uri": "https://localhost:8080/",
          "height": 265
        },
        "id": "V8IirWPrVfh4",
        "outputId": "5d35d931-318c-4423-8b50-e08e5453d0c1"
      },
      "source": [
        "minrisk_volatility = sqrt(m.ObjVal)\n",
        "minrisk_return = mean[:,0] @ x.X\n",
        "results = pd.DataFrame(data=np.append(x.X, [minrisk_volatility, minrisk_return]),\n",
        "             index=list(rets.columns[:N]) + ['Volatility', 'Expected Return'],\n",
        "             columns=['Minimum Risk Portfolio'])\n",
        "results\n",
        "results.iloc[:-2].plot();"
      ],
      "execution_count": 120,
      "outputs": [
        {
          "output_type": "display_data",
          "data": {
            "image/png": "[encoded data removed]",
            "text/plain": [
              "<Figure size 432x288 with 1 Axes>"
            ]
          },
          "metadata": {
            "needs_background": "light"
          }
        }
      ]
    },
    {
      "cell_type": "code",
      "metadata": {
        "colab": {
          "base_uri": "https://localhost:8080/",
          "height": 1000
        },
        "id": "_-GU_s3Tr4Ha",
        "outputId": "244f5dae-55c7-410f-8226-21a62821b6a9"
      },
      "source": [
        "results"
      ],
      "execution_count": 121,
      "outputs": [
        {
          "output_type": "execute_result",
          "data": {
            "text/html": [
              "<div>\n",
              "<style scoped>\n",
              "    .dataframe tbody tr th:only-of-type {\n",
              "        vertical-align: middle;\n",
              "    }\n",
              "\n",
              "    .dataframe tbody tr th {\n",
              "        vertical-align: top;\n",
              "    }\n",
              "\n",
              "    .dataframe thead th {\n",
              "        text-align: right;\n",
              "    }\n",
              "</style>\n",
              "<table border=\"1\" class=\"dataframe\">\n",
              "  <thead>\n",
              "    <tr style=\"text-align: right;\">\n",
              "      <th></th>\n",
              "      <th>Minimum Risk Portfolio</th>\n",
              "    </tr>\n",
              "  </thead>\n",
              "  <tbody>\n",
              "    <tr>\n",
              "      <th>AAPL</th>\n",
              "      <td>9.133270e-11</td>\n",
              "    </tr>\n",
              "    <tr>\n",
              "      <th>ABC</th>\n",
              "      <td>1.201318e-10</td>\n",
              "    </tr>\n",
              "    <tr>\n",
              "      <th>ABMD</th>\n",
              "      <td>1.560599e-09</td>\n",
              "    </tr>\n",
              "    <tr>\n",
              "      <th>ABT</th>\n",
              "      <td>9.019338e-02</td>\n",
              "    </tr>\n",
              "    <tr>\n",
              "      <th>ADBE</th>\n",
              "      <td>1.225290e-10</td>\n",
              "    </tr>\n",
              "    <tr>\n",
              "      <th>ADI</th>\n",
              "      <td>3.615946e-08</td>\n",
              "    </tr>\n",
              "    <tr>\n",
              "      <th>ADM</th>\n",
              "      <td>8.828209e-02</td>\n",
              "    </tr>\n",
              "    <tr>\n",
              "      <th>ADP</th>\n",
              "      <td>2.420652e-02</td>\n",
              "    </tr>\n",
              "    <tr>\n",
              "      <th>ADSK</th>\n",
              "      <td>1.517909e-10</td>\n",
              "    </tr>\n",
              "    <tr>\n",
              "      <th>AEE</th>\n",
              "      <td>2.105833e-01</td>\n",
              "    </tr>\n",
              "    <tr>\n",
              "      <th>AEP</th>\n",
              "      <td>1.126040e-05</td>\n",
              "    </tr>\n",
              "    <tr>\n",
              "      <th>AES</th>\n",
              "      <td>1.665865e-02</td>\n",
              "    </tr>\n",
              "    <tr>\n",
              "      <th>AJG</th>\n",
              "      <td>2.475055e-10</td>\n",
              "    </tr>\n",
              "    <tr>\n",
              "      <th>AKAM</th>\n",
              "      <td>2.386989e-11</td>\n",
              "    </tr>\n",
              "    <tr>\n",
              "      <th>ALB</th>\n",
              "      <td>8.076569e-10</td>\n",
              "    </tr>\n",
              "    <tr>\n",
              "      <th>ALK</th>\n",
              "      <td>2.332994e-07</td>\n",
              "    </tr>\n",
              "    <tr>\n",
              "      <th>AMAT</th>\n",
              "      <td>1.129841e-10</td>\n",
              "    </tr>\n",
              "    <tr>\n",
              "      <th>AMD</th>\n",
              "      <td>5.858438e-09</td>\n",
              "    </tr>\n",
              "    <tr>\n",
              "      <th>AME</th>\n",
              "      <td>3.264135e-10</td>\n",
              "    </tr>\n",
              "    <tr>\n",
              "      <th>AMGN</th>\n",
              "      <td>4.093650e-11</td>\n",
              "    </tr>\n",
              "    <tr>\n",
              "      <th>AMT</th>\n",
              "      <td>5.845548e-02</td>\n",
              "    </tr>\n",
              "    <tr>\n",
              "      <th>AMZN</th>\n",
              "      <td>2.847821e-10</td>\n",
              "    </tr>\n",
              "    <tr>\n",
              "      <th>ANSS</th>\n",
              "      <td>5.906947e-02</td>\n",
              "    </tr>\n",
              "    <tr>\n",
              "      <th>AON</th>\n",
              "      <td>7.478148e-10</td>\n",
              "    </tr>\n",
              "    <tr>\n",
              "      <th>AOS</th>\n",
              "      <td>2.318022e-10</td>\n",
              "    </tr>\n",
              "    <tr>\n",
              "      <th>APA</th>\n",
              "      <td>8.082215e-02</td>\n",
              "    </tr>\n",
              "    <tr>\n",
              "      <th>APD</th>\n",
              "      <td>1.933738e-09</td>\n",
              "    </tr>\n",
              "    <tr>\n",
              "      <th>APH</th>\n",
              "      <td>4.515318e-11</td>\n",
              "    </tr>\n",
              "    <tr>\n",
              "      <th>ATO</th>\n",
              "      <td>5.085530e-10</td>\n",
              "    </tr>\n",
              "    <tr>\n",
              "      <th>AVY</th>\n",
              "      <td>4.285188e-02</td>\n",
              "    </tr>\n",
              "    <tr>\n",
              "      <th>AZO</th>\n",
              "      <td>1.235319e-09</td>\n",
              "    </tr>\n",
              "    <tr>\n",
              "      <th>BA</th>\n",
              "      <td>9.215378e-10</td>\n",
              "    </tr>\n",
              "    <tr>\n",
              "      <th>BAX</th>\n",
              "      <td>1.197125e-10</td>\n",
              "    </tr>\n",
              "    <tr>\n",
              "      <th>BBY</th>\n",
              "      <td>1.466559e-10</td>\n",
              "    </tr>\n",
              "    <tr>\n",
              "      <th>BDX</th>\n",
              "      <td>4.066780e-02</td>\n",
              "    </tr>\n",
              "    <tr>\n",
              "      <th>BKNG</th>\n",
              "      <td>6.767851e-02</td>\n",
              "    </tr>\n",
              "    <tr>\n",
              "      <th>BLL</th>\n",
              "      <td>4.270284e-02</td>\n",
              "    </tr>\n",
              "    <tr>\n",
              "      <th>BMY</th>\n",
              "      <td>9.054042e-02</td>\n",
              "    </tr>\n",
              "    <tr>\n",
              "      <th>BSX</th>\n",
              "      <td>7.739393e-08</td>\n",
              "    </tr>\n",
              "    <tr>\n",
              "      <th>BWA</th>\n",
              "      <td>8.727588e-02</td>\n",
              "    </tr>\n",
              "    <tr>\n",
              "      <th>Volatility</th>\n",
              "      <td>3.064689e-02</td>\n",
              "    </tr>\n",
              "    <tr>\n",
              "      <th>Expected Return</th>\n",
              "      <td>-2.712228e-03</td>\n",
              "    </tr>\n",
              "  </tbody>\n",
              "</table>\n",
              "</div>"
            ],
            "text/plain": [
              "                 Minimum Risk Portfolio\n",
              "AAPL                       9.133270e-11\n",
              "ABC                        1.201318e-10\n",
              "ABMD                       1.560599e-09\n",
              "ABT                        9.019338e-02\n",
              "ADBE                       1.225290e-10\n",
              "ADI                        3.615946e-08\n",
              "ADM                        8.828209e-02\n",
              "ADP                        2.420652e-02\n",
              "ADSK                       1.517909e-10\n",
              "AEE                        2.105833e-01\n",
              "AEP                        1.126040e-05\n",
              "AES                        1.665865e-02\n",
              "AJG                        2.475055e-10\n",
              "AKAM                       2.386989e-11\n",
              "ALB                        8.076569e-10\n",
              "ALK                        2.332994e-07\n",
              "AMAT                       1.129841e-10\n",
              "AMD                        5.858438e-09\n",
              "AME                        3.264135e-10\n",
              "AMGN                       4.093650e-11\n",
              "AMT                        5.845548e-02\n",
              "AMZN                       2.847821e-10\n",
              "ANSS                       5.906947e-02\n",
              "AON                        7.478148e-10\n",
              "AOS                        2.318022e-10\n",
              "APA                        8.082215e-02\n",
              "APD                        1.933738e-09\n",
              "APH                        4.515318e-11\n",
              "ATO                        5.085530e-10\n",
              "AVY                        4.285188e-02\n",
              "AZO                        1.235319e-09\n",
              "BA                         9.215378e-10\n",
              "BAX                        1.197125e-10\n",
              "BBY                        1.466559e-10\n",
              "BDX                        4.066780e-02\n",
              "BKNG                       6.767851e-02\n",
              "BLL                        4.270284e-02\n",
              "BMY                        9.054042e-02\n",
              "BSX                        7.739393e-08\n",
              "BWA                        8.727588e-02\n",
              "Volatility                 3.064689e-02\n",
              "Expected Return           -2.712228e-03"
            ]
          },
          "metadata": {},
          "execution_count": 121
        }
      ]
    },
    {
      "cell_type": "markdown",
      "metadata": {
        "id": "K7you9bPfMGK"
      },
      "source": [
        "### Mean Variance and SVM Joint Formulation"
      ]
    },
    {
      "cell_type": "code",
      "metadata": {
        "colab": {
          "base_uri": "https://localhost:8080/"
        },
        "id": "2Bny3p8OYuuY",
        "outputId": "bc4c3111-68c0-4c88-ffc6-dcaf80dc047e"
      },
      "source": [
        "N, m = Y_.shape\n",
        "lam = 5\n",
        "bigM = 100\n",
        "# Create an empty model\n",
        "model = gp.Model('SVM_MVO')\n",
        "\n",
        "# Add matrix variable for the stocks\n",
        "x = model.addMVar(N, lb = np.zeros(N))\n",
        "x_list = x.tolist()\n",
        "# Add support vector \n",
        "w = model.addMVar(m)\n",
        "w_list = w.tolist()\n",
        "# Add indicators \n",
        "z = model.addMVar(N, vtype=GRB.BINARY)\n",
        "z_list = z.tolist()\n",
        "# Objective is to minimize risk (squared).  This is modeled using the\n",
        "# covariance matrix, which measures the historical correlation between stocks\n",
        "portfolio_risk = lam* (x @ cov @ x) + (1/2)*(w @ w) - mean[:,0] @ x\n",
        "model.setObjective(portfolio_risk, GRB.MINIMIZE)\n",
        "\n",
        "# if z is zero then x must be zero\n",
        "model.addConstr(x <= z, \"z force x\" ) \n",
        "#if x is close to zero then z must be zero \n",
        "model.addConstr(z <= 10*bigM*x, \"z force x\" ) \n",
        "# if z is zero then x must be zero\n",
        "for i in range(N):\n",
        "  y_i = Y_.iloc[i].values\n",
        "  model.addConstr(w @ y_i <= -0.001 +  (bigM)*z[i], \"svm1\" ) \n",
        "  model.addConstr(-1*  (bigM) *(1 - z[i])  + 0.001 <= y_i @ w , \"svm2\" ) \n",
        "\n",
        "# Fix budget with a constraint\n",
        "model.addConstr(x.sum() == 1, 'budget')\n",
        "\n",
        "# Verify model formulation\n",
        "model.write('portfolio_selection_optimization.lp')\n",
        "\n",
        "# Optimize model to find the minimum risk portfolio\n",
        "model.optimize()"
      ],
      "execution_count": 130,
      "outputs": [
        {
          "output_type": "stream",
          "name": "stdout",
          "text": [
            "Gurobi Optimizer version 9.1.2 build v9.1.2rc0 (linux64)\n",
            "Thread count: 1 physical cores, 2 logical processors, using up to 2 threads\n",
            "Optimize a model with 161 rows, 118 columns and 3320 nonzeros\n",
            "Model fingerprint: 0x68e9d4fd\n",
            "Model has 858 quadratic objective terms\n",
            "Variable types: 78 continuous, 40 integer (40 binary)\n",
            "Coefficient statistics:\n",
            "  Matrix range     [6e-05, 1e+03]\n",
            "  Objective range  [7e-03, 4e-01]\n",
            "  QObjective range [3e-04, 3e+00]\n",
            "  Bounds range     [1e+00, 1e+00]\n",
            "  RHS range        [1e-03, 1e+02]\n",
            "Found heuristic solution: objective 0.4153620\n",
            "Presolve time: 0.00s\n",
            "Presolved: 161 rows, 118 columns, 3320 nonzeros\n",
            "Presolved model has 858 quadratic objective terms\n",
            "Variable types: 78 continuous, 40 integer (40 binary)\n",
            "\n",
            "Root relaxation: objective -1.383039e-01, 134 iterations, 0.00 seconds\n",
            "\n",
            "    Nodes    |    Current Node    |     Objective Bounds      |     Work\n",
            " Expl Unexpl |  Obj  Depth IntInf | Incumbent    BestBd   Gap | It/Node Time\n",
            "\n",
            "     0     0   -0.13830    0   40    0.41536   -0.13830   133%     -    0s\n",
            "H    0     0                      -0.1049241   -0.13830  31.8%     -    0s\n",
            "     0     0   -0.13830    0   40   -0.10492   -0.13830  31.8%     -    0s\n",
            "     0     2   -0.13830    0   40   -0.10492   -0.13830  31.8%     -    0s\n",
            "*   37    28              34      -0.1376550   -0.13825  0.44%  12.8    0s\n",
            "*   38    26              34      -0.1377143   -0.13825  0.39%  12.5    0s\n",
            "*  143    65              28      -0.1378046   -0.13823  0.31%  12.3    0s\n",
            "\n",
            "Explored 1060 nodes (14550 simplex iterations) in 0.74 seconds\n",
            "Thread count was 2 (of 2 available processors)\n",
            "\n",
            "Solution count 5: -0.137805 -0.137714 -0.137655 ... 0.415362\n",
            "\n",
            "Optimal solution found (tolerance 1.00e-04)\n",
            "Warning: max constraint violation (9.5396e-06) exceeds tolerance\n",
            "Best objective -1.378045764834e-01, best bound -1.378094811705e-01, gap 0.0036%\n"
          ]
        }
      ]
    },
    {
      "cell_type": "code",
      "metadata": {
        "colab": {
          "base_uri": "https://localhost:8080/"
        },
        "id": "uM1wyNqTzF2C",
        "outputId": "7565ccd6-5fff-4d35-ca1b-8dc50c66433f"
      },
      "source": [
        "w.X"
      ],
      "execution_count": 131,
      "outputs": [
        {
          "output_type": "execute_result",
          "data": {
            "text/plain": [
              "array([0.        , 0.00197499, 0.00262443, 0.        , 0.00186244,\n",
              "       0.00281037, 0.00084986, 0.        , 0.        , 0.        ,\n",
              "       0.        , 0.        , 0.        , 0.        , 0.00014356,\n",
              "       0.        , 0.00869874, 0.        , 0.        , 0.        ,\n",
              "       0.        , 0.00728153, 0.00510761, 0.        , 0.00505178,\n",
              "       0.        , 0.        , 0.        , 0.        , 0.        ,\n",
              "       0.0001149 , 0.        , 0.00220044, 0.00303612, 0.        ,\n",
              "       0.        , 0.00075859, 0.        ])"
            ]
          },
          "metadata": {},
          "execution_count": 131
        }
      ]
    },
    {
      "cell_type": "code",
      "metadata": {
        "colab": {
          "base_uri": "https://localhost:8080/"
        },
        "id": "C27WsQbVsCz8",
        "outputId": "88f82039-1d3f-42b5-c5f8-79ae0eabe2ef"
      },
      "source": [
        "Y_.columns"
      ],
      "execution_count": 132,
      "outputs": [
        {
          "output_type": "execute_result",
          "data": {
            "text/plain": [
              "Index(['ROC1', 'ROC2', 'ROC3', 'ROC4', 'ROC5', 'INV1', 'INV2', 'INV3', 'PRO1',\n",
              "       'PRO2', 'PRO3', 'PRO4', 'PRO5', 'PRO6', 'PRO7', 'LEV1', 'LEV2', 'LEV3',\n",
              "       'LEV4', 'LEV5', 'RET1', 'LIQ1', 'LIQ2', 'LIQ3', 'LIQ4', 'LIQ5', 'RISK1',\n",
              "       'RISK2', 'RISK3', 'GRW1', 'GRW2', 'GRW3', 'GRW4', 'GRW5', 'GRW6',\n",
              "       'GRW7', 'GRW8', 'bias'],\n",
              "      dtype='object')"
            ]
          },
          "metadata": {},
          "execution_count": 132
        }
      ]
    },
    {
      "cell_type": "code",
      "metadata": {
        "colab": {
          "base_uri": "https://localhost:8080/"
        },
        "id": "pqntsbs49r0N",
        "outputId": "00323a76-7d1a-4bb1-d5ca-424425e59a40"
      },
      "source": [
        "z.X"
      ],
      "execution_count": 133,
      "outputs": [
        {
          "output_type": "execute_result",
          "data": {
            "text/plain": [
              "array([-0.00000000e+00,  1.00000000e+00, -0.00000000e+00,  1.00000000e+00,\n",
              "       -0.00000000e+00, -0.00000000e+00, -0.00000000e+00,  1.00000000e+00,\n",
              "       -0.00000000e+00, -0.00000000e+00, -0.00000000e+00, -0.00000000e+00,\n",
              "        1.00000000e+00,  1.00000000e+00, -0.00000000e+00, -0.00000000e+00,\n",
              "       -0.00000000e+00, -0.00000000e+00, -0.00000000e+00, -0.00000000e+00,\n",
              "       -0.00000000e+00, -0.00000000e+00, -0.00000000e+00, -0.00000000e+00,\n",
              "       -0.00000000e+00, -0.00000000e+00,  9.53957906e-06,  1.00000000e+00,\n",
              "       -0.00000000e+00,  1.00000000e+00, -0.00000000e+00, -0.00000000e+00,\n",
              "        1.00000000e+00,  1.00000000e+00,  1.00000000e+00, -0.00000000e+00,\n",
              "       -0.00000000e+00,  1.00000000e+00, -0.00000000e+00, -0.00000000e+00])"
            ]
          },
          "metadata": {},
          "execution_count": 133
        }
      ]
    },
    {
      "cell_type": "code",
      "metadata": {
        "colab": {
          "base_uri": "https://localhost:8080/"
        },
        "id": "AqRtGbFx9vju",
        "outputId": "63c8ebc2-2136-43df-cc58-33fbb9eab546"
      },
      "source": [
        "x.X"
      ],
      "execution_count": 134,
      "outputs": [
        {
          "output_type": "execute_result",
          "data": {
            "text/plain": [
              "array([0.        , 0.24918258, 0.        , 0.11378643, 0.        ,\n",
              "       0.        , 0.        , 0.001     , 0.        , 0.        ,\n",
              "       0.        , 0.        , 0.2955973 , 0.06803471, 0.        ,\n",
              "       0.        , 0.        , 0.        , 0.        , 0.        ,\n",
              "       0.        , 0.        , 0.        , 0.        , 0.        ,\n",
              "       0.        , 0.        , 0.1550913 , 0.        , 0.001     ,\n",
              "       0.        , 0.        , 0.001     , 0.001     , 0.001     ,\n",
              "       0.        , 0.        , 0.11330768, 0.        , 0.        ])"
            ]
          },
          "metadata": {},
          "execution_count": 134
        }
      ]
    },
    {
      "cell_type": "code",
      "metadata": {
        "colab": {
          "base_uri": "https://localhost:8080/"
        },
        "id": "VD5SmlOC_2mR",
        "outputId": "b90f11b9-8257-4508-911d-7219f6c5a190"
      },
      "source": [
        "np.matmul(Y_.values, w.X)"
      ],
      "execution_count": 135,
      "outputs": [
        {
          "output_type": "execute_result",
          "data": {
            "text/plain": [
              "array([-1.53190500e-03,  1.63415499e-02, -1.00000000e-03,  1.00000000e-03,\n",
              "       -1.00000000e-03, -6.31191677e-03, -1.00000000e-03,  1.07050328e-02,\n",
              "       -1.00000000e-03, -4.22763216e-03, -1.00000000e-03, -2.91757298e-03,\n",
              "        2.54197647e-02,  9.44196329e-03, -6.14515978e-03, -7.66308571e-03,\n",
              "       -1.93329140e-03, -1.00000000e-03, -1.00000000e-03, -6.19183893e-03,\n",
              "       -1.19881926e-03, -5.41918337e-03, -7.50078284e-03, -1.00000000e-03,\n",
              "       -8.35496449e-03, -8.24208303e-03, -4.60420942e-05,  1.19186578e-02,\n",
              "       -1.00000000e-03,  1.76253659e-03, -1.00000000e-03, -1.29524601e-03,\n",
              "        2.87217242e-03,  1.36400116e-02,  1.83441702e-03, -1.00000000e-03,\n",
              "       -1.00000000e-03,  1.12076077e-03, -4.12897432e-03, -1.09483689e-02])"
            ]
          },
          "metadata": {},
          "execution_count": 135
        }
      ]
    },
    {
      "cell_type": "code",
      "metadata": {
        "colab": {
          "base_uri": "https://localhost:8080/",
          "height": 265
        },
        "id": "TVbkuFKoBxgi",
        "outputId": "ba23969f-9431-4cd6-8334-155d9cc07a78"
      },
      "source": [
        "results2 = pd.DataFrame(data=np.append(x.X, [minrisk_volatility, minrisk_return]),\n",
        "             index=list(rets.columns[:N]) + ['Volatility', 'Expected Return'],\n",
        "             columns=['Minimum Risk Portfolio'])\n",
        "results2\n",
        "results2.iloc[:-2].plot();"
      ],
      "execution_count": 136,
      "outputs": [
        {
          "output_type": "display_data",
          "data": {
            "image/png": "[encoded data removed]",
            "text/plain": [
              "<Figure size 432x288 with 1 Axes>"
            ]
          },
          "metadata": {
            "needs_background": "light"
          }
        }
      ]
    },
    {
      "cell_type": "code",
      "metadata": {
        "colab": {
          "base_uri": "https://localhost:8080/",
          "height": 1000
        },
        "id": "UOCX5_3brrdZ",
        "outputId": "d25806d1-bc39-4d33-f81e-a393d62e863a"
      },
      "source": [
        "results2"
      ],
      "execution_count": 117,
      "outputs": [
        {
          "output_type": "execute_result",
          "data": {
            "text/html": [
              "<div>\n",
              "<style scoped>\n",
              "    .dataframe tbody tr th:only-of-type {\n",
              "        vertical-align: middle;\n",
              "    }\n",
              "\n",
              "    .dataframe tbody tr th {\n",
              "        vertical-align: top;\n",
              "    }\n",
              "\n",
              "    .dataframe thead th {\n",
              "        text-align: right;\n",
              "    }\n",
              "</style>\n",
              "<table border=\"1\" class=\"dataframe\">\n",
              "  <thead>\n",
              "    <tr style=\"text-align: right;\">\n",
              "      <th></th>\n",
              "      <th>Minimum Risk Portfolio</th>\n",
              "    </tr>\n",
              "  </thead>\n",
              "  <tbody>\n",
              "    <tr>\n",
              "      <th>AAPL</th>\n",
              "      <td>0.000000</td>\n",
              "    </tr>\n",
              "    <tr>\n",
              "      <th>ABC</th>\n",
              "      <td>0.226767</td>\n",
              "    </tr>\n",
              "    <tr>\n",
              "      <th>ABMD</th>\n",
              "      <td>0.000000</td>\n",
              "    </tr>\n",
              "    <tr>\n",
              "      <th>ABT</th>\n",
              "      <td>0.000000</td>\n",
              "    </tr>\n",
              "    <tr>\n",
              "      <th>ADBE</th>\n",
              "      <td>0.000000</td>\n",
              "    </tr>\n",
              "    <tr>\n",
              "      <th>ADI</th>\n",
              "      <td>0.000000</td>\n",
              "    </tr>\n",
              "    <tr>\n",
              "      <th>ADM</th>\n",
              "      <td>0.000000</td>\n",
              "    </tr>\n",
              "    <tr>\n",
              "      <th>ADP</th>\n",
              "      <td>0.000000</td>\n",
              "    </tr>\n",
              "    <tr>\n",
              "      <th>ADSK</th>\n",
              "      <td>0.000000</td>\n",
              "    </tr>\n",
              "    <tr>\n",
              "      <th>AEE</th>\n",
              "      <td>0.000000</td>\n",
              "    </tr>\n",
              "    <tr>\n",
              "      <th>AEP</th>\n",
              "      <td>0.000000</td>\n",
              "    </tr>\n",
              "    <tr>\n",
              "      <th>AES</th>\n",
              "      <td>0.000000</td>\n",
              "    </tr>\n",
              "    <tr>\n",
              "      <th>AJG</th>\n",
              "      <td>0.212065</td>\n",
              "    </tr>\n",
              "    <tr>\n",
              "      <th>AKAM</th>\n",
              "      <td>0.047742</td>\n",
              "    </tr>\n",
              "    <tr>\n",
              "      <th>ALB</th>\n",
              "      <td>0.000000</td>\n",
              "    </tr>\n",
              "    <tr>\n",
              "      <th>ALK</th>\n",
              "      <td>0.000000</td>\n",
              "    </tr>\n",
              "    <tr>\n",
              "      <th>AMAT</th>\n",
              "      <td>0.000000</td>\n",
              "    </tr>\n",
              "    <tr>\n",
              "      <th>AMD</th>\n",
              "      <td>0.000000</td>\n",
              "    </tr>\n",
              "    <tr>\n",
              "      <th>AME</th>\n",
              "      <td>0.000000</td>\n",
              "    </tr>\n",
              "    <tr>\n",
              "      <th>AMGN</th>\n",
              "      <td>0.000000</td>\n",
              "    </tr>\n",
              "    <tr>\n",
              "      <th>AMT</th>\n",
              "      <td>0.000000</td>\n",
              "    </tr>\n",
              "    <tr>\n",
              "      <th>AMZN</th>\n",
              "      <td>0.000000</td>\n",
              "    </tr>\n",
              "    <tr>\n",
              "      <th>ANSS</th>\n",
              "      <td>0.000000</td>\n",
              "    </tr>\n",
              "    <tr>\n",
              "      <th>AON</th>\n",
              "      <td>0.000000</td>\n",
              "    </tr>\n",
              "    <tr>\n",
              "      <th>AOS</th>\n",
              "      <td>0.000000</td>\n",
              "    </tr>\n",
              "    <tr>\n",
              "      <th>APA</th>\n",
              "      <td>0.000000</td>\n",
              "    </tr>\n",
              "    <tr>\n",
              "      <th>APD</th>\n",
              "      <td>0.000000</td>\n",
              "    </tr>\n",
              "    <tr>\n",
              "      <th>APH</th>\n",
              "      <td>0.105965</td>\n",
              "    </tr>\n",
              "    <tr>\n",
              "      <th>ATO</th>\n",
              "      <td>0.000000</td>\n",
              "    </tr>\n",
              "    <tr>\n",
              "      <th>AVY</th>\n",
              "      <td>0.010000</td>\n",
              "    </tr>\n",
              "    <tr>\n",
              "      <th>AZO</th>\n",
              "      <td>0.000000</td>\n",
              "    </tr>\n",
              "    <tr>\n",
              "      <th>BA</th>\n",
              "      <td>0.000000</td>\n",
              "    </tr>\n",
              "    <tr>\n",
              "      <th>BAX</th>\n",
              "      <td>0.010000</td>\n",
              "    </tr>\n",
              "    <tr>\n",
              "      <th>BBY</th>\n",
              "      <td>0.010000</td>\n",
              "    </tr>\n",
              "    <tr>\n",
              "      <th>BDX</th>\n",
              "      <td>0.000000</td>\n",
              "    </tr>\n",
              "    <tr>\n",
              "      <th>BKNG</th>\n",
              "      <td>0.000000</td>\n",
              "    </tr>\n",
              "    <tr>\n",
              "      <th>BLL</th>\n",
              "      <td>0.000000</td>\n",
              "    </tr>\n",
              "    <tr>\n",
              "      <th>BMY</th>\n",
              "      <td>0.000000</td>\n",
              "    </tr>\n",
              "    <tr>\n",
              "      <th>BSX</th>\n",
              "      <td>0.000000</td>\n",
              "    </tr>\n",
              "    <tr>\n",
              "      <th>BWA</th>\n",
              "      <td>0.000000</td>\n",
              "    </tr>\n",
              "    <tr>\n",
              "      <th>CAG</th>\n",
              "      <td>0.000000</td>\n",
              "    </tr>\n",
              "    <tr>\n",
              "      <th>CAH</th>\n",
              "      <td>0.357462</td>\n",
              "    </tr>\n",
              "    <tr>\n",
              "      <th>CAT</th>\n",
              "      <td>0.000000</td>\n",
              "    </tr>\n",
              "    <tr>\n",
              "      <th>CCI</th>\n",
              "      <td>0.000000</td>\n",
              "    </tr>\n",
              "    <tr>\n",
              "      <th>CCL</th>\n",
              "      <td>0.000000</td>\n",
              "    </tr>\n",
              "    <tr>\n",
              "      <th>CDNS</th>\n",
              "      <td>0.000000</td>\n",
              "    </tr>\n",
              "    <tr>\n",
              "      <th>CERN</th>\n",
              "      <td>0.000000</td>\n",
              "    </tr>\n",
              "    <tr>\n",
              "      <th>CHD</th>\n",
              "      <td>0.000000</td>\n",
              "    </tr>\n",
              "    <tr>\n",
              "      <th>CHRW</th>\n",
              "      <td>0.010000</td>\n",
              "    </tr>\n",
              "    <tr>\n",
              "      <th>CI</th>\n",
              "      <td>0.010000</td>\n",
              "    </tr>\n",
              "    <tr>\n",
              "      <th>Volatility</th>\n",
              "      <td>0.029820</td>\n",
              "    </tr>\n",
              "    <tr>\n",
              "      <th>Expected Return</th>\n",
              "      <td>-0.002096</td>\n",
              "    </tr>\n",
              "  </tbody>\n",
              "</table>\n",
              "</div>"
            ],
            "text/plain": [
              "                 Minimum Risk Portfolio\n",
              "AAPL                           0.000000\n",
              "ABC                            0.226767\n",
              "ABMD                           0.000000\n",
              "ABT                            0.000000\n",
              "ADBE                           0.000000\n",
              "ADI                            0.000000\n",
              "ADM                            0.000000\n",
              "ADP                            0.000000\n",
              "ADSK                           0.000000\n",
              "AEE                            0.000000\n",
              "AEP                            0.000000\n",
              "AES                            0.000000\n",
              "AJG                            0.212065\n",
              "AKAM                           0.047742\n",
              "ALB                            0.000000\n",
              "ALK                            0.000000\n",
              "AMAT                           0.000000\n",
              "AMD                            0.000000\n",
              "AME                            0.000000\n",
              "AMGN                           0.000000\n",
              "AMT                            0.000000\n",
              "AMZN                           0.000000\n",
              "ANSS                           0.000000\n",
              "AON                            0.000000\n",
              "AOS                            0.000000\n",
              "APA                            0.000000\n",
              "APD                            0.000000\n",
              "APH                            0.105965\n",
              "ATO                            0.000000\n",
              "AVY                            0.010000\n",
              "AZO                            0.000000\n",
              "BA                             0.000000\n",
              "BAX                            0.010000\n",
              "BBY                            0.010000\n",
              "BDX                            0.000000\n",
              "BKNG                           0.000000\n",
              "BLL                            0.000000\n",
              "BMY                            0.000000\n",
              "BSX                            0.000000\n",
              "BWA                            0.000000\n",
              "CAG                            0.000000\n",
              "CAH                            0.357462\n",
              "CAT                            0.000000\n",
              "CCI                            0.000000\n",
              "CCL                            0.000000\n",
              "CDNS                           0.000000\n",
              "CERN                           0.000000\n",
              "CHD                            0.000000\n",
              "CHRW                           0.010000\n",
              "CI                             0.010000\n",
              "Volatility                     0.029820\n",
              "Expected Return               -0.002096"
            ]
          },
          "metadata": {},
          "execution_count": 117
        }
      ]
    },
    {
      "cell_type": "code",
      "metadata": {
        "colab": {
          "base_uri": "https://localhost:8080/"
        },
        "id": "2FFmJ6GOr0WX",
        "outputId": "f7a5035e-f545-4eb9-c0d0-40d1d28d6452"
      },
      "source": [
        "mean"
      ],
      "execution_count": 87,
      "outputs": [
        {
          "output_type": "execute_result",
          "data": {
            "text/plain": [
              "array([[ 0.07271981],\n",
              "       [ 0.27477976],\n",
              "       [-0.15518335],\n",
              "       [ 0.11789107],\n",
              "       [ 0.13575763],\n",
              "       [-0.08407297],\n",
              "       [-0.08297169],\n",
              "       [ 0.00718053],\n",
              "       [-0.03894175],\n",
              "       [-0.04304447],\n",
              "       [-0.13565771],\n",
              "       [ 0.06290918],\n",
              "       [ 0.14471001],\n",
              "       [ 0.40758457],\n",
              "       [-0.08149147],\n",
              "       [-0.07082925],\n",
              "       [ 0.02214004],\n",
              "       [-0.07392576],\n",
              "       [-0.1367862 ],\n",
              "       [ 0.10785153],\n",
              "       [ 0.00827223],\n",
              "       [-0.20929482],\n",
              "       [ 0.01896374],\n",
              "       [-0.0719679 ],\n",
              "       [ 0.02061205],\n",
              "       [ 0.05864437],\n",
              "       [-0.06982479],\n",
              "       [ 0.28216841],\n",
              "       [-0.04938862],\n",
              "       [ 0.04096284],\n",
              "       [-0.18233664],\n",
              "       [ 0.08937364],\n",
              "       [ 0.07285177],\n",
              "       [-0.03546648],\n",
              "       [ 0.04857269],\n",
              "       [-0.14566807],\n",
              "       [ 0.03019753],\n",
              "       [ 0.09419487],\n",
              "       [-0.06542316],\n",
              "       [-0.09406549],\n",
              "       [-0.08608611],\n",
              "       [ 0.18804296],\n",
              "       [-0.09974793],\n",
              "       [ 0.11541801],\n",
              "       [-0.14939698],\n",
              "       [ 0.14989374],\n",
              "       [ 0.09869793],\n",
              "       [-0.04189872],\n",
              "       [ 0.16460924],\n",
              "       [ 0.0540197 ]])"
            ]
          },
          "metadata": {},
          "execution_count": 87
        }
      ]
    }
  ]
}