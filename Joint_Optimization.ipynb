{
  "nbformat": 4,
  "nbformat_minor": 0,
  "metadata": {
    "colab": {
      "name": "Joint Optimization.ipynb",
      "provenance": [],
      "collapsed_sections": [],
      "mount_file_id": "1hDdRLz3mUB0Ldphf50Bl9ZWw8qHh1iP5",
      "authorship_tag": "ABX9TyOUs8PXc++mirqKuFQAMJau",
      "include_colab_link": true
    },
    "kernelspec": {
      "name": "python3",
      "display_name": "Python 3"
    },
    "language_info": {
      "name": "python"
    }
  },
  "cells": [
    {
      "cell_type": "markdown",
      "metadata": {
        "id": "view-in-github",
        "colab_type": "text"
      },
      "source": [
        "<a href=\"https://colab.research.google.com/github/davidislip/SVM-and-MVO/blob/main/Joint_Optimization.ipynb\" target=\"_parent\"><img src=\"https://colab.research.google.com/assets/colab-badge.svg\" alt=\"Open In Colab\"/></a>"
      ]
    },
    {
      "cell_type": "markdown",
      "metadata": {
        "id": "MqN_y29M6YR8"
      },
      "source": [
        "### Integration of SVM and MVO \n",
        "The idea is to integrate support vector machines and mean variance optimization \n",
        "\n",
        "$$\n",
        "\\begin{align} \n",
        "\\min_{x, z, w, b} \\quad & x^{\\intercal}\\Sigma x + \\frac{1}{2}||{w}||^2 &\\\\ \n",
        "\\textrm{s.t.} \\quad & \\mu^\\intercal x  \\geq \\bar{R} \\\\\n",
        "\\quad & z_i \\leq M x_i &\\forall i = 1,2,...,N  \\\\\n",
        "\\quad & x_i \\leq z_i \\quad &\\forall i = 1,2,...,N \\\\\n",
        "              \\quad & y_i^{\\intercal} w + b \\leq M z_i - \\epsilon \\quad & \\forall i = 1,2,...,N \\\\\n",
        "              \\quad & -M(1-z_i) + \\epsilon \\leq  y_i^{\\intercal} w + b \\quad &\\forall i = 1,2,...,N \\\\\n",
        "              \\quad & x \\in \\mathcal{C} \\quad z \\in \\{0,1\\}^N & \\\\\n",
        "\\end{align} \n",
        "$$"
      ]
    },
    {
      "cell_type": "code",
      "metadata": {
        "colab": {
          "base_uri": "https://localhost:8080/"
        },
        "id": "l3fEvFDq6PgZ",
        "outputId": "f524ceb9-a951-43a4-e3b4-2985bd95e840"
      },
      "source": [
        "!sudo python -m pip install gurobipy==9.1.2\n",
        "import gurobipy as gp\n",
        "from gurobipy import GRB\n",
        "from google.colab import drive \n",
        "drive.mount('/content/gdrive')\n",
        "from math import sqrt\n",
        "import sys\n",
        "pth = 'gdrive/My Drive/Colab Notebooks/'\n",
        "sys.path.append(pth + 'SVM MVO/PYFILES/')\n",
        "from packages import *\n",
        "%matplotlib inline\n",
        "\n",
        "## Import Forecasts\n",
        "forecasts = pd.read_pickle(pth +'SVM MVO/DATA/Forecasts.pkl')\n",
        "## Import Returns\n",
        "rets = pd.read_pickle(pth + 'SVM MVO/DATA/RETS.pkl')\n",
        "## Import feature vectors\n",
        "wrds_svm = pd.read_pickle(pth + 'SVM MVO/DATA/WRDS_ASOF.pkl')"
      ],
      "execution_count": 84,
      "outputs": [
        {
          "output_type": "stream",
          "name": "stdout",
          "text": [
            "Requirement already satisfied: gurobipy==9.1.2 in /usr/local/lib/python3.7/dist-packages (9.1.2)\n",
            "Drive already mounted at /content/gdrive; to attempt to forcibly remount, call drive.mount(\"/content/gdrive\", force_remount=True).\n"
          ]
        }
      ]
    },
    {
      "cell_type": "code",
      "metadata": {
        "colab": {
          "base_uri": "https://localhost:8080/"
        },
        "id": "knc5ipCyNDrK",
        "outputId": "db83f0f6-6822-4881-e682-e1d07063e7d4"
      },
      "source": [
        "e = gp.Env(empty=True)\n",
        "gurobi_licence = pd.read_csv(pth +'SVM MVO/DATA/gurobi.csv')\n",
        "e.setParam('WLSACCESSID', gurobi_licence.WLSACCESSID[0])\n",
        "e.setParam('LICENSEID', gurobi_licence.LICENSEID[0])\n",
        "e.setParam('WLSSECRET', gurobi_licence.WLSSECRET[0])\n",
        "e.start()"
      ],
      "execution_count": 85,
      "outputs": [
        {
          "output_type": "stream",
          "name": "stdout",
          "text": [
            "Changed value of parameter WLSACCESSID\n",
            "Changed value of parameter LICENSEID\n",
            "Changed value of parameter WLSSECRET\n",
            "Academic license - for non-commercial use only - registered to ryan.islip@mail.utoronto.ca\n",
            "Using license file /usr/local/lib/python3.7/dist-packages/gurobipy/.libs/gurobi.lic\n",
            "Set parameter WLSAccessID\n",
            "Set parameter WLSSecret\n",
            "Set parameter LicenseID\n"
          ]
        },
        {
          "output_type": "execute_result",
          "data": {
            "text/plain": [
              "<gurobipy.Env, No parameter changes>"
            ]
          },
          "metadata": {},
          "execution_count": 85
        }
      ]
    },
    {
      "cell_type": "code",
      "metadata": {
        "id": "5NswPR4F6Wvy",
        "colab": {
          "base_uri": "https://localhost:8080/"
        },
        "outputId": "2ffc3e0e-21c2-43a4-eb6c-825297d96062"
      },
      "source": [
        "mth = rets.index[0]\n",
        "mth\n",
        "len(mean_)"
      ],
      "execution_count": 89,
      "outputs": [
        {
          "output_type": "execute_result",
          "data": {
            "text/plain": [
              "286"
            ]
          },
          "metadata": {},
          "execution_count": 89
        }
      ]
    },
    {
      "cell_type": "code",
      "metadata": {
        "colab": {
          "base_uri": "https://localhost:8080/"
        },
        "id": "nYBpVMDbM5Pi",
        "outputId": "d8defc39-8344-4909-e07f-39fa2bed4ef5"
      },
      "source": [
        "#preprocessing \n",
        "cov_, mean_ = forecasts[mth]\n",
        "N = 60\n",
        "cov = cov_[:N,:N]\n",
        "mean = mean_[:N,:]\n",
        "tics = list(rets.columns[:N])\n",
        "print(\"valid tickers:\", tics)\n",
        "#get the wharton research data for the valid tickers for the month\n",
        "wrds_tics = wrds_svm[wrds_svm.index.get_level_values('tic').isin(tics)].xs(mth, level=\"MonthStart\")\n",
        "#restrict the wharton research data to the columns of interest\n",
        "Y = wrds_tics.loc[:,\"ROC1\":\"GRW8\"] # Y matrix in formulation \n",
        "Y_ =  (Y - Y.mean(axis=0))/(Y.std(axis=0))\n",
        "Y_ = Y_.iloc[:,:]\n",
        "#Y_ = Y_[['ROC1', 'INV1', 'PRO1'\t, 'GRW1', 'LEV1', 'LIQ1']]\n",
        "Y_ = Y_[['ROC1', 'INV1']]\n",
        "\n",
        "ret_constr = -1\n",
        "soft_margin = 40"
      ],
      "execution_count": 130,
      "outputs": [
        {
          "output_type": "stream",
          "name": "stdout",
          "text": [
            "valid tickers: ['AAPL', 'ABC', 'ABMD', 'ABT', 'ADBE', 'ADI', 'ADM', 'ADP', 'ADSK', 'AEE', 'AEP', 'AES', 'AJG', 'AKAM', 'ALB', 'ALK', 'AMAT', 'AMD', 'AME', 'AMGN', 'AMT', 'AMZN', 'ANSS', 'AON', 'AOS', 'APA', 'APD', 'APH', 'ATO', 'AVY', 'AZO', 'BA', 'BAX', 'BBY', 'BDX', 'BKNG', 'BLL', 'BMY', 'BSX', 'BWA', 'CAG', 'CAH', 'CAT', 'CCI', 'CCL', 'CDNS', 'CERN', 'CHD', 'CHRW', 'CI', 'CL', 'CLX', 'CMCSA', 'CMI', 'CMS', 'CNP', 'COO', 'COP', 'COST', 'CPB']\n"
          ]
        }
      ]
    },
    {
      "cell_type": "code",
      "metadata": {
        "colab": {
          "base_uri": "https://localhost:8080/"
        },
        "id": "M_AOUqVk9W9E",
        "outputId": "f9474ef2-316a-4211-d108-db7c41e0e369"
      },
      "source": [
        "print(wrds_svm.columns[(wrds_svm == np.inf).any(axis = 0).values])"
      ],
      "execution_count": 131,
      "outputs": [
        {
          "output_type": "stream",
          "name": "stdout",
          "text": [
            "Index([], dtype='object')\n"
          ]
        }
      ]
    },
    {
      "cell_type": "code",
      "metadata": {
        "id": "_wCkTgWbCJW7"
      },
      "source": [
        "class SVMMVO:\n",
        "\n",
        "  bigM = 100\n",
        "\n",
        "  def __init__(self, tics, mean_ret, cov, ret_constr, soft_margin, exogenous, svm_choice = (False, False)):\n",
        "    self.tics = tics #list of tickers\n",
        "    self.mean_ret = mean_ret\n",
        "    self.cov = cov\n",
        "    self.ret_constr = ret_constr\n",
        "    self.soft_margin = soft_margin\n",
        "    self.exogenous = exogenous\n",
        "    self.svm_constr, self.slacks = svm_choice\n",
        "    N, m = self.exogenous.shape\n",
        "    self.model = gp.Model(env = e)\n",
        "    self.x = self.model.addMVar(N)\n",
        "    self.w = self.model.addMVar(m)\n",
        "    self.b = self.model.addMVar(1)\n",
        "    self.z = self.model.addMVar(N, vtype=GRB.BINARY)\n",
        "    self.xi = self.model.addMVar(N, lb = np.zeros(N))\n",
        "    self.ret_target = self.model.addConstr(mean_ret[:,0] @ self.x >= self.ret_constr, 'target')\n",
        "    self.port_exptd_ret = mean_ret[:,0] @ self.x\n",
        "    self.portfolio_risk = self.x @ self.cov @ self.x\n",
        "\n",
        "  @property\n",
        "  def describe(self):\n",
        "    if self.svm_constr:\n",
        "      if self.slacks:\n",
        "        desc = \"SVM MVO with Slacks with return = \"+str(self.ret_constr)\n",
        "        shrt = \"SVMMVO_Slck_ret\"+str(self.ret_constr)\n",
        "      else:\n",
        "        desc = \"SVM MVO with no Slacks with return = \"+str(self.ret_constr)\n",
        "        shrt = \"SVMMVO_ret\"+str(self.ret_constr)\n",
        "    else:\n",
        "      desc = \"Traditional MVO with return = \"+str(self.ret_constr)\n",
        "      shrt = \"MVO_ret\"+str(self.ret_constr)\n",
        "    return (desc, shrt)\n",
        "\n",
        "  def setModel(self):\n",
        "    N, m = self.exogenous.shape\n",
        "    bigM = SVMMVO.bigM\n",
        "    svm_margin = (1/2)*(self.w @ self.w)\n",
        "    soft_penalty = (self.soft_margin/N)*self.xi.sum()\n",
        "    self.model.addConstr(self.x.sum() == 1, 'budget')\n",
        "\n",
        "    if not self.svm_constr and self.slacks:\n",
        "      #if we do not want to use svm then dont use svm with slack\n",
        "      print(\"Cannot SVM with slack without SVM ... self.slacks set to False\")\n",
        "      self.slacks = svm_constr\n",
        "\n",
        "    if self.svm_constr:\n",
        "      self.model.addConstr(self.x <= self.z, \"z force x\" ) #if x is close to zero then z must be zero \n",
        "      self.model.addConstr(self.z <= 10*bigM*self.x, \"z force x\" ) # if z is zero then x must be zero \n",
        "\n",
        "      if self.slacks:\n",
        "        self.model.setObjective(self.portfolio_risk + svm_margin + soft_penalty, GRB.MINIMIZE) # if z is zero then x must be zero\n",
        "        for i in range(N): #adding the SVM type constraints\n",
        "          y_i = self.exogenous.iloc[i].values\n",
        "          self.model.addConstr(self.w @ y_i + self.b <= -0.001 + self.xi[i] + (bigM)*self.z[i], \"svm1\" ) \n",
        "          self.model.addConstr(-1*  (bigM) *(1 - self.z[i])  + 0.001 - self.xi[i] <= y_i @ self.w + self.b , \"svm2\" )\n",
        "\n",
        "      else:\n",
        "        self.model.remove([self.xi])\n",
        "        self.model.setObjective(self.portfolio_risk + svm_margin, GRB.MINIMIZE) # if z is zero then x must be zero\n",
        "        for i in range(N): #adding the SVM type constraints\n",
        "          y_i = self.exogenous.iloc[i].values\n",
        "          self.model.addConstr(self.w @ y_i + self.b <= -0.001 +  (bigM)*self.z[i], \"svm1\" ) \n",
        "          self.model.addConstr(-1*  (bigM) *(1 - self.z[i])  + 0.001 <= y_i @ self.w + self.b  , \"svm2\" )\n",
        "\n",
        "    else:#not svm mvo\n",
        "      self.model.setObjective(self.portfolio_risk, GRB.MINIMIZE)\n",
        "      self.model.remove([self.w, self.b, self.z, self.xi])\n",
        "\n",
        "  def optimize(self):\n",
        "    self.model.optimize()\n",
        "    self.model.write('portfolio_selection_optimization.lp')\n",
        "\n",
        "  def evaluate(self, realized_ret):\n",
        "    ret = np.dot(self.x.X, realized_ret)\n",
        "    return ret #use this to calculate out of sample rets and var\n",
        "\n",
        "  def get_estimates(self):\n",
        "    vol_metric = np.sqrt(self.portfolio_risk.getValue())[0]\n",
        "    expt_ret_metric = self.port_exptd_ret.getValue()[0]\n",
        "    return [vol_metric, expt_ret_metric] #use this for efficient frontiers\n",
        "\n",
        "  def get_results(self, export_dir = '', fig_size = ()):\n",
        "    lng, shrt = self.describe\n",
        "    vol_metric = np.sqrt(self.portfolio_risk.getValue())[0]\n",
        "    expt_ret_metric = self.port_exptd_ret.getValue()[0]\n",
        "    results = pd.DataFrame(data=np.append(self.x.X, [vol_metric, expt_ret_metric]),\n",
        "    index= list(self.tics) + ['Volatility', 'Expected Return'], columns=[lng])\n",
        "    if (export_dir != ''):\n",
        "      results.to_csv(export_dir+'results.csv')\n",
        "    if fig_size != () and type(fig_size) in [list, tuple]:\n",
        "      results.plot(figsize = fig_size)\n",
        "    return  results \n",
        "\n",
        "  def get_frontier(self, export_dir = '', fig_size = (10,8)):\n",
        "    mean_ret = self.mean_ret[:,0]\n",
        "    frontier = np.empty((2,0))\n",
        "    expt_ret_metric = self.port_exptd_ret.getValue()[0]\n",
        "\n",
        "    self.model.remove(self.ret_target)\n",
        "    self.model.update()\n",
        "\n",
        "    self.ret_target = self.model.addConstr(self.port_exptd_ret == expt_ret_metric, 'target ==')\n",
        "    self.model.update()\n",
        "\n",
        "    for r in np.linspace(mean_ret.min(), mean_ret.max(), 25):\n",
        "      self.ret_target[0].rhs = r\n",
        "      self.model.optimize()\n",
        "      if  self.model.status == 4:\n",
        "        break\n",
        "      vol_metric = np.sqrt(self.portfolio_risk.getValue())[0]\n",
        "      frontier = np.append(frontier, [[vol_metric],[r]], axis=1)\n",
        "      if self.svm_constr and self.slacks:\n",
        "        print(\"return\", r)\n",
        "        print(\"w\", self.w.X)\n",
        "        print(\"z\", self.z.X)\n",
        "        print(\"xi\", self.xi.X)\n",
        "        print(\"\")\n",
        "    if  self.model.status == 4:\n",
        "      return None\n",
        "    #restore model to original state\n",
        "    self.model.remove(self.ret_target)\n",
        "    self.model.update()\n",
        "    self.ret_target = self.model.addConstr(self.port_exptd_ret >= self.ret_constr, 'target')\n",
        "    self.model.optimize()\n",
        "\n",
        "    fig, ax = plt.subplots(figsize=fig_size)\n",
        "    # Plot efficient frontier\n",
        "    ax.plot(frontier[0], frontier[1], '-*', label='Efficient Frontier', color='DarkGreen')\n",
        "\n",
        "    # Format and display the final plot\n",
        "    ax.axis([frontier[0].min()*0.7, frontier[0].max()*1.3, mean_ret.min()*1.2, mean_ret.max()*1.2])\n",
        "    ax.set_xlabel('Volatility (standard deviation)')\n",
        "    ax.set_ylabel('Expected Return')\n",
        "    # ax.legend()\n",
        "    ax.grid()\n",
        "    plt.show()\n",
        "    if (export_dir != ''):\n",
        "      plt.savefig(export_dir+\"EfficientFrontier.png\")\n",
        "    return frontier \n"
      ],
      "execution_count": 146,
      "outputs": []
    },
    {
      "cell_type": "markdown",
      "metadata": {
        "id": "W3ta3eSVfHCy"
      },
      "source": [
        "### Simple Min Variance Portfolio "
      ]
    },
    {
      "cell_type": "code",
      "metadata": {
        "colab": {
          "base_uri": "https://localhost:8080/"
        },
        "id": "7kwcvWSsHzZ5",
        "outputId": "9651abda-a4f6-4b39-8a76-8f977e4a9596"
      },
      "source": [
        "MVO = SVMMVO(tics, mean, cov, ret_constr, soft_margin, Y_, svm_choice = (False, False)) #define an instance of the class\n",
        "MVO.setModel() #set up the model\n",
        "MVO.optimize() #find optimal solution"
      ],
      "execution_count": 147,
      "outputs": [
        {
          "output_type": "stream",
          "name": "stdout",
          "text": [
            "Gurobi Optimizer version 9.1.2 build v9.1.2rc0 (linux64)\n",
            "Thread count: 1 physical cores, 2 logical processors, using up to 2 threads\n",
            "Academic license - for non-commercial use only - registered to ryan.islip@mail.utoronto.ca\n",
            "Optimize a model with 2 rows, 60 columns and 120 nonzeros\n",
            "Model fingerprint: 0x31dc47d4\n",
            "Model has 1830 quadratic objective terms\n",
            "Coefficient statistics:\n",
            "  Matrix range     [2e-03, 1e+00]\n",
            "  Objective range  [0e+00, 0e+00]\n",
            "  QObjective range [3e-05, 7e-01]\n",
            "  Bounds range     [0e+00, 0e+00]\n",
            "  RHS range        [1e+00, 1e+00]\n",
            "Presolve time: 0.02s\n",
            "Presolved: 2 rows, 60 columns, 120 nonzeros\n",
            "Presolved model has 1830 quadratic objective terms\n",
            "Ordering time: 0.00s\n",
            "\n",
            "Barrier statistics:\n",
            " Free vars  : 59\n",
            " AA' NZ     : 1.830e+03\n",
            " Factor NZ  : 1.891e+03\n",
            " Factor Ops : 7.753e+04 (less than 1 second per iteration)\n",
            " Threads    : 1\n",
            "\n",
            "                  Objective                Residual\n",
            "Iter       Primal          Dual         Primal    Dual     Compl     Time\n",
            "   0   3.76948995e+05 -3.76948995e+05  4.68e+04 3.94e-04  1.00e+06     0s\n",
            "   1   1.57901048e+05 -1.58175865e+05  3.99e+03 3.36e-05  9.04e+04     0s\n",
            "   2   1.08120575e+04 -1.11022641e+04  1.66e+02 1.40e-06  4.06e+03     0s\n",
            "   3   4.20263412e+01 -3.31945267e+02  1.87e+00 1.58e-08  5.22e+01     0s\n",
            "   4   1.38119319e-01 -2.23064319e+02  1.87e-06 1.58e-14  3.66e+00     0s\n",
            "   5   1.37353191e-01 -5.48440381e-01  3.85e-09 3.25e-17  1.12e-02     0s\n",
            "   6   1.69018846e-02 -1.72839947e-01  3.83e-15 8.88e-16  3.11e-03     0s\n",
            "   7   6.43226014e-03 -9.94558831e-03  2.50e-16 4.44e-16  2.68e-04     0s\n",
            "   8   1.79297188e-03 -3.35144321e-03  2.43e-17 2.78e-17  8.43e-05     0s\n",
            "   9   9.40425458e-04  2.47697347e-04  1.39e-17 1.39e-17  1.14e-05     0s\n",
            "  10   6.96622484e-04  5.27498675e-04  6.77e-17 5.20e-18  2.77e-06     0s\n",
            "  11   6.32318391e-04  5.86398462e-04  3.47e-17 6.94e-18  7.53e-07     0s\n",
            "  12   6.09435863e-04  6.07433278e-04  5.55e-17 6.07e-18  3.28e-08     0s\n",
            "  13   6.07996903e-04  6.07989560e-04  1.60e-16 1.04e-17  1.20e-10     0s\n",
            "\n",
            "Barrier solved model in 13 iterations and 0.10 seconds\n",
            "Optimal objective 6.07996903e-04\n",
            "\n"
          ]
        }
      ]
    },
    {
      "cell_type": "code",
      "metadata": {
        "colab": {
          "base_uri": "https://localhost:8080/",
          "height": 665
        },
        "id": "oFFfgematXBp",
        "outputId": "c8d309c9-7cf1-4af0-8f16-1b446eecd6c8"
      },
      "source": [
        "MVO.get_results(fig_size=(8,4))"
      ],
      "execution_count": 148,
      "outputs": [
        {
          "output_type": "execute_result",
          "data": {
            "text/html": [
              "<div>\n",
              "<style scoped>\n",
              "    .dataframe tbody tr th:only-of-type {\n",
              "        vertical-align: middle;\n",
              "    }\n",
              "\n",
              "    .dataframe tbody tr th {\n",
              "        vertical-align: top;\n",
              "    }\n",
              "\n",
              "    .dataframe thead th {\n",
              "        text-align: right;\n",
              "    }\n",
              "</style>\n",
              "<table border=\"1\" class=\"dataframe\">\n",
              "  <thead>\n",
              "    <tr style=\"text-align: right;\">\n",
              "      <th></th>\n",
              "      <th>Traditional MVO with return = -1</th>\n",
              "    </tr>\n",
              "  </thead>\n",
              "  <tbody>\n",
              "    <tr>\n",
              "      <th>AAPL</th>\n",
              "      <td>3.830745e-08</td>\n",
              "    </tr>\n",
              "    <tr>\n",
              "      <th>ABC</th>\n",
              "      <td>1.734502e-08</td>\n",
              "    </tr>\n",
              "    <tr>\n",
              "      <th>ABMD</th>\n",
              "      <td>6.942599e-08</td>\n",
              "    </tr>\n",
              "    <tr>\n",
              "      <th>ABT</th>\n",
              "      <td>8.266808e-03</td>\n",
              "    </tr>\n",
              "    <tr>\n",
              "      <th>ADBE</th>\n",
              "      <td>1.687418e-08</td>\n",
              "    </tr>\n",
              "    <tr>\n",
              "      <th>...</th>\n",
              "      <td>...</td>\n",
              "    </tr>\n",
              "    <tr>\n",
              "      <th>COP</th>\n",
              "      <td>1.762174e-01</td>\n",
              "    </tr>\n",
              "    <tr>\n",
              "      <th>COST</th>\n",
              "      <td>5.102762e-08</td>\n",
              "    </tr>\n",
              "    <tr>\n",
              "      <th>CPB</th>\n",
              "      <td>2.938698e-02</td>\n",
              "    </tr>\n",
              "    <tr>\n",
              "      <th>Volatility</th>\n",
              "      <td>2.465759e-02</td>\n",
              "    </tr>\n",
              "    <tr>\n",
              "      <th>Expected Return</th>\n",
              "      <td>-2.095142e-04</td>\n",
              "    </tr>\n",
              "  </tbody>\n",
              "</table>\n",
              "<p>62 rows × 1 columns</p>\n",
              "</div>"
            ],
            "text/plain": [
              "                 Traditional MVO with return = -1\n",
              "AAPL                                 3.830745e-08\n",
              "ABC                                  1.734502e-08\n",
              "ABMD                                 6.942599e-08\n",
              "ABT                                  8.266808e-03\n",
              "ADBE                                 1.687418e-08\n",
              "...                                           ...\n",
              "COP                                  1.762174e-01\n",
              "COST                                 5.102762e-08\n",
              "CPB                                  2.938698e-02\n",
              "Volatility                           2.465759e-02\n",
              "Expected Return                     -2.095142e-04\n",
              "\n",
              "[62 rows x 1 columns]"
            ]
          },
          "metadata": {},
          "execution_count": 148
        },
        {
          "output_type": "display_data",
          "data": {
            "image/png": "[encoded data removed]",
            "text/plain": [
              "<Figure size 576x288 with 1 Axes>"
            ]
          },
          "metadata": {
            "needs_background": "light"
          }
        }
      ]
    },
    {
      "cell_type": "code",
      "metadata": {
        "colab": {
          "base_uri": "https://localhost:8080/",
          "height": 934
        },
        "id": "DVOyTs4VhCAs",
        "outputId": "8e0b118e-516f-43a1-97f1-9abcb676aa0f"
      },
      "source": [
        "MVO.model.setParam('OutputFlag', 0)\n",
        "MVO_frontier = MVO.get_frontier();"
      ],
      "execution_count": 149,
      "outputs": [
        {
          "output_type": "stream",
          "name": "stdout",
          "text": [
            "Academic license - for non-commercial use only - registered to ryan.islip@mail.utoronto.ca\n",
            "Academic license - for non-commercial use only - registered to ryan.islip@mail.utoronto.ca\n",
            "Academic license - for non-commercial use only - registered to ryan.islip@mail.utoronto.ca\n",
            "Academic license - for non-commercial use only - registered to ryan.islip@mail.utoronto.ca\n",
            "Academic license - for non-commercial use only - registered to ryan.islip@mail.utoronto.ca\n",
            "Academic license - for non-commercial use only - registered to ryan.islip@mail.utoronto.ca\n",
            "Academic license - for non-commercial use only - registered to ryan.islip@mail.utoronto.ca\n",
            "Academic license - for non-commercial use only - registered to ryan.islip@mail.utoronto.ca\n",
            "Academic license - for non-commercial use only - registered to ryan.islip@mail.utoronto.ca\n",
            "Academic license - for non-commercial use only - registered to ryan.islip@mail.utoronto.ca\n",
            "Academic license - for non-commercial use only - registered to ryan.islip@mail.utoronto.ca\n",
            "Academic license - for non-commercial use only - registered to ryan.islip@mail.utoronto.ca\n",
            "Academic license - for non-commercial use only - registered to ryan.islip@mail.utoronto.ca\n",
            "Academic license - for non-commercial use only - registered to ryan.islip@mail.utoronto.ca\n",
            "Academic license - for non-commercial use only - registered to ryan.islip@mail.utoronto.ca\n",
            "Academic license - for non-commercial use only - registered to ryan.islip@mail.utoronto.ca\n",
            "Academic license - for non-commercial use only - registered to ryan.islip@mail.utoronto.ca\n",
            "Academic license - for non-commercial use only - registered to ryan.islip@mail.utoronto.ca\n",
            "Academic license - for non-commercial use only - registered to ryan.islip@mail.utoronto.ca\n",
            "Academic license - for non-commercial use only - registered to ryan.islip@mail.utoronto.ca\n",
            "Academic license - for non-commercial use only - registered to ryan.islip@mail.utoronto.ca\n",
            "Academic license - for non-commercial use only - registered to ryan.islip@mail.utoronto.ca\n",
            "Academic license - for non-commercial use only - registered to ryan.islip@mail.utoronto.ca\n",
            "Academic license - for non-commercial use only - registered to ryan.islip@mail.utoronto.ca\n",
            "Academic license - for non-commercial use only - registered to ryan.islip@mail.utoronto.ca\n",
            "Academic license - for non-commercial use only - registered to ryan.islip@mail.utoronto.ca\n"
          ]
        },
        {
          "output_type": "display_data",
          "data": {
            "image/png": "[encoded data removed]",
            "text/plain": [
              "<Figure size 720x576 with 1 Axes>"
            ]
          },
          "metadata": {
            "needs_background": "light"
          }
        }
      ]
    },
    {
      "cell_type": "markdown",
      "metadata": {
        "id": "K7you9bPfMGK"
      },
      "source": [
        "### Mean Variance and SVM Joint Formulation"
      ]
    },
    {
      "cell_type": "code",
      "metadata": {
        "colab": {
          "base_uri": "https://localhost:8080/"
        },
        "id": "0lHbqvBLqfkO",
        "outputId": "168a4854-89bb-47a2-e4da-dc9c55fdb62c"
      },
      "source": [
        "SVM_MVO = SVMMVO(tics, mean, cov, ret_constr, soft_margin, Y_, svm_choice = (True, False))\n",
        "SVM_MVO.setModel()\n",
        "SVM_MVO.optimize()"
      ],
      "execution_count": 150,
      "outputs": [
        {
          "output_type": "stream",
          "name": "stdout",
          "text": [
            "Gurobi Optimizer version 9.1.2 build v9.1.2rc0 (linux64)\n",
            "Thread count: 1 physical cores, 2 logical processors, using up to 2 threads\n",
            "Academic license - for non-commercial use only - registered to ryan.islip@mail.utoronto.ca\n",
            "Optimize a model with 242 rows, 123 columns and 840 nonzeros\n",
            "Model fingerprint: 0x2f4e1dbf\n",
            "Model has 1832 quadratic objective terms\n",
            "Variable types: 63 continuous, 60 integer (60 binary)\n",
            "Coefficient statistics:\n",
            "  Matrix range     [2e-03, 1e+03]\n",
            "  Objective range  [0e+00, 0e+00]\n",
            "  QObjective range [3e-05, 1e+00]\n",
            "  Bounds range     [1e+00, 1e+00]\n",
            "  RHS range        [1e-03, 1e+02]\n",
            "Presolve removed 51 rows and 25 columns\n",
            "Presolve time: 0.01s\n",
            "Presolved: 191 rows, 98 columns, 630 nonzeros\n",
            "Presolved model has 1832 quadratic objective terms\n",
            "Variable types: 63 continuous, 35 integer (35 binary)\n",
            "\n",
            "Root relaxation: objective 6.306776e-04, 118 iterations, 0.00 seconds\n",
            "\n",
            "    Nodes    |    Current Node    |     Objective Bounds      |     Work\n",
            " Expl Unexpl |  Obj  Depth IntInf | Incumbent    BestBd   Gap | It/Node Time\n",
            "\n",
            "     0     0    0.00063    0   35          -    0.00063      -     -    0s\n",
            "H    0     0                       0.0012981    0.00063  51.4%     -    0s\n",
            "     0     0    0.00063    0   34    0.00130    0.00063  51.4%     -    0s\n",
            "     0     0    0.00063    0   34    0.00130    0.00063  51.4%     -    0s\n",
            "     0     0    0.00063    0   32    0.00130    0.00063  51.1%     -    0s\n",
            "     0     0    0.00064    0   32    0.00130    0.00064  51.0%     -    0s\n",
            "     0     0    0.00064    0   21    0.00130    0.00064  50.6%     -    0s\n",
            "     0     0    0.00064    0   22    0.00130    0.00064  50.6%     -    0s\n",
            "     0     0    0.00064    0   23    0.00130    0.00064  50.6%     -    0s\n",
            "     0     0    0.00064    0   24    0.00130    0.00064  50.6%     -    0s\n",
            "H    0     0                       0.0006483    0.00064  1.08%     -    0s\n",
            "\n",
            "Explored 1 nodes (347 simplex iterations) in 0.28 seconds\n",
            "Thread count was 2 (of 2 available processors)\n",
            "\n",
            "Solution count 2: 0.000648253 0.00129808 \n",
            "\n",
            "Optimal solution found (tolerance 1.00e-04)\n",
            "Best objective 6.482525157466e-04, best bound 6.482525157466e-04, gap 0.0000%\n"
          ]
        }
      ]
    },
    {
      "cell_type": "code",
      "metadata": {
        "colab": {
          "base_uri": "https://localhost:8080/",
          "height": 913
        },
        "id": "lHelD-zuvtNA",
        "outputId": "d5fc0798-302c-4ffe-c172-68324882a606"
      },
      "source": [
        "pd.concat([SVM_MVO.get_results(fig_size=(8,4)), MVO.get_results(fig_size=(8,4))], axis = 1)"
      ],
      "execution_count": 151,
      "outputs": [
        {
          "output_type": "execute_result",
          "data": {
            "text/html": [
              "<div>\n",
              "<style scoped>\n",
              "    .dataframe tbody tr th:only-of-type {\n",
              "        vertical-align: middle;\n",
              "    }\n",
              "\n",
              "    .dataframe tbody tr th {\n",
              "        vertical-align: top;\n",
              "    }\n",
              "\n",
              "    .dataframe thead th {\n",
              "        text-align: right;\n",
              "    }\n",
              "</style>\n",
              "<table border=\"1\" class=\"dataframe\">\n",
              "  <thead>\n",
              "    <tr style=\"text-align: right;\">\n",
              "      <th></th>\n",
              "      <th>SVM MVO with no Slacks with return = -1</th>\n",
              "      <th>Traditional MVO with return = -1</th>\n",
              "    </tr>\n",
              "  </thead>\n",
              "  <tbody>\n",
              "    <tr>\n",
              "      <th>AAPL</th>\n",
              "      <td>0.001000</td>\n",
              "      <td>3.830745e-08</td>\n",
              "    </tr>\n",
              "    <tr>\n",
              "      <th>ABC</th>\n",
              "      <td>0.001000</td>\n",
              "      <td>1.734502e-08</td>\n",
              "    </tr>\n",
              "    <tr>\n",
              "      <th>ABMD</th>\n",
              "      <td>0.001000</td>\n",
              "      <td>6.942599e-08</td>\n",
              "    </tr>\n",
              "    <tr>\n",
              "      <th>ABT</th>\n",
              "      <td>0.009607</td>\n",
              "      <td>8.266808e-03</td>\n",
              "    </tr>\n",
              "    <tr>\n",
              "      <th>ADBE</th>\n",
              "      <td>0.001000</td>\n",
              "      <td>1.687418e-08</td>\n",
              "    </tr>\n",
              "    <tr>\n",
              "      <th>...</th>\n",
              "      <td>...</td>\n",
              "      <td>...</td>\n",
              "    </tr>\n",
              "    <tr>\n",
              "      <th>COP</th>\n",
              "      <td>0.173940</td>\n",
              "      <td>1.762174e-01</td>\n",
              "    </tr>\n",
              "    <tr>\n",
              "      <th>COST</th>\n",
              "      <td>0.001000</td>\n",
              "      <td>5.102762e-08</td>\n",
              "    </tr>\n",
              "    <tr>\n",
              "      <th>CPB</th>\n",
              "      <td>0.032404</td>\n",
              "      <td>2.938698e-02</td>\n",
              "    </tr>\n",
              "    <tr>\n",
              "      <th>Volatility</th>\n",
              "      <td>0.025461</td>\n",
              "      <td>2.465759e-02</td>\n",
              "    </tr>\n",
              "    <tr>\n",
              "      <th>Expected Return</th>\n",
              "      <td>0.000589</td>\n",
              "      <td>-2.095142e-04</td>\n",
              "    </tr>\n",
              "  </tbody>\n",
              "</table>\n",
              "<p>62 rows × 2 columns</p>\n",
              "</div>"
            ],
            "text/plain": [
              "                 SVM MVO with no Slacks with return = -1  Traditional MVO with return = -1\n",
              "AAPL                                            0.001000                      3.830745e-08\n",
              "ABC                                             0.001000                      1.734502e-08\n",
              "ABMD                                            0.001000                      6.942599e-08\n",
              "ABT                                             0.009607                      8.266808e-03\n",
              "ADBE                                            0.001000                      1.687418e-08\n",
              "...                                                  ...                               ...\n",
              "COP                                             0.173940                      1.762174e-01\n",
              "COST                                            0.001000                      5.102762e-08\n",
              "CPB                                             0.032404                      2.938698e-02\n",
              "Volatility                                      0.025461                      2.465759e-02\n",
              "Expected Return                                 0.000589                     -2.095142e-04\n",
              "\n",
              "[62 rows x 2 columns]"
            ]
          },
          "metadata": {},
          "execution_count": 151
        },
        {
          "output_type": "display_data",
          "data": {
            "image/png": "[encoded data removed]",
            "text/plain": [
              "<Figure size 576x288 with 1 Axes>"
            ]
          },
          "metadata": {
            "needs_background": "light"
          }
        },
        {
          "output_type": "display_data",
          "data": {
            "image/png": "[encoded data removed]",
            "text/plain": [
              "<Figure size 576x288 with 1 Axes>"
            ]
          },
          "metadata": {
            "needs_background": "light"
          }
        }
      ]
    },
    {
      "cell_type": "code",
      "metadata": {
        "colab": {
          "base_uri": "https://localhost:8080/",
          "height": 265
        },
        "id": "_iJjmiBmpPGw",
        "outputId": "ce44b475-908d-4b9f-a99f-22c75bbab563"
      },
      "source": [
        "plt.plot(SVM_MVO.w.x);"
      ],
      "execution_count": 152,
      "outputs": [
        {
          "output_type": "display_data",
          "data": {
            "image/png": "[encoded data removed]",
            "text/plain": [
              "<Figure size 432x288 with 1 Axes>"
            ]
          },
          "metadata": {
            "needs_background": "light"
          }
        }
      ]
    },
    {
      "cell_type": "code",
      "metadata": {
        "colab": {
          "base_uri": "https://localhost:8080/"
        },
        "id": "zzPEo7xJwCFs",
        "outputId": "484439f4-0052-4a15-a4d6-d3df6d599111"
      },
      "source": [
        "SVM_MVO.get_frontier()"
      ],
      "execution_count": 153,
      "outputs": [
        {
          "output_type": "stream",
          "name": "stdout",
          "text": [
            "Gurobi Optimizer version 9.1.2 build v9.1.2rc0 (linux64)\n",
            "Thread count: 1 physical cores, 2 logical processors, using up to 2 threads\n",
            "Academic license - for non-commercial use only - registered to ryan.islip@mail.utoronto.ca\n",
            "Optimize a model with 242 rows, 123 columns and 840 nonzeros\n",
            "Model fingerprint: 0xee7ce645\n",
            "Model has 1832 quadratic objective terms\n",
            "Variable types: 63 continuous, 60 integer (60 binary)\n",
            "Coefficient statistics:\n",
            "  Matrix range     [2e-03, 1e+03]\n",
            "  Objective range  [0e+00, 0e+00]\n",
            "  QObjective range [3e-05, 1e+00]\n",
            "  Bounds range     [1e+00, 1e+00]\n",
            "  RHS range        [1e-03, 1e+02]\n",
            "\n",
            "MIP start from previous solve did not produce a new incumbent solution\n",
            "\n",
            "Presolve removed 77 rows and 27 columns\n",
            "Presolve time: 0.00s\n",
            "\n",
            "Explored 0 nodes (0 simplex iterations) in 0.04 seconds\n",
            "Thread count was 1 (of 2 available processors)\n",
            "\n",
            "Solution count 0\n",
            "\n",
            "Model is infeasible or unbounded\n",
            "Best objective -, best bound -, gap -\n"
          ]
        }
      ]
    },
    {
      "cell_type": "markdown",
      "metadata": {
        "id": "jzCnOQ9hWj9w"
      },
      "source": [
        "### There must be a model that is guaranteed to be feasible. Slack variables for the big M constraints will be introduced and penalized\n",
        "\n",
        "$$\n",
        "\\begin{align} \n",
        "\\min_{x, z, w, b} \\quad & x^{\\intercal}\\Sigma x + \\frac{1}{2}||{w}||^2 + \\sum_{i=1}^N g(\\xi_i)&\\\\ \n",
        "\\textrm{s.t.} \\quad & \\mu^\\intercal x  \\geq \\bar{R} \\\\\n",
        "\\quad & z_i \\leq M x_i &\\forall i = 1,2,...,N  \\\\\n",
        "\\quad & x_i \\leq z_i \\quad &\\forall i = 1,2,...,N \\\\\n",
        "              \\quad & y_i^{\\intercal} w + b \\leq M z_i - \\epsilon + \\xi_i \\quad & \\forall i = 1,2,...,N \\\\\n",
        "              \\quad & -M(1-z_i) + \\epsilon - \\xi_i \\leq  y_i^{\\intercal} w + b \\quad &\\forall i = 1,2,...,N \\\\\n",
        "              \\quad & x \\in \\mathcal{C} \\quad z \\in \\{0,1\\}^N  \\quad \\xi \\geq 0& \\\\\n",
        "\\end{align} \n",
        "$$\n",
        "\n",
        "This model is always feasible. A common setting for g is $C \\xi/N$ where $C$ is a hyperparameter. "
      ]
    },
    {
      "cell_type": "code",
      "metadata": {
        "colab": {
          "base_uri": "https://localhost:8080/"
        },
        "id": "4AbEMjyzSe1H",
        "outputId": "027e5b2f-ca28-4a64-8fd4-cf406c926bec"
      },
      "source": [
        "SVM_MVO_Slck = SVMMVO(tics, mean, cov, ret_constr, soft_margin, Y_, svm_choice = (True, True))\n",
        "SVM_MVO_Slck.setModel()\n",
        "SVM_MVO_Slck.optimize()"
      ],
      "execution_count": 154,
      "outputs": [
        {
          "output_type": "stream",
          "name": "stdout",
          "text": [
            "Gurobi Optimizer version 9.1.2 build v9.1.2rc0 (linux64)\n",
            "Thread count: 1 physical cores, 2 logical processors, using up to 2 threads\n",
            "Academic license - for non-commercial use only - registered to ryan.islip@mail.utoronto.ca\n",
            "Optimize a model with 242 rows, 183 columns and 960 nonzeros\n",
            "Model fingerprint: 0x57e9040e\n",
            "Model has 1832 quadratic objective terms\n",
            "Variable types: 123 continuous, 60 integer (60 binary)\n",
            "Coefficient statistics:\n",
            "  Matrix range     [2e-03, 1e+03]\n",
            "  Objective range  [7e-01, 7e-01]\n",
            "  QObjective range [3e-05, 1e+00]\n",
            "  Bounds range     [1e+00, 1e+00]\n",
            "  RHS range        [1e-03, 1e+02]\n",
            "Found heuristic solution: objective 8.000000e+10\n",
            "Presolve removed 1 rows and 0 columns\n",
            "Presolve time: 0.00s\n",
            "Presolved: 241 rows, 183 columns, 900 nonzeros\n",
            "Presolved model has 1832 quadratic objective terms\n",
            "Variable types: 123 continuous, 60 integer (60 binary)\n",
            "\n",
            "Root relaxation: objective 6.079909e-04, 147 iterations, 0.00 seconds\n",
            "\n",
            "    Nodes    |    Current Node    |     Objective Bounds      |     Work\n",
            " Expl Unexpl |  Obj  Depth IntInf | Incumbent    BestBd   Gap | It/Node Time\n",
            "\n",
            "     0     0    0.00061    0   60 8.0000e+10    0.00061   100%     -    0s\n",
            "H    0     0                       0.0420760    0.00061  98.6%     -    0s\n",
            "H    0     0                       0.0419432    0.00061  98.6%     -    0s\n",
            "     0     0    0.00061    0   60    0.04194    0.00061  98.6%     -    0s\n",
            "H    0     0                       0.0406664    0.00061  98.5%     -    0s\n",
            "H    0     0                       0.0356471    0.00061  98.3%     -    0s\n",
            "H    0     0                       0.0321222    0.00061  98.1%     -    0s\n",
            "H    0     0                       0.0281008    0.00061  97.8%     -    0s\n",
            "     0     2    0.00061    0   60    0.02810    0.00061  97.8%     -    0s\n",
            "H   27    27                       0.0198181    0.00063  96.8%   3.6    0s\n",
            "H   62    53                       0.0019785    0.00063  67.9%   4.3    0s\n",
            "H   63    12                       0.0006483    0.00063  2.09%   4.3    0s\n",
            "\n",
            "Explored 76 nodes (502 simplex iterations) in 0.22 seconds\n",
            "Thread count was 2 (of 2 available processors)\n",
            "\n",
            "Solution count 8: 0.000648253 0.00197851 0.0198181 ... 8e+10\n",
            "\n",
            "Optimal solution found (tolerance 1.00e-04)\n",
            "Best objective 6.482525157466e-04, best bound 6.482525157466e-04, gap 0.0000%\n"
          ]
        }
      ]
    },
    {
      "cell_type": "code",
      "metadata": {
        "colab": {
          "base_uri": "https://localhost:8080/",
          "height": 1000
        },
        "id": "N0f7ie6otCm1",
        "outputId": "021f45b0-b39e-4c87-f412-60ba37db21ee"
      },
      "source": [
        "SVM_MVO_Slck.model.setParam('OutputFlag', 0)\n",
        "SVMV_Slck_EF = SVM_MVO_Slck.get_frontier()"
      ],
      "execution_count": 155,
      "outputs": [
        {
          "output_type": "stream",
          "name": "stdout",
          "text": [
            "Academic license - for non-commercial use only - registered to ryan.islip@mail.utoronto.ca\n",
            "return -0.2092948238318284\n",
            "w [6.16142827e-09 0.00000000e+00]\n",
            "z [0.00000000e+00 9.99997179e-06 9.99992106e-06 0.00000000e+00\n",
            " 0.00000000e+00 0.00000000e+00 9.99998194e-06 0.00000000e+00\n",
            " 9.99997030e-06 9.99999430e-06 9.99998227e-06 9.99997251e-06\n",
            " 0.00000000e+00 9.99995705e-06 0.00000000e+00 9.99999578e-06\n",
            " 0.00000000e+00 0.00000000e+00 0.00000000e+00 0.00000000e+00\n",
            " 0.00000000e+00 1.00000000e+00 0.00000000e+00 9.99998788e-06\n",
            " 0.00000000e+00 9.99999136e-06 0.00000000e+00 0.00000000e+00\n",
            " 9.99998336e-06 9.99999450e-06 0.00000000e+00 0.00000000e+00\n",
            " 9.99997540e-06 0.00000000e+00 0.00000000e+00 9.99964096e-06\n",
            " 9.99999254e-06 0.00000000e+00 0.00000000e+00 9.99999227e-06\n",
            " 9.99998302e-06 0.00000000e+00 0.00000000e+00 9.99996185e-06\n",
            " 0.00000000e+00 0.00000000e+00 0.00000000e+00 0.00000000e+00\n",
            " 0.00000000e+00 9.99998323e-06 0.00000000e+00 0.00000000e+00\n",
            " 9.99997955e-06 9.99999054e-06 0.00000000e+00 9.99998271e-06\n",
            " 0.00000000e+00 0.00000000e+00 0.00000000e+00 0.00000000e+00]\n",
            "xi [0.001      0.         0.         0.001      0.00100001 0.001\n",
            " 0.         0.001      0.         0.         0.         0.\n",
            " 0.001      0.         0.001      0.         0.001      0.001\n",
            " 0.001      0.001      0.001      0.00100001 0.001      0.\n",
            " 0.001      0.         0.001      0.001      0.         0.\n",
            " 0.00100001 0.001      0.         0.001      0.001      0.\n",
            " 0.         0.00100001 0.001      0.         0.         0.001\n",
            " 0.001      0.         0.001      0.001      0.001      0.001\n",
            " 0.001      0.         0.001      0.001      0.         0.\n",
            " 0.001      0.         0.00099999 0.001      0.001      0.00100001]\n",
            "\n",
            "Academic license - for non-commercial use only - registered to ryan.islip@mail.utoronto.ca\n",
            "return -0.18359151557537318\n",
            "w [0.         0.02492694]\n",
            "z [ 1.  1. -0.  1.  1.  1.  1.  1.  1.  1. -0.  1.  1.  1.  1.  1.  1.  1.\n",
            "  1.  1. -0.  1.  1.  1.  1.  1.  1.  1. -0.  1.  1.  1.  1.  1.  1. -0.\n",
            " -0.  1.  1.  1. -0.  1.  1. -0.  1.  1. -0.  1.  1.  1.  1.  1.  1.  1.\n",
            "  1.  1.  1.  1.  1.  1.]\n",
            "xi [0. 0. 0. 0. 0. 0. 0. 0. 0. 0. 0. 0. 0. 0. 0. 0. 0. 0. 0. 0. 0. 0. 0. 0.\n",
            " 0. 0. 0. 0. 0. 0. 0. 0. 0. 0. 0. 0. 0. 0. 0. 0. 0. 0. 0. 0. 0. 0. 0. 0.\n",
            " 0. 0. 0. 0. 0. 0. 0. 0. 0. 0. 0. 0.]\n",
            "\n",
            "Academic license - for non-commercial use only - registered to ryan.islip@mail.utoronto.ca\n",
            "return -0.15788820731891798\n",
            "w [0. 0.]\n",
            "z [1. 1. 1. 1. 1. 1. 1. 1. 1. 1. 1. 1. 1. 1. 1. 1. 1. 1. 1. 1. 1. 1. 1. 1.\n",
            " 1. 1. 1. 1. 1. 1. 1. 1. 1. 1. 1. 1. 1. 1. 1. 1. 1. 1. 1. 1. 1. 1. 1. 1.\n",
            " 1. 1. 1. 1. 1. 1. 1. 1. 1. 1. 1. 1.]\n",
            "xi [0. 0. 0. 0. 0. 0. 0. 0. 0. 0. 0. 0. 0. 0. 0. 0. 0. 0. 0. 0. 0. 0. 0. 0.\n",
            " 0. 0. 0. 0. 0. 0. 0. 0. 0. 0. 0. 0. 0. 0. 0. 0. 0. 0. 0. 0. 0. 0. 0. 0.\n",
            " 0. 0. 0. 0. 0. 0. 0. 0. 0. 0. 0. 0.]\n",
            "\n",
            "Academic license - for non-commercial use only - registered to ryan.islip@mail.utoronto.ca\n",
            "return -0.13218489906246275\n",
            "w [0. 0.]\n",
            "z [1. 1. 1. 1. 1. 1. 1. 1. 1. 1. 1. 1. 1. 1. 1. 1. 1. 1. 1. 1. 1. 1. 1. 1.\n",
            " 1. 1. 1. 1. 1. 1. 1. 1. 1. 1. 1. 1. 1. 1. 1. 1. 1. 1. 1. 1. 1. 1. 1. 1.\n",
            " 1. 1. 1. 1. 1. 1. 1. 1. 1. 1. 1. 1.]\n",
            "xi [0. 0. 0. 0. 0. 0. 0. 0. 0. 0. 0. 0. 0. 0. 0. 0. 0. 0. 0. 0. 0. 0. 0. 0.\n",
            " 0. 0. 0. 0. 0. 0. 0. 0. 0. 0. 0. 0. 0. 0. 0. 0. 0. 0. 0. 0. 0. 0. 0. 0.\n",
            " 0. 0. 0. 0. 0. 0. 0. 0. 0. 0. 0. 0.]\n",
            "\n",
            "Academic license - for non-commercial use only - registered to ryan.islip@mail.utoronto.ca\n",
            "return -0.10648159080600754\n",
            "w [0. 0.]\n",
            "z [1. 1. 1. 1. 1. 1. 1. 1. 1. 1. 1. 1. 1. 1. 1. 1. 1. 1. 1. 1. 1. 1. 1. 1.\n",
            " 1. 1. 1. 1. 1. 1. 1. 1. 1. 1. 1. 1. 1. 1. 1. 1. 1. 1. 1. 1. 1. 1. 1. 1.\n",
            " 1. 1. 1. 1. 1. 1. 1. 1. 1. 1. 1. 1.]\n",
            "xi [0. 0. 0. 0. 0. 0. 0. 0. 0. 0. 0. 0. 0. 0. 0. 0. 0. 0. 0. 0. 0. 0. 0. 0.\n",
            " 0. 0. 0. 0. 0. 0. 0. 0. 0. 0. 0. 0. 0. 0. 0. 0. 0. 0. 0. 0. 0. 0. 0. 0.\n",
            " 0. 0. 0. 0. 0. 0. 0. 0. 0. 0. 0. 0.]\n",
            "\n",
            "Academic license - for non-commercial use only - registered to ryan.islip@mail.utoronto.ca\n",
            "return -0.08077828254955233\n",
            "w [0. 0.]\n",
            "z [1. 1. 1. 1. 1. 1. 1. 1. 1. 1. 1. 1. 1. 1. 1. 1. 1. 1. 1. 1. 1. 1. 1. 1.\n",
            " 1. 1. 1. 1. 1. 1. 1. 1. 1. 1. 1. 1. 1. 1. 1. 1. 1. 1. 1. 1. 1. 1. 1. 1.\n",
            " 1. 1. 1. 1. 1. 1. 1. 1. 1. 1. 1. 1.]\n",
            "xi [0. 0. 0. 0. 0. 0. 0. 0. 0. 0. 0. 0. 0. 0. 0. 0. 0. 0. 0. 0. 0. 0. 0. 0.\n",
            " 0. 0. 0. 0. 0. 0. 0. 0. 0. 0. 0. 0. 0. 0. 0. 0. 0. 0. 0. 0. 0. 0. 0. 0.\n",
            " 0. 0. 0. 0. 0. 0. 0. 0. 0. 0. 0. 0.]\n",
            "\n",
            "Academic license - for non-commercial use only - registered to ryan.islip@mail.utoronto.ca\n",
            "return -0.0550749742930971\n",
            "w [0. 0.]\n",
            "z [1. 1. 1. 1. 1. 1. 1. 1. 1. 1. 1. 1. 1. 1. 1. 1. 1. 1. 1. 1. 1. 1. 1. 1.\n",
            " 1. 1. 1. 1. 1. 1. 1. 1. 1. 1. 1. 1. 1. 1. 1. 1. 1. 1. 1. 1. 1. 1. 1. 1.\n",
            " 1. 1. 1. 1. 1. 1. 1. 1. 1. 1. 1. 1.]\n",
            "xi [0. 0. 0. 0. 0. 0. 0. 0. 0. 0. 0. 0. 0. 0. 0. 0. 0. 0. 0. 0. 0. 0. 0. 0.\n",
            " 0. 0. 0. 0. 0. 0. 0. 0. 0. 0. 0. 0. 0. 0. 0. 0. 0. 0. 0. 0. 0. 0. 0. 0.\n",
            " 0. 0. 0. 0. 0. 0. 0. 0. 0. 0. 0. 0.]\n",
            "\n",
            "Academic license - for non-commercial use only - registered to ryan.islip@mail.utoronto.ca\n",
            "return -0.029371666036641902\n",
            "w [0. 0.]\n",
            "z [1. 1. 1. 1. 1. 1. 1. 1. 1. 1. 1. 1. 1. 1. 1. 1. 1. 1. 1. 1. 1. 1. 1. 1.\n",
            " 1. 1. 1. 1. 1. 1. 1. 1. 1. 1. 1. 1. 1. 1. 1. 1. 1. 1. 1. 1. 1. 1. 1. 1.\n",
            " 1. 1. 1. 1. 1. 1. 1. 1. 1. 1. 1. 1.]\n",
            "xi [0. 0. 0. 0. 0. 0. 0. 0. 0. 0. 0. 0. 0. 0. 0. 0. 0. 0. 0. 0. 0. 0. 0. 0.\n",
            " 0. 0. 0. 0. 0. 0. 0. 0. 0. 0. 0. 0. 0. 0. 0. 0. 0. 0. 0. 0. 0. 0. 0. 0.\n",
            " 0. 0. 0. 0. 0. 0. 0. 0. 0. 0. 0. 0.]\n",
            "\n",
            "Academic license - for non-commercial use only - registered to ryan.islip@mail.utoronto.ca\n",
            "return -0.0036683577801866762\n",
            "w [0. 0.]\n",
            "z [1. 1. 1. 1. 1. 1. 1. 1. 1. 1. 1. 1. 1. 1. 1. 1. 1. 1. 1. 1. 1. 1. 1. 1.\n",
            " 1. 1. 1. 1. 1. 1. 1. 1. 1. 1. 1. 1. 1. 1. 1. 1. 1. 1. 1. 1. 1. 1. 1. 1.\n",
            " 1. 1. 1. 1. 1. 1. 1. 1. 1. 1. 1. 1.]\n",
            "xi [0. 0. 0. 0. 0. 0. 0. 0. 0. 0. 0. 0. 0. 0. 0. 0. 0. 0. 0. 0. 0. 0. 0. 0.\n",
            " 0. 0. 0. 0. 0. 0. 0. 0. 0. 0. 0. 0. 0. 0. 0. 0. 0. 0. 0. 0. 0. 0. 0. 0.\n",
            " 0. 0. 0. 0. 0. 0. 0. 0. 0. 0. 0. 0.]\n",
            "\n",
            "Academic license - for non-commercial use only - registered to ryan.islip@mail.utoronto.ca\n",
            "return 0.02203495047626855\n",
            "w [0. 0.]\n",
            "z [1. 1. 1. 1. 1. 1. 1. 1. 1. 1. 1. 1. 1. 1. 1. 1. 1. 1. 1. 1. 1. 1. 1. 1.\n",
            " 1. 1. 1. 1. 1. 1. 1. 1. 1. 1. 1. 1. 1. 1. 1. 1. 1. 1. 1. 1. 1. 1. 1. 1.\n",
            " 1. 1. 1. 1. 1. 1. 1. 1. 1. 1. 1. 1.]\n",
            "xi [0. 0. 0. 0. 0. 0. 0. 0. 0. 0. 0. 0. 0. 0. 0. 0. 0. 0. 0. 0. 0. 0. 0. 0.\n",
            " 0. 0. 0. 0. 0. 0. 0. 0. 0. 0. 0. 0. 0. 0. 0. 0. 0. 0. 0. 0. 0. 0. 0. 0.\n",
            " 0. 0. 0. 0. 0. 0. 0. 0. 0. 0. 0. 0.]\n",
            "\n",
            "Academic license - for non-commercial use only - registered to ryan.islip@mail.utoronto.ca\n",
            "return 0.04773825873272375\n",
            "w [0. 0.]\n",
            "z [1. 1. 1. 1. 1. 1. 1. 1. 1. 1. 1. 1. 1. 1. 1. 1. 1. 1. 1. 1. 1. 1. 1. 1.\n",
            " 1. 1. 1. 1. 1. 1. 1. 1. 1. 1. 1. 1. 1. 1. 1. 1. 1. 1. 1. 1. 1. 1. 1. 1.\n",
            " 1. 1. 1. 1. 1. 1. 1. 1. 1. 1. 1. 1.]\n",
            "xi [0. 0. 0. 0. 0. 0. 0. 0. 0. 0. 0. 0. 0. 0. 0. 0. 0. 0. 0. 0. 0. 0. 0. 0.\n",
            " 0. 0. 0. 0. 0. 0. 0. 0. 0. 0. 0. 0. 0. 0. 0. 0. 0. 0. 0. 0. 0. 0. 0. 0.\n",
            " 0. 0. 0. 0. 0. 0. 0. 0. 0. 0. 0. 0.]\n",
            "\n",
            "Academic license - for non-commercial use only - registered to ryan.islip@mail.utoronto.ca\n",
            "return 0.07344156698917897\n",
            "w [0.00251844 0.00160634]\n",
            "z [ 1.  1. -0.  1.  1.  1.  1.  1.  1.  1. -0.  1.  1.  1.  1.  1.  1.  1.\n",
            "  1.  1.  1. -0.  1.  1.  1.  1.  1.  1.  1.  1.  1.  1.  1.  1.  1. -0.\n",
            "  1.  1.  1.  1.  1.  1.  1.  1.  1.  1.  1.  1.  1.  1.  1.  1.  1.  1.\n",
            "  1.  1.  1.  1.  1.  1.]\n",
            "xi [0. 0. 0. 0. 0. 0. 0. 0. 0. 0. 0. 0. 0. 0. 0. 0. 0. 0. 0. 0. 0. 0. 0. 0.\n",
            " 0. 0. 0. 0. 0. 0. 0. 0. 0. 0. 0. 0. 0. 0. 0. 0. 0. 0. 0. 0. 0. 0. 0. 0.\n",
            " 0. 0. 0. 0. 0. 0. 0. 0. 0. 0. 0. 0.]\n",
            "\n",
            "Academic license - for non-commercial use only - registered to ryan.islip@mail.utoronto.ca\n",
            "return 0.0991448752456342\n",
            "w [0.00251844 0.00160634]\n",
            "z [1. 1. 0. 1. 1. 1. 1. 1. 1. 1. 0. 1. 1. 1. 1. 1. 1. 1. 1. 1. 1. 0. 1. 1.\n",
            " 1. 1. 1. 1. 1. 1. 1. 1. 1. 1. 1. 0. 1. 1. 1. 1. 1. 1. 1. 1. 1. 1. 1. 1.\n",
            " 1. 1. 1. 1. 1. 1. 1. 1. 1. 1. 1. 1.]\n",
            "xi [0. 0. 0. 0. 0. 0. 0. 0. 0. 0. 0. 0. 0. 0. 0. 0. 0. 0. 0. 0. 0. 0. 0. 0.\n",
            " 0. 0. 0. 0. 0. 0. 0. 0. 0. 0. 0. 0. 0. 0. 0. 0. 0. 0. 0. 0. 0. 0. 0. 0.\n",
            " 0. 0. 0. 0. 0. 0. 0. 0. 0. 0. 0. 0.]\n",
            "\n",
            "Academic license - for non-commercial use only - registered to ryan.islip@mail.utoronto.ca\n",
            "return 0.12484818350208943\n",
            "w [0.00251844 0.00160634]\n",
            "z [ 1.  1. -0.  1.  1.  1.  1.  1.  1.  1. -0.  1.  1.  1.  1.  1.  1.  1.\n",
            "  1.  1.  1. -0.  1.  1.  1.  1.  1.  1.  1.  1.  1.  1.  1.  1.  1. -0.\n",
            "  1.  1.  1.  1.  1.  1.  1.  1.  1.  1.  1.  1.  1.  1.  1.  1.  1.  1.\n",
            "  1.  1.  1.  1.  1.  1.]\n",
            "xi [0. 0. 0. 0. 0. 0. 0. 0. 0. 0. 0. 0. 0. 0. 0. 0. 0. 0. 0. 0. 0. 0. 0. 0.\n",
            " 0. 0. 0. 0. 0. 0. 0. 0. 0. 0. 0. 0. 0. 0. 0. 0. 0. 0. 0. 0. 0. 0. 0. 0.\n",
            " 0. 0. 0. 0. 0. 0. 0. 0. 0. 0. 0. 0.]\n",
            "\n",
            "Academic license - for non-commercial use only - registered to ryan.islip@mail.utoronto.ca\n",
            "return 0.1505514917585446\n",
            "w [0.00264579 0.00387268]\n",
            "z [ 1.  1. -0.  1.  1.  1.  1.  1.  1.  1. -0.  1.  1.  1.  1.  1.  1.  1.\n",
            "  1.  1.  1. -0.  1.  1.  1.  1.  1.  1.  1.  1.  1.  1.  1.  1.  1. -0.\n",
            "  1.  1.  1.  1. -0.  1.  1.  1.  1.  1. -0.  1.  1.  1.  1.  1.  1.  1.\n",
            "  1.  1.  1.  1.  1.  1.]\n",
            "xi [0. 0. 0. 0. 0. 0. 0. 0. 0. 0. 0. 0. 0. 0. 0. 0. 0. 0. 0. 0. 0. 0. 0. 0.\n",
            " 0. 0. 0. 0. 0. 0. 0. 0. 0. 0. 0. 0. 0. 0. 0. 0. 0. 0. 0. 0. 0. 0. 0. 0.\n",
            " 0. 0. 0. 0. 0. 0. 0. 0. 0. 0. 0. 0.]\n",
            "\n",
            "Academic license - for non-commercial use only - registered to ryan.islip@mail.utoronto.ca\n",
            "return 0.17625480001499982\n",
            "w [0.00264579 0.00387268]\n",
            "z [ 1.  1. -0.  1.  1.  1.  1.  1.  1.  1. -0.  1.  1.  1.  1.  1.  1.  1.\n",
            "  1.  1.  1. -0.  1.  1.  1.  1.  1.  1.  1.  1.  1.  1.  1.  1.  1. -0.\n",
            "  1.  1.  1.  1. -0.  1.  1.  1.  1.  1. -0.  1.  1.  1.  1.  1.  1.  1.\n",
            "  1.  1.  1.  1.  1.  1.]\n",
            "xi [0. 0. 0. 0. 0. 0. 0. 0. 0. 0. 0. 0. 0. 0. 0. 0. 0. 0. 0. 0. 0. 0. 0. 0.\n",
            " 0. 0. 0. 0. 0. 0. 0. 0. 0. 0. 0. 0. 0. 0. 0. 0. 0. 0. 0. 0. 0. 0. 0. 0.\n",
            " 0. 0. 0. 0. 0. 0. 0. 0. 0. 0. 0. 0.]\n",
            "\n",
            "Academic license - for non-commercial use only - registered to ryan.islip@mail.utoronto.ca\n",
            "return 0.20195810827145505\n",
            "w [0.00264579 0.00387268]\n",
            "z [ 1.  1. -0.  1.  1.  1.  1.  1.  1.  1. -0.  1.  1.  1.  1.  1.  1.  1.\n",
            "  1.  1.  1. -0.  1.  1.  1.  1.  1.  1.  1.  1.  1.  1.  1.  1.  1. -0.\n",
            "  1.  1.  1.  1. -0.  1.  1.  1.  1.  1. -0.  1.  1.  1.  1.  1.  1.  1.\n",
            "  1.  1.  1.  1.  1.  1.]\n",
            "xi [0. 0. 0. 0. 0. 0. 0. 0. 0. 0. 0. 0. 0. 0. 0. 0. 0. 0. 0. 0. 0. 0. 0. 0.\n",
            " 0. 0. 0. 0. 0. 0. 0. 0. 0. 0. 0. 0. 0. 0. 0. 0. 0. 0. 0. 0. 0. 0. 0. 0.\n",
            " 0. 0. 0. 0. 0. 0. 0. 0. 0. 0. 0. 0.]\n",
            "\n",
            "Academic license - for non-commercial use only - registered to ryan.islip@mail.utoronto.ca\n",
            "return 0.22766141652791028\n",
            "w [0.0017474  0.00654435]\n",
            "z [ 1.00000000e+00  1.00000000e+00 -0.00000000e+00  1.00000000e+00\n",
            "  1.00000000e+00  1.00000000e+00  1.00000000e+00  1.00000000e+00\n",
            "  1.00000000e+00  1.00000000e+00 -0.00000000e+00  1.00000000e+00\n",
            "  1.00000000e+00  1.00000000e+00  1.00000000e+00  1.00000000e+00\n",
            "  1.00000000e+00  1.00000000e+00  1.00000000e+00  1.00000000e+00\n",
            " -0.00000000e+00 -0.00000000e+00  1.00000000e+00  1.00000000e+00\n",
            "  1.00000000e+00  1.00000000e+00  1.00000000e+00  1.00000000e+00\n",
            " -0.00000000e+00  1.00000000e+00  1.00000000e+00  1.00000000e+00\n",
            "  1.00000000e+00  1.00000000e+00  1.00000000e+00 -0.00000000e+00\n",
            "  1.00000000e+00  1.00000000e+00  1.00000000e+00  1.00000000e+00\n",
            " -0.00000000e+00  1.00000000e+00  1.00000000e+00  7.37754832e-06\n",
            "  1.00000000e+00  1.00000000e+00 -0.00000000e+00  1.00000000e+00\n",
            "  1.00000000e+00  1.00000000e+00  1.00000000e+00  1.00000000e+00\n",
            "  1.00000000e+00  1.00000000e+00  1.00000000e+00  1.00000000e+00\n",
            "  1.00000000e+00  1.00000000e+00  1.00000000e+00  1.00000000e+00]\n",
            "xi [0. 0. 0. 0. 0. 0. 0. 0. 0. 0. 0. 0. 0. 0. 0. 0. 0. 0. 0. 0. 0. 0. 0. 0.\n",
            " 0. 0. 0. 0. 0. 0. 0. 0. 0. 0. 0. 0. 0. 0. 0. 0. 0. 0. 0. 0. 0. 0. 0. 0.\n",
            " 0. 0. 0. 0. 0. 0. 0. 0. 0. 0. 0. 0.]\n",
            "\n",
            "Academic license - for non-commercial use only - registered to ryan.islip@mail.utoronto.ca\n",
            "return 0.2533647247843655\n",
            "w [0.0017474  0.00654435]\n",
            "z [ 1.00000000e+00  1.00000000e+00 -0.00000000e+00  1.00000000e+00\n",
            "  1.00000000e+00  1.00000000e+00  1.00000000e+00  1.00000000e+00\n",
            "  1.00000000e+00  1.00000000e+00 -0.00000000e+00  1.00000000e+00\n",
            "  1.00000000e+00  1.00000000e+00  1.00000000e+00  1.00000000e+00\n",
            "  1.00000000e+00  1.00000000e+00  1.00000000e+00  1.00000000e+00\n",
            " -0.00000000e+00 -0.00000000e+00  1.00000000e+00  1.00000000e+00\n",
            "  1.00000000e+00  1.00000000e+00  1.00000000e+00  1.00000000e+00\n",
            " -0.00000000e+00  1.00000000e+00  1.00000000e+00  1.00000000e+00\n",
            "  1.00000000e+00  1.00000000e+00  1.00000000e+00 -0.00000000e+00\n",
            "  1.00000000e+00  1.00000000e+00  1.00000000e+00  1.00000000e+00\n",
            " -0.00000000e+00  1.00000000e+00  1.00000000e+00  7.37754832e-06\n",
            "  1.00000000e+00  1.00000000e+00 -0.00000000e+00  1.00000000e+00\n",
            "  1.00000000e+00  1.00000000e+00  1.00000000e+00  1.00000000e+00\n",
            "  1.00000000e+00  1.00000000e+00  1.00000000e+00  1.00000000e+00\n",
            "  1.00000000e+00  1.00000000e+00  1.00000000e+00  1.00000000e+00]\n",
            "xi [0. 0. 0. 0. 0. 0. 0. 0. 0. 0. 0. 0. 0. 0. 0. 0. 0. 0. 0. 0. 0. 0. 0. 0.\n",
            " 0. 0. 0. 0. 0. 0. 0. 0. 0. 0. 0. 0. 0. 0. 0. 0. 0. 0. 0. 0. 0. 0. 0. 0.\n",
            " 0. 0. 0. 0. 0. 0. 0. 0. 0. 0. 0. 0.]\n",
            "\n",
            "Academic license - for non-commercial use only - registered to ryan.islip@mail.utoronto.ca\n",
            "return 0.2790680330408207\n",
            "w [0.0017474  0.00654435]\n",
            "z [ 1.00000000e+00  1.00000000e+00 -0.00000000e+00  1.00000000e+00\n",
            "  1.00000000e+00  1.00000000e+00  1.00000000e+00  1.00000000e+00\n",
            "  1.00000000e+00  1.00000000e+00 -0.00000000e+00  1.00000000e+00\n",
            "  1.00000000e+00  1.00000000e+00  1.00000000e+00  1.00000000e+00\n",
            "  1.00000000e+00  1.00000000e+00  1.00000000e+00  1.00000000e+00\n",
            " -0.00000000e+00 -0.00000000e+00  1.00000000e+00  1.00000000e+00\n",
            "  1.00000000e+00  1.00000000e+00  1.00000000e+00  1.00000000e+00\n",
            " -0.00000000e+00  1.00000000e+00  1.00000000e+00  1.00000000e+00\n",
            "  1.00000000e+00  1.00000000e+00  1.00000000e+00 -0.00000000e+00\n",
            "  1.00000000e+00  1.00000000e+00  1.00000000e+00  1.00000000e+00\n",
            " -0.00000000e+00  1.00000000e+00  1.00000000e+00  7.37754832e-06\n",
            "  1.00000000e+00  1.00000000e+00 -0.00000000e+00  1.00000000e+00\n",
            "  1.00000000e+00  1.00000000e+00  1.00000000e+00  1.00000000e+00\n",
            "  1.00000000e+00  1.00000000e+00  1.00000000e+00  1.00000000e+00\n",
            "  1.00000000e+00  1.00000000e+00  1.00000000e+00  1.00000000e+00]\n",
            "xi [0. 0. 0. 0. 0. 0. 0. 0. 0. 0. 0. 0. 0. 0. 0. 0. 0. 0. 0. 0. 0. 0. 0. 0.\n",
            " 0. 0. 0. 0. 0. 0. 0. 0. 0. 0. 0. 0. 0. 0. 0. 0. 0. 0. 0. 0. 0. 0. 0. 0.\n",
            " 0. 0. 0. 0. 0. 0. 0. 0. 0. 0. 0. 0.]\n",
            "\n",
            "Academic license - for non-commercial use only - registered to ryan.islip@mail.utoronto.ca\n",
            "return 0.3047713412972759\n",
            "w [0.0017474  0.00654435]\n",
            "z [ 1.00000000e+00  1.00000000e+00 -0.00000000e+00  1.00000000e+00\n",
            "  1.00000000e+00  1.00000000e+00  1.00000000e+00  1.00000000e+00\n",
            "  1.00000000e+00  1.00000000e+00 -0.00000000e+00  1.00000000e+00\n",
            "  1.00000000e+00  1.00000000e+00  1.00000000e+00  1.00000000e+00\n",
            "  1.00000000e+00  1.00000000e+00  1.00000000e+00  1.00000000e+00\n",
            " -0.00000000e+00 -0.00000000e+00  1.00000000e+00  1.00000000e+00\n",
            "  1.00000000e+00  1.00000000e+00  1.00000000e+00  1.00000000e+00\n",
            " -0.00000000e+00  1.00000000e+00  1.00000000e+00  1.00000000e+00\n",
            "  1.00000000e+00  1.00000000e+00  1.00000000e+00 -0.00000000e+00\n",
            "  1.00000000e+00  1.00000000e+00  1.00000000e+00  1.00000000e+00\n",
            " -0.00000000e+00  1.00000000e+00  1.00000000e+00  7.37754832e-06\n",
            "  1.00000000e+00  1.00000000e+00 -0.00000000e+00  1.00000000e+00\n",
            "  1.00000000e+00  1.00000000e+00  1.00000000e+00  1.00000000e+00\n",
            "  1.00000000e+00  1.00000000e+00  1.00000000e+00  1.00000000e+00\n",
            "  1.00000000e+00  1.00000000e+00  1.00000000e+00  1.00000000e+00]\n",
            "xi [0. 0. 0. 0. 0. 0. 0. 0. 0. 0. 0. 0. 0. 0. 0. 0. 0. 0. 0. 0. 0. 0. 0. 0.\n",
            " 0. 0. 0. 0. 0. 0. 0. 0. 0. 0. 0. 0. 0. 0. 0. 0. 0. 0. 0. 0. 0. 0. 0. 0.\n",
            " 0. 0. 0. 0. 0. 0. 0. 0. 0. 0. 0. 0.]\n",
            "\n",
            "Academic license - for non-commercial use only - registered to ryan.islip@mail.utoronto.ca\n",
            "return 0.3304746495537312\n",
            "w [0.        0.0094328]\n",
            "z [ 1.00000000e+00  1.00000000e+00 -0.00000000e+00  1.00000000e+00\n",
            "  1.00000000e+00  1.00000000e+00  1.00000000e+00  1.00000000e+00\n",
            "  1.00000000e+00 -0.00000000e+00 -0.00000000e+00  1.00000000e+00\n",
            "  1.00000000e+00  1.00000000e+00 -0.00000000e+00  1.00000000e+00\n",
            "  1.00000000e+00  8.29305418e-06 -0.00000000e+00  1.00000000e+00\n",
            " -0.00000000e+00 -0.00000000e+00  7.47276742e-06  1.00000000e+00\n",
            " -0.00000000e+00 -0.00000000e+00 -0.00000000e+00  1.00000000e+00\n",
            " -0.00000000e+00  1.00000000e+00 -0.00000000e+00 -0.00000000e+00\n",
            "  1.00000000e+00  1.00000000e+00  1.00000000e+00 -0.00000000e+00\n",
            " -0.00000000e+00  1.00000000e+00  1.00000000e+00 -0.00000000e+00\n",
            " -0.00000000e+00  1.00000000e+00 -0.00000000e+00 -0.00000000e+00\n",
            "  1.00000000e+00  1.00000000e+00 -0.00000000e+00  6.83542036e-06\n",
            "  1.00000000e+00  1.00000000e+00  1.00000000e+00  1.00000000e+00\n",
            "  1.00000000e+00 -0.00000000e+00  1.75247555e-06  3.66199057e-06\n",
            "  1.00000000e+00  5.87490122e-07  1.00000000e+00  1.00000000e+00]\n",
            "xi [0.         0.00032217 0.         0.         0.         0.\n",
            " 0.         0.         0.         0.000606   0.         0.\n",
            " 0.         0.00535999 0.         0.         0.         0.00058535\n",
            " 0.00021263 0.         0.         0.         0.         0.00037621\n",
            " 0.         0.00096548 0.         0.         0.         0.\n",
            " 0.00133289 0.00147184 0.         0.         0.0002997  0.\n",
            " 0.         0.         0.         0.         0.         0.\n",
            " 0.00044281 0.         0.         0.         0.         0.00065823\n",
            " 0.         0.         0.         0.         0.         0.\n",
            " 0.         0.         0.         0.         0.         0.        ]\n",
            "\n",
            "Academic license - for non-commercial use only - registered to ryan.islip@mail.utoronto.ca\n",
            "return 0.35617795781018635\n",
            "w [0.         0.00795829]\n",
            "z [ 1.00000000e+00  1.00000000e+00 -0.00000000e+00  1.00000000e+00\n",
            "  1.00000000e+00  1.00000000e+00  1.00000000e+00  1.00000000e+00\n",
            "  1.00000000e+00  7.04438887e-06 -0.00000000e+00  1.00000000e+00\n",
            "  1.00000000e+00  1.00000000e+00  1.43928459e-06  1.00000000e+00\n",
            "  1.00000000e+00 -0.00000000e+00 -0.00000000e+00  1.00000000e+00\n",
            " -0.00000000e+00 -0.00000000e+00  8.23629291e-06  2.65007719e-06\n",
            " -0.00000000e+00 -0.00000000e+00  0.00000000e+00  1.00000000e+00\n",
            " -0.00000000e+00  1.00000000e+00  6.35408425e-06  8.69865514e-06\n",
            "  1.00000000e+00  1.00000000e+00 -0.00000000e+00 -0.00000000e+00\n",
            " -0.00000000e+00  1.00000000e+00  1.00000000e+00 -0.00000000e+00\n",
            " -0.00000000e+00  1.00000000e+00  5.66753624e-06 -0.00000000e+00\n",
            "  1.00000000e+00  1.00000000e+00 -0.00000000e+00  6.50387664e-06\n",
            "  1.00000000e+00  1.00000000e+00  1.00000000e+00  1.00000000e+00\n",
            "  1.00000000e+00 -0.00000000e+00  3.41018158e-06  5.02120638e-06\n",
            "  1.00000000e+00 -0.00000000e+00  1.00000000e+00  1.00000000e+00]\n",
            "xi [ 0.00000000e+00  3.91282120e-04  0.00000000e+00  0.00000000e+00\n",
            "  0.00000000e+00  0.00000000e+00  0.00000000e+00  0.00000000e+00\n",
            "  0.00000000e+00  0.00000000e+00  0.00000000e+00  0.00000000e+00\n",
            " -6.34826122e-13  4.64160109e-03  0.00000000e+00  0.00000000e+00\n",
            "  0.00000000e+00  1.38668285e-03  3.72553681e-04  0.00000000e+00\n",
            "  0.00000000e+00  0.00000000e+00  0.00000000e+00  1.29812196e-03\n",
            "  1.93164826e-04  1.00771965e-03  0.00000000e+00  0.00000000e+00\n",
            "  0.00000000e+00  0.00000000e+00  6.82295788e-04  5.65067243e-04\n",
            "  0.00000000e+00  0.00000000e+00  1.62767617e-03  0.00000000e+00\n",
            "  0.00000000e+00  0.00000000e+00  0.00000000e+00  0.00000000e+00\n",
            "  0.00000000e+00  0.00000000e+00  0.00000000e+00  0.00000000e+00\n",
            "  0.00000000e+00  0.00000000e+00  0.00000000e+00  6.74806168e-04\n",
            "  0.00000000e+00  0.00000000e+00  0.00000000e+00  0.00000000e+00\n",
            "  0.00000000e+00  0.00000000e+00  0.00000000e+00  0.00000000e+00\n",
            "  1.19469758e-04  2.42730352e-04  0.00000000e+00  0.00000000e+00]\n",
            "\n",
            "Academic license - for non-commercial use only - registered to ryan.islip@mail.utoronto.ca\n",
            "return 0.3818812660666415\n",
            "w [0.         0.00048094]\n",
            "z [ 0.00000000e+00  9.99990234e-01  4.00922593e-06  0.00000000e+00\n",
            "  0.00000000e+00 -0.00000000e+00  0.00000000e+00  0.00000000e+00\n",
            "  0.00000000e+00  9.68716543e-06 -0.00000000e+00  0.00000000e+00\n",
            "  0.00000000e+00  1.00000000e+00  9.34843136e-06  0.00000000e+00\n",
            "  0.00000000e+00  0.00000000e+00  9.48659676e-06  0.00000000e+00\n",
            "  5.88420221e-06 -0.00000000e+00  9.75919594e-06  0.00000000e+00\n",
            "  9.37818644e-06  9.87044752e-06  7.87011003e-06  0.00000000e+00\n",
            "  5.64694938e-06  0.00000000e+00 -0.00000000e+00  0.00000000e+00\n",
            "  1.00000000e+00  0.00000000e+00  0.00000000e+00 -0.00000000e+00\n",
            "  7.27916519e-06  0.00000000e+00  0.00000000e+00  9.26205727e-06\n",
            "  2.41430259e-06  1.00000000e+00  9.60395789e-06  6.63733637e-06\n",
            " -0.00000000e+00  1.00000000e+00  3.32298049e-07  0.00000000e+00\n",
            "  0.00000000e+00  0.00000000e+00  0.00000000e+00  0.00000000e+00\n",
            "  0.00000000e+00 -0.00000000e+00  9.46753886e-06  9.56489815e-06\n",
            "  0.00000000e+00  9.40814045e-06  0.00000000e+00  0.00000000e+00]\n",
            "xi [0.00107481 0.         0.         0.00111535 0.00136585 0.00140116\n",
            " 0.0011059  0.00123018 0.00108621 0.         0.         0.00123796\n",
            " 0.00110662 0.0012335  0.         0.00106901 0.00129536 0.00100995\n",
            " 0.         0.00145592 0.         0.00077324 0.         0.00102061\n",
            " 0.         0.         0.         0.00112468 0.         0.00108997\n",
            " 0.00100578 0.00101286 0.         0.00131259 0.00102451 0.\n",
            " 0.         0.00114676 0.00104701 0.         0.         0.00087729\n",
            " 0.         0.         0.00106318 0.         0.         0.00100623\n",
            " 0.00113648 0.00109681 0.0011923  0.00107494 0.0013359  0.00091096\n",
            " 0.         0.         0.00103979 0.         0.00115612 0.00106076]\n",
            "\n",
            "Academic license - for non-commercial use only - registered to ryan.islip@mail.utoronto.ca\n",
            "return 0.4075845743230968\n",
            "w [0. 0.]\n",
            "z [-0. -0. -0. -0. -0. -0. -0.  0. -0. -0. -0. -0. -0.  1. -0. -0.  0. -0.\n",
            " -0. -0.  0. -0.  0. -0.  0. -0. -0. -0. -0. -0. -0. -0. -0. -0. -0. -0.\n",
            " -0. -0. -0. -0. -0. -0. -0. -0. -0. -0. -0. -0. -0. -0. -0. -0. -0. -0.\n",
            "  0. -0.  0. -0. -0. -0.]\n",
            "xi [0.001 0.001 0.001 0.001 0.001 0.001 0.001 0.001 0.001 0.001 0.001 0.001\n",
            " 0.001 0.001 0.001 0.001 0.001 0.001 0.001 0.001 0.001 0.001 0.001 0.001\n",
            " 0.001 0.001 0.001 0.001 0.001 0.001 0.001 0.001 0.001 0.001 0.001 0.001\n",
            " 0.001 0.001 0.001 0.001 0.001 0.001 0.001 0.001 0.001 0.001 0.001 0.001\n",
            " 0.001 0.001 0.001 0.001 0.001 0.001 0.001 0.001 0.001 0.001 0.001 0.001]\n",
            "\n",
            "Academic license - for non-commercial use only - registered to ryan.islip@mail.utoronto.ca\n"
          ]
        },
        {
          "output_type": "display_data",
          "data": {
            "image/png": "[encoded data removed]",
            "text/plain": [
              "<Figure size 720x576 with 1 Axes>"
            ]
          },
          "metadata": {
            "needs_background": "light"
          }
        }
      ]
    },
    {
      "cell_type": "code",
      "metadata": {
        "colab": {
          "base_uri": "https://localhost:8080/"
        },
        "id": "yfnYiwRctovU",
        "outputId": "22c9a463-347c-4827-b19a-805b94e62301"
      },
      "source": [
        "SVMV_Slck_EF - MVO_frontier"
      ],
      "execution_count": 156,
      "outputs": [
        {
          "output_type": "execute_result",
          "data": {
            "text/plain": [
              "array([[9.96480676e-13, 3.64622347e-02, 7.28590622e-03, 2.50146551e-03,\n",
              "        1.94306329e-03, 1.50918568e-03, 1.18328968e-03, 9.77291721e-04,\n",
              "        8.22554688e-04, 7.06675481e-04, 6.99244145e-04, 6.64426903e-04,\n",
              "        1.25065293e-03, 1.75542322e-03, 2.06117835e-03, 2.89458359e-03,\n",
              "        4.27568654e-03, 7.23181354e-03, 1.01795647e-02, 1.24656297e-02,\n",
              "        2.38389439e-02, 2.01749836e-02, 2.30259846e-02, 1.61281997e-03,\n",
              "        6.67799149e-13],\n",
              "       [0.00000000e+00, 0.00000000e+00, 0.00000000e+00, 0.00000000e+00,\n",
              "        0.00000000e+00, 0.00000000e+00, 0.00000000e+00, 0.00000000e+00,\n",
              "        0.00000000e+00, 0.00000000e+00, 0.00000000e+00, 0.00000000e+00,\n",
              "        0.00000000e+00, 0.00000000e+00, 0.00000000e+00, 0.00000000e+00,\n",
              "        0.00000000e+00, 0.00000000e+00, 0.00000000e+00, 0.00000000e+00,\n",
              "        0.00000000e+00, 0.00000000e+00, 0.00000000e+00, 0.00000000e+00,\n",
              "        0.00000000e+00]])"
            ]
          },
          "metadata": {},
          "execution_count": 156
        }
      ]
    },
    {
      "cell_type": "code",
      "metadata": {
        "colab": {
          "base_uri": "https://localhost:8080/",
          "height": 513
        },
        "id": "YiDZBC5Nt-l7",
        "outputId": "f5ba240c-afa6-4c8a-b7fd-a0667a0c3acf"
      },
      "source": [
        "plt.figure(figsize = (8,8))\n",
        "plt.plot(MVO_frontier[0], MVO_frontier[1], \".-\", label = \"Traditional Mean Variance Frontier\");\n",
        "plt.plot(SVMV_Slck_EF[0], SVMV_Slck_EF[1], \".-\", label = \"SVM and MVO Frontier\");\n",
        "plt.legend();\n",
        "plt.ylabel('Return')\n",
        "plt.xlabel('Volatility')\n",
        "plt.title(\"Efficient Frontiers\");"
      ],
      "execution_count": 157,
      "outputs": [
        {
          "output_type": "display_data",
          "data": {
            "image/png": "[encoded data removed]",
            "text/plain": [
              "<Figure size 576x576 with 1 Axes>"
            ]
          },
          "metadata": {
            "needs_background": "light"
          }
        }
      ]
    },
    {
      "cell_type": "code",
      "metadata": {
        "colab": {
          "base_uri": "https://localhost:8080/"
        },
        "id": "AqiBsLKNt_k7",
        "outputId": "804e1a5b-a071-47a4-89a5-aefb63c6d728"
      },
      "source": [
        "SVM_MVO_Slck.xi.X"
      ],
      "execution_count": 45,
      "outputs": [
        {
          "output_type": "execute_result",
          "data": {
            "text/plain": [
              "array([0.        , 0.        , 0.        , 0.        , 0.        ,\n",
              "       0.        , 0.        , 0.        , 0.        , 0.        ,\n",
              "       0.        , 0.        , 0.        , 0.        , 0.        ,\n",
              "       0.        , 0.        , 0.        , 0.        , 0.        ,\n",
              "       0.        , 0.        , 0.        , 0.        , 0.        ,\n",
              "       0.        , 0.        , 0.        , 0.        , 0.        ,\n",
              "       0.        , 0.        , 0.        , 0.        , 0.        ,\n",
              "       0.        , 0.        , 0.        , 0.        , 0.        ,\n",
              "       0.        , 0.        , 0.        , 0.        , 0.        ,\n",
              "       0.        , 0.        , 0.        , 0.        , 0.        ,\n",
              "       0.        , 0.        , 0.        , 0.        , 0.        ,\n",
              "       0.        , 0.        , 0.        , 0.        , 0.        ,\n",
              "       0.        , 0.        , 0.        , 0.        , 0.        ,\n",
              "       0.        , 0.        , 0.        , 0.        , 0.        ,\n",
              "       0.        , 0.        , 0.        , 0.        , 0.        ,\n",
              "       0.        , 0.        , 0.        , 0.        , 0.        ,\n",
              "       0.        , 0.        , 0.        , 0.        , 0.        ,\n",
              "       0.00030196, 0.        , 0.        , 0.        , 0.        ,\n",
              "       0.        , 0.        , 0.        , 0.        , 0.        ,\n",
              "       0.        , 0.        , 0.        , 0.        , 0.        ,\n",
              "       0.        , 0.        , 0.        , 0.        , 0.        ,\n",
              "       0.        , 0.        , 0.        , 0.        , 0.        ,\n",
              "       0.        , 0.        , 0.        , 0.        , 0.        ,\n",
              "       0.        , 0.        , 0.        , 0.        , 0.        ,\n",
              "       0.        , 0.        , 0.        , 0.        , 0.        ,\n",
              "       0.        , 0.        , 0.        , 0.        , 0.        ,\n",
              "       0.00025994, 0.        , 0.        , 0.        , 0.        ,\n",
              "       0.        , 0.        , 0.        , 0.        , 0.        ,\n",
              "       0.        , 0.        , 0.        , 0.        , 0.        ,\n",
              "       0.        , 0.        , 0.        , 0.        , 0.        ])"
            ]
          },
          "metadata": {},
          "execution_count": 45
        }
      ]
    },
    {
      "cell_type": "code",
      "metadata": {
        "id": "RrqAWYKQvLIi"
      },
      "source": [
        ""
      ],
      "execution_count": null,
      "outputs": []
    }
  ]
}