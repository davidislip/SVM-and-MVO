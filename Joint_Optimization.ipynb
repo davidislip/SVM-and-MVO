{
  "nbformat": 4,
  "nbformat_minor": 0,
  "metadata": {
    "colab": {
      "name": "Joint Optimization.ipynb",
      "provenance": [],
      "collapsed_sections": [],
      "mount_file_id": "1hDdRLz3mUB0Ldphf50Bl9ZWw8qHh1iP5",
      "authorship_tag": "ABX9TyOGMVcBEbbm1OQ7GZmBVDCQ",
      "include_colab_link": true
    },
    "kernelspec": {
      "name": "python3",
      "display_name": "Python 3"
    },
    "language_info": {
      "name": "python"
    }
  },
  "cells": [
    {
      "cell_type": "markdown",
      "metadata": {
        "id": "view-in-github",
        "colab_type": "text"
      },
      "source": [
        "<a href=\"https://colab.research.google.com/github/davidislip/SVM-and-MVO/blob/main/Joint_Optimization.ipynb\" target=\"_parent\"><img src=\"https://colab.research.google.com/assets/colab-badge.svg\" alt=\"Open In Colab\"/></a>"
      ]
    },
    {
      "cell_type": "markdown",
      "metadata": {
        "id": "MqN_y29M6YR8"
      },
      "source": [
        "### Integration of SVM and MVO \n",
        "The idea is to integrate support vector machines and mean variance optimization \n",
        "\n",
        "$$\n",
        "\\begin{align} \n",
        "\\min_{x, z, w} \\quad & x^{\\intercal}\\Sigma x + \\frac{1}{2}||{w}||^2 &\\\\ \n",
        "\\textrm{s.t.} \\quad & \\mu^\\intercal x  \\geq \\bar{R} \\\\\n",
        "\\quad & x_i \\leq z_i \\quad &\\forall i = 1,2,...,N \\\\\n",
        "              \\quad & y_i^{\\intercal} w \\leq M z_i \\quad & \\forall i = 1,2,...,N \\\\\n",
        "              \\quad & -M(1-z_i) \\leq  y_i^{\\intercal} w \\quad &\\forall i = 1,2,...,N \\\\\n",
        "              \\quad & x \\in \\mathcal{C} \\quad z \\in \\{0,1\\}^N & \\\\\n",
        "\\end{align} \n",
        "$$"
      ]
    },
    {
      "cell_type": "code",
      "metadata": {
        "colab": {
          "base_uri": "https://localhost:8080/"
        },
        "id": "l3fEvFDq6PgZ",
        "outputId": "79182639-374f-4870-e622-91bdb7aa75bf"
      },
      "source": [
        "from google.colab import drive \n",
        "drive.mount('/content/gdrive')\n",
        "import gurobipy as gp\n",
        "from gurobipy import GRB\n",
        "from math import sqrt\n",
        "import sys\n",
        "pth = 'gdrive/My Drive/Colab Notebooks/'\n",
        "sys.path.append(pth + 'SVM MVO/PYFILES/')\n",
        "\n",
        "from packages import *\n",
        "\n",
        "%matplotlib inline\n",
        "\n",
        "## Import Forecasts\n",
        "forecasts = pd.read_pickle(pth +'SVM MVO/DATA/Forecasts.pkl')\n",
        "## Import Returns\n",
        "rets = pd.read_pickle(pth + 'SVM MVO/DATA/RETS.pkl')\n",
        "## Import feature vectors\n",
        "wrds_svm = pd.read_pickle(pth + 'SVM MVO/DATA/WRDS_ASOF.pkl')"
      ],
      "execution_count": 215,
      "outputs": [
        {
          "output_type": "stream",
          "name": "stdout",
          "text": [
            "Mounted at /content/gdrive\n"
          ]
        }
      ]
    },
    {
      "cell_type": "code",
      "metadata": {
        "colab": {
          "base_uri": "https://localhost:8080/"
        },
        "id": "knc5ipCyNDrK",
        "outputId": "bc121649-3593-4b11-c561-b10d4524b42d"
      },
      "source": [
        "!sudo python -m pip install gurobipy==9.1.2\n",
        "import gurobipy as gp\n",
        "from gurobipy import GRB\n",
        "\n",
        "e = gp.Env(empty=True)\n",
        "gurobi_licence = pd.read_csv(pth +'SVM MVO/DATA/gurobi.csv')\n",
        "e.setParam('WLSACCESSID', gurobi_licence.WLSACCESSID[0])\n",
        "e.setParam('LICENSEID', gurobi_licence.LICENSEID[0])\n",
        "e.setParam('WLSSECRET', gurobi_licence.WLSSECRET[0])\n",
        "e.start()\n"
      ],
      "execution_count": 226,
      "outputs": [
        {
          "output_type": "stream",
          "name": "stdout",
          "text": [
            "Requirement already satisfied: gurobipy==9.1.2 in /usr/local/lib/python3.7/dist-packages (9.1.2)\n",
            "Changed value of parameter WLSACCESSID\n",
            "Changed value of parameter LICENSEID\n",
            "Changed value of parameter WLSSECRET\n",
            "Academic license - for non-commercial use only - registered to ryan.islip@mail.utoronto.ca\n",
            "Using license file /usr/local/lib/python3.7/dist-packages/gurobipy/.libs/gurobi.lic\n",
            "Set parameter WLSAccessID\n",
            "Set parameter WLSSecret\n",
            "Set parameter LicenseID\n"
          ]
        },
        {
          "output_type": "execute_result",
          "data": {
            "text/plain": [
              "<gurobipy.Env, No parameter changes>"
            ]
          },
          "metadata": {},
          "execution_count": 226
        }
      ]
    },
    {
      "cell_type": "code",
      "metadata": {
        "colab": {
          "base_uri": "https://localhost:8080/"
        },
        "id": "CEKhaEcSDp1y",
        "outputId": "8ac2bad5-146f-4c78-b08e-392be314308d"
      },
      "source": [
        "gurobi_licence.columns"
      ],
      "execution_count": 225,
      "outputs": [
        {
          "output_type": "execute_result",
          "data": {
            "text/plain": [
              "Index(['WLSACCESSID', ' LICENSEID', ' WLSSECRET'], dtype='object')"
            ]
          },
          "metadata": {},
          "execution_count": 225
        }
      ]
    },
    {
      "cell_type": "code",
      "metadata": {
        "id": "5NswPR4F6Wvy",
        "colab": {
          "base_uri": "https://localhost:8080/"
        },
        "outputId": "e14ee7f6-9cc4-4c11-e1f1-342d649fb4a5"
      },
      "source": [
        "mth = rets.index[0]\n",
        "mth"
      ],
      "execution_count": 20,
      "outputs": [
        {
          "output_type": "execute_result",
          "data": {
            "text/plain": [
              "Timestamp('2000-07-01 00:00:00')"
            ]
          },
          "metadata": {},
          "execution_count": 20
        }
      ]
    },
    {
      "cell_type": "code",
      "metadata": {
        "colab": {
          "base_uri": "https://localhost:8080/"
        },
        "id": "nYBpVMDbM5Pi",
        "outputId": "8f7714ae-c77a-4f4b-ec4d-4d1a655f2b72"
      },
      "source": [
        "#preprocessing \n",
        "cov_, mean_ = forecasts[mth]\n",
        "N = 40\n",
        "cov = cov_[:N,:N]\n",
        "mean = mean_[:N,:]\n",
        "tics = list(rets.columns[:N])\n",
        "print(\"valid tickers:\", tics)\n",
        "#get the wharton research data for the valid tickers for the month\n",
        "wrds_tics = wrds_svm[wrds_svm.index.get_level_values('tic').isin(tics)].xs(mth, level=\"MonthStart\")\n",
        "#restrict the wharton research data to the columns of interest\n",
        "Y = wrds_tics.loc[:,\"ROC1\":\"GRW8\"] # Y matrix in formulation \n",
        "Y_ =  (Y - Y.mean(axis=0))/(Y.std(axis=0))\n",
        "Y_ = Y_.iloc[:,:]\n",
        "Y_['bias'] = 1\n",
        "ret_constr = -1"
      ],
      "execution_count": 42,
      "outputs": [
        {
          "output_type": "stream",
          "name": "stdout",
          "text": [
            "valid tickers: Index(['AAPL', 'ABC', 'ABMD', 'ABT', 'ADBE', 'ADI', 'ADM', 'ADP', 'ADSK',\n",
            "       'AEE', 'AEP', 'AES', 'AJG', 'AKAM', 'ALB', 'ALK', 'AMAT', 'AMD', 'AME',\n",
            "       'AMGN', 'AMT', 'AMZN', 'ANSS', 'AON', 'AOS', 'APA', 'APD', 'APH', 'ATO',\n",
            "       'AVY', 'AZO', 'BA', 'BAX', 'BBY', 'BDX', 'BKNG', 'BLL', 'BMY', 'BSX',\n",
            "       'BWA'],\n",
            "      dtype='object')\n"
          ]
        }
      ]
    },
    {
      "cell_type": "code",
      "metadata": {
        "id": "_wCkTgWbCJW7"
      },
      "source": [
        "class SVMMVO:\n",
        "\n",
        "  bigM = 100\n",
        "\n",
        "  def __init__(self, tics, mean_ret, cov, ret_constr, exogenous, svm_constr = False):\n",
        "    self.tics = tics #list of tickers\n",
        "    self.mean_ret = mean_ret\n",
        "    self.cov = cov\n",
        "    self.ret_constr = ret_constr\n",
        "    self.exogenous = exogenous\n",
        "    self.svm_constr = svm_constr\n",
        "\n",
        "    N, m = self.exogenous.shape\n",
        "    self.model = gp.Model()\n",
        "    self.x = self.model.addMVar(N)\n",
        "    self.w = self.model.addMVar(m)\n",
        "    self.z = self.model.addMVar(N, vtype=GRB.BINARY)\n",
        "  \n",
        "    self.ret_target = self.model.addConstr(mean_ret[:,0] @ self.x >= self.ret_constr, 'target')\n",
        "    self.port_exptd_ret = mean_ret[:,0] @ self.x\n",
        "    self.portfolio_risk = self.x @ self.cov @ self.x\n",
        "\n",
        "  def setModel(self):\n",
        "    N, m = self.exogenous.shape\n",
        "    \n",
        "    svm_margin = (1/2)*(self.w @ self.w)\n",
        "    self.model.addConstr(self.x.sum() == 1, 'budget')\n",
        "\n",
        "    if self.svm_constr:\n",
        "      self.model.setObjective(self.portfolio_risk + svm_margin, GRB.MINIMIZE) # if z is zero then x must be zero\n",
        "      self.model.addConstr(x <= z, \"z force x\" ) #if x is close to zero then z must be zero \n",
        "      self.model.addConstr(z <= 100*bigM*x, \"z force x\" ) # if z is zero then x must be zero\n",
        "      for i in range(N): #adding the SVM type constraints\n",
        "        y_i = self.exogenous.iloc[i].values\n",
        "        self.model.addConstr(self.w @ y_i <= -0.001 +  (bigM)*self.z[i], \"svm1\" ) \n",
        "        self.model.addConstr(-1*  (bigM) *(1 - self.z[i])  + 0.001 <= y_i @ self.w , \"svm2\" )\n",
        "    else:#not svm mvo\n",
        "      self.model.setObjective(self.portfolio_risk, GRB.MINIMIZE)\n",
        "      self.model.remove([self.w, self.z])\n",
        "\n",
        "  def optimize(self):\n",
        "    self.model.optimize()\n",
        "    self.model.write('portfolio_selection_optimization.lp')\n",
        "\n",
        "  def evaluate(self, realized_ret):\n",
        "    ret = np.dot(self.x.X, realized_ret)\n",
        "    return ret #use this to calculate out of sample rets and var\n",
        "\n",
        "  def get_estimates(self):\n",
        "    vol_metric = np.sqrt(self.portfolio_risk.getValue())[0]\n",
        "    expt_ret_metric = self.port_exptd_ret.getValue()[0]\n",
        "    return [vol_metric, expt_ret_metric] #use this for efficient frontiers\n",
        "\n",
        "  def get_results(self, export_dir = '', fig_size = ()):\n",
        "    vol_metric = np.sqrt(self.portfolio_risk.getValue())[0]\n",
        "    expt_ret_metric = self.port_exptd_ret.getValue()[0]\n",
        "    results = pd.DataFrame(data=np.append(self.x.X, [vol_metric, expt_ret_metric]),\n",
        "    index= list(self.tics) + ['Volatility', 'Expected Return'], columns=['Minimum Risk Portfolio'])\n",
        "    if (export_dir != ''):\n",
        "      results.to_csv(export_dir+'results.csv')\n",
        "    if fig_size != () and type(fig_size) in [list, tuple]:\n",
        "      results.plot(figsize = fig_size)\n",
        "    return  results \n",
        "\n",
        "  def get_frontier(self, export_dir = '', fig_size = (10,8)):\n",
        "    mean_ret = self.mean_ret[:,0]\n",
        "    frontier = np.empty((2,0))\n",
        "    expt_ret_metric = self.port_exptd_ret.getValue()[0]\n",
        "    print(expt_ret_metric)\n",
        "\n",
        "    self.model.remove(self.ret_target)\n",
        "    self.model.update()\n",
        "\n",
        "    self.ret_target = self.model.addConstr(self.port_exptd_ret == expt_ret_metric, 'target ==')\n",
        "    self.model.update()\n",
        "\n",
        "    for r in np.linspace(mean_ret.min(), mean_ret.max(), 25):\n",
        "      self.ret_target[0].rhs = r\n",
        "      self.model.optimize()\n",
        "      vol_metric = np.sqrt(self.portfolio_risk.getValue())[0]\n",
        "      frontier = np.append(frontier, [[vol_metric],[r]], axis=1)\n",
        "\n",
        "    #restore model to original state\n",
        "    self.model.remove(self.ret_target)\n",
        "    self.model.update()\n",
        "    self.ret_target = self.model.addConstr(self.port_exptd_ret >= self.ret_constr, 'target')\n",
        "    self.model.optimize()\n",
        "\n",
        "    fig, ax = plt.subplots(figsize=fig_size)\n",
        "    # Plot volatility versus expected return for individual stocks\n",
        "    # ax.scatter(x=std, y=delta,\n",
        "    #           color='Blue', label='Individual Stocks')\n",
        "    # for i, stock in enumerate(stocks):\n",
        "    #     ax.annotate(stock, (std[i], delta[i]))\n",
        "\n",
        "    # Plot volatility versus expected return for minimum risk portfolio\n",
        "    # ax.scatter(x=minrisk_volatility, y=minrisk_return, color='DarkGreen')\n",
        "    # ax.annotate('Minimum\\nRisk\\nPortfolio', (minrisk_volatility, minrisk_return),\n",
        "    #             horizontalalignment='right')\n",
        "\n",
        "    # Plot efficient frontier\n",
        "    ax.plot(frontier[0], frontier[1], '-*', label='Efficient Frontier', color='DarkGreen')\n",
        "\n",
        "    # Format and display the final plot\n",
        "    ax.axis([frontier[0].min()*0.7, frontier[0].max()*1.3, mean_ret.min()*1.2, mean_ret.max()*1.2])\n",
        "    ax.set_xlabel('Volatility (standard deviation)')\n",
        "    ax.set_ylabel('Expected Return')\n",
        "    # ax.legend()\n",
        "    ax.grid()\n",
        "    plt.show()\n",
        "    if (export_dir != ''):\n",
        "      plt.savefig(export_dir+\"EfficientFrontier.png\")\n",
        "    return frontier \n"
      ],
      "execution_count": 202,
      "outputs": []
    },
    {
      "cell_type": "markdown",
      "metadata": {
        "id": "W3ta3eSVfHCy"
      },
      "source": [
        "### Simple Min Variance Portfolio "
      ]
    },
    {
      "cell_type": "code",
      "metadata": {
        "colab": {
          "base_uri": "https://localhost:8080/"
        },
        "id": "7kwcvWSsHzZ5",
        "outputId": "2e18ed2e-6fa7-4c0f-d297-7959ce99518f"
      },
      "source": [
        "MVO = SVMMVO(tics, mean, cov, ret_constr, Y_, svm_constr = False) #define an instance of the class\n",
        "MVO.setModel() #set up the model\n",
        "MVO.optimize() #find optimal solution"
      ],
      "execution_count": 203,
      "outputs": [
        {
          "output_type": "stream",
          "name": "stdout",
          "text": [
            "Gurobi Optimizer version 9.1.2 build v9.1.2rc0 (linux64)\n",
            "Thread count: 1 physical cores, 2 logical processors, using up to 2 threads\n",
            "Optimize a model with 2 rows, 40 columns and 80 nonzeros\n",
            "Model fingerprint: 0x59fa5cf3\n",
            "Model has 820 quadratic objective terms\n",
            "Coefficient statistics:\n",
            "  Matrix range     [7e-03, 1e+00]\n",
            "  Objective range  [0e+00, 0e+00]\n",
            "  QObjective range [5e-05, 7e-01]\n",
            "  Bounds range     [0e+00, 0e+00]\n",
            "  RHS range        [1e+00, 1e+00]\n",
            "Presolve time: 0.02s\n",
            "Presolved: 2 rows, 40 columns, 80 nonzeros\n",
            "Presolved model has 820 quadratic objective terms\n",
            "Ordering time: 0.00s\n",
            "\n",
            "Barrier statistics:\n",
            " Free vars  : 39\n",
            " AA' NZ     : 8.200e+02\n",
            " Factor NZ  : 8.610e+02\n",
            " Factor Ops : 2.382e+04 (less than 1 second per iteration)\n",
            " Threads    : 1\n",
            "\n",
            "                  Objective                Residual\n",
            "Iter       Primal          Dual         Primal    Dual     Compl     Time\n",
            "   0   2.02804868e+05 -2.02804868e+05  3.62e+04 2.40e-05  1.00e+06     0s\n",
            "   1   9.96605306e+04 -1.00162207e+05  2.52e+03 1.67e-06  7.40e+04     0s\n",
            "   2   4.30210224e+03 -4.84834829e+03  7.89e+01 5.22e-08  2.50e+03     0s\n",
            "   3   6.47128083e-01 -5.49054853e+02  1.98e-01 1.31e-10  1.96e+01     0s\n",
            "   4   1.94547537e-01 -5.98116008e+01  1.98e-07 1.31e-16  1.46e+00     0s\n",
            "   5   1.92173003e-01 -3.46802535e-01  1.41e-09 1.39e-17  1.31e-02     0s\n",
            "   6   1.84284813e-02 -2.46591647e-01  1.67e-15 2.22e-16  6.46e-03     0s\n",
            "   7   7.90285790e-03 -9.06983996e-03  4.16e-17 6.59e-17  4.14e-04     0s\n",
            "   8   2.35732223e-03 -3.38744421e-03  3.12e-17 1.39e-17  1.40e-04     0s\n",
            "   9   1.31225700e-03  6.60622310e-04  5.55e-17 1.04e-17  1.59e-05     0s\n",
            "  10   1.01554447e-03  8.61493839e-04  1.47e-16 9.54e-18  3.76e-06     0s\n",
            "  11   9.45606258e-04  9.37345259e-04  1.04e-17 3.69e-18  2.01e-07     0s\n",
            "  12   9.39345922e-04  9.39224087e-04  2.78e-16 5.49e-18  2.97e-09     0s\n",
            "  13   9.39232882e-04  9.39231642e-04  2.29e-14 4.71e-18  3.03e-11     0s\n",
            "\n",
            "Barrier solved model in 13 iterations and 0.10 seconds\n",
            "Optimal objective 9.39232882e-04\n",
            "\n"
          ]
        }
      ]
    },
    {
      "cell_type": "code",
      "metadata": {
        "colab": {
          "base_uri": "https://localhost:8080/",
          "height": 1000
        },
        "id": "oFFfgematXBp",
        "outputId": "80cafc7e-3738-4d28-f5de-98bdb702c622"
      },
      "source": [
        "MVO.get_results(fig_size=(8,4))"
      ],
      "execution_count": 204,
      "outputs": [
        {
          "output_type": "execute_result",
          "data": {
            "text/html": [
              "<div>\n",
              "<style scoped>\n",
              "    .dataframe tbody tr th:only-of-type {\n",
              "        vertical-align: middle;\n",
              "    }\n",
              "\n",
              "    .dataframe tbody tr th {\n",
              "        vertical-align: top;\n",
              "    }\n",
              "\n",
              "    .dataframe thead th {\n",
              "        text-align: right;\n",
              "    }\n",
              "</style>\n",
              "<table border=\"1\" class=\"dataframe\">\n",
              "  <thead>\n",
              "    <tr style=\"text-align: right;\">\n",
              "      <th></th>\n",
              "      <th>Minimum Risk Portfolio</th>\n",
              "    </tr>\n",
              "  </thead>\n",
              "  <tbody>\n",
              "    <tr>\n",
              "      <th>AAPL</th>\n",
              "      <td>1.970215e-10</td>\n",
              "    </tr>\n",
              "    <tr>\n",
              "      <th>ABC</th>\n",
              "      <td>2.813541e-10</td>\n",
              "    </tr>\n",
              "    <tr>\n",
              "      <th>ABMD</th>\n",
              "      <td>3.668019e-09</td>\n",
              "    </tr>\n",
              "    <tr>\n",
              "      <th>ABT</th>\n",
              "      <td>9.019475e-02</td>\n",
              "    </tr>\n",
              "    <tr>\n",
              "      <th>ADBE</th>\n",
              "      <td>3.102378e-10</td>\n",
              "    </tr>\n",
              "    <tr>\n",
              "      <th>ADI</th>\n",
              "      <td>4.422678e-08</td>\n",
              "    </tr>\n",
              "    <tr>\n",
              "      <th>ADM</th>\n",
              "      <td>8.827629e-02</td>\n",
              "    </tr>\n",
              "    <tr>\n",
              "      <th>ADP</th>\n",
              "      <td>2.420754e-02</td>\n",
              "    </tr>\n",
              "    <tr>\n",
              "      <th>ADSK</th>\n",
              "      <td>3.943062e-10</td>\n",
              "    </tr>\n",
              "    <tr>\n",
              "      <th>AEE</th>\n",
              "      <td>2.105399e-01</td>\n",
              "    </tr>\n",
              "    <tr>\n",
              "      <th>AEP</th>\n",
              "      <td>5.197272e-05</td>\n",
              "    </tr>\n",
              "    <tr>\n",
              "      <th>AES</th>\n",
              "      <td>1.665889e-02</td>\n",
              "    </tr>\n",
              "    <tr>\n",
              "      <th>AJG</th>\n",
              "      <td>3.626049e-10</td>\n",
              "    </tr>\n",
              "    <tr>\n",
              "      <th>AKAM</th>\n",
              "      <td>1.460592e-10</td>\n",
              "    </tr>\n",
              "    <tr>\n",
              "      <th>ALB</th>\n",
              "      <td>1.508915e-09</td>\n",
              "    </tr>\n",
              "    <tr>\n",
              "      <th>ALK</th>\n",
              "      <td>2.155728e-07</td>\n",
              "    </tr>\n",
              "    <tr>\n",
              "      <th>AMAT</th>\n",
              "      <td>2.662034e-10</td>\n",
              "    </tr>\n",
              "    <tr>\n",
              "      <th>AMD</th>\n",
              "      <td>8.218045e-09</td>\n",
              "    </tr>\n",
              "    <tr>\n",
              "      <th>AME</th>\n",
              "      <td>7.968787e-10</td>\n",
              "    </tr>\n",
              "    <tr>\n",
              "      <th>AMGN</th>\n",
              "      <td>1.266721e-10</td>\n",
              "    </tr>\n",
              "    <tr>\n",
              "      <th>AMT</th>\n",
              "      <td>5.845516e-02</td>\n",
              "    </tr>\n",
              "    <tr>\n",
              "      <th>AMZN</th>\n",
              "      <td>6.381775e-10</td>\n",
              "    </tr>\n",
              "    <tr>\n",
              "      <th>ANSS</th>\n",
              "      <td>5.907197e-02</td>\n",
              "    </tr>\n",
              "    <tr>\n",
              "      <th>AON</th>\n",
              "      <td>1.281497e-09</td>\n",
              "    </tr>\n",
              "    <tr>\n",
              "      <th>AOS</th>\n",
              "      <td>3.344858e-10</td>\n",
              "    </tr>\n",
              "    <tr>\n",
              "      <th>APA</th>\n",
              "      <td>8.081843e-02</td>\n",
              "    </tr>\n",
              "    <tr>\n",
              "      <th>APD</th>\n",
              "      <td>4.811883e-09</td>\n",
              "    </tr>\n",
              "    <tr>\n",
              "      <th>APH</th>\n",
              "      <td>1.239722e-10</td>\n",
              "    </tr>\n",
              "    <tr>\n",
              "      <th>ATO</th>\n",
              "      <td>1.010372e-09</td>\n",
              "    </tr>\n",
              "    <tr>\n",
              "      <th>AVY</th>\n",
              "      <td>4.285574e-02</td>\n",
              "    </tr>\n",
              "    <tr>\n",
              "      <th>AZO</th>\n",
              "      <td>2.460009e-09</td>\n",
              "    </tr>\n",
              "    <tr>\n",
              "      <th>BA</th>\n",
              "      <td>1.167951e-09</td>\n",
              "    </tr>\n",
              "    <tr>\n",
              "      <th>BAX</th>\n",
              "      <td>2.839446e-10</td>\n",
              "    </tr>\n",
              "    <tr>\n",
              "      <th>BBY</th>\n",
              "      <td>4.037475e-10</td>\n",
              "    </tr>\n",
              "    <tr>\n",
              "      <th>BDX</th>\n",
              "      <td>4.067107e-02</td>\n",
              "    </tr>\n",
              "    <tr>\n",
              "      <th>BKNG</th>\n",
              "      <td>6.767728e-02</td>\n",
              "    </tr>\n",
              "    <tr>\n",
              "      <th>BLL</th>\n",
              "      <td>4.270326e-02</td>\n",
              "    </tr>\n",
              "    <tr>\n",
              "      <th>BMY</th>\n",
              "      <td>9.054038e-02</td>\n",
              "    </tr>\n",
              "    <tr>\n",
              "      <th>BSX</th>\n",
              "      <td>1.833596e-07</td>\n",
              "    </tr>\n",
              "    <tr>\n",
              "      <th>BWA</th>\n",
              "      <td>8.727686e-02</td>\n",
              "    </tr>\n",
              "    <tr>\n",
              "      <th>Volatility</th>\n",
              "      <td>3.064691e-02</td>\n",
              "    </tr>\n",
              "    <tr>\n",
              "      <th>Expected Return</th>\n",
              "      <td>-2.714985e-03</td>\n",
              "    </tr>\n",
              "  </tbody>\n",
              "</table>\n",
              "</div>"
            ],
            "text/plain": [
              "                 Minimum Risk Portfolio\n",
              "AAPL                       1.970215e-10\n",
              "ABC                        2.813541e-10\n",
              "ABMD                       3.668019e-09\n",
              "ABT                        9.019475e-02\n",
              "ADBE                       3.102378e-10\n",
              "ADI                        4.422678e-08\n",
              "ADM                        8.827629e-02\n",
              "ADP                        2.420754e-02\n",
              "ADSK                       3.943062e-10\n",
              "AEE                        2.105399e-01\n",
              "AEP                        5.197272e-05\n",
              "AES                        1.665889e-02\n",
              "AJG                        3.626049e-10\n",
              "AKAM                       1.460592e-10\n",
              "ALB                        1.508915e-09\n",
              "ALK                        2.155728e-07\n",
              "AMAT                       2.662034e-10\n",
              "AMD                        8.218045e-09\n",
              "AME                        7.968787e-10\n",
              "AMGN                       1.266721e-10\n",
              "AMT                        5.845516e-02\n",
              "AMZN                       6.381775e-10\n",
              "ANSS                       5.907197e-02\n",
              "AON                        1.281497e-09\n",
              "AOS                        3.344858e-10\n",
              "APA                        8.081843e-02\n",
              "APD                        4.811883e-09\n",
              "APH                        1.239722e-10\n",
              "ATO                        1.010372e-09\n",
              "AVY                        4.285574e-02\n",
              "AZO                        2.460009e-09\n",
              "BA                         1.167951e-09\n",
              "BAX                        2.839446e-10\n",
              "BBY                        4.037475e-10\n",
              "BDX                        4.067107e-02\n",
              "BKNG                       6.767728e-02\n",
              "BLL                        4.270326e-02\n",
              "BMY                        9.054038e-02\n",
              "BSX                        1.833596e-07\n",
              "BWA                        8.727686e-02\n",
              "Volatility                 3.064691e-02\n",
              "Expected Return           -2.714985e-03"
            ]
          },
          "metadata": {},
          "execution_count": 204
        },
        {
          "output_type": "display_data",
          "data": {
            "image/png": "[encoded data removed]",
            "text/plain": [
              "<Figure size 576x288 with 1 Axes>"
            ]
          },
          "metadata": {
            "needs_background": "light"
          }
        }
      ]
    },
    {
      "cell_type": "code",
      "metadata": {
        "colab": {
          "base_uri": "https://localhost:8080/",
          "height": 514
        },
        "id": "DVOyTs4VhCAs",
        "outputId": "80ba95ab-1b76-440f-da6d-d00425934db6"
      },
      "source": [
        "MVO.model.setParam('OutputFlag', 0)\n",
        "MVO_frontier = MVO.get_frontier()"
      ],
      "execution_count": 210,
      "outputs": [
        {
          "output_type": "stream",
          "name": "stdout",
          "text": [
            "-0.0027149847498092712\n"
          ]
        },
        {
          "output_type": "display_data",
          "data": {
            "image/png": "[encoded data removed]",
            "text/plain": [
              "<Figure size 720x576 with 1 Axes>"
            ]
          },
          "metadata": {
            "needs_background": "light"
          }
        }
      ]
    },
    {
      "cell_type": "markdown",
      "metadata": {
        "id": "K7you9bPfMGK"
      },
      "source": [
        "### Mean Variance and SVM Joint Formulation"
      ]
    },
    {
      "cell_type": "code",
      "metadata": {
        "colab": {
          "base_uri": "https://localhost:8080/"
        },
        "id": "0lHbqvBLqfkO",
        "outputId": "3bb3546e-321d-4ef6-d418-8face159b3c4"
      },
      "source": [
        "SVM_MVO = SVMMVO(tics, mean, cov, ret_constr, Y_, svm_constr = True)\n",
        "SVM_MVO.setModel()\n",
        "SVM_MVO.optimize()"
      ],
      "execution_count": 211,
      "outputs": [
        {
          "output_type": "stream",
          "name": "stdout",
          "text": [
            "Gurobi Optimizer version 9.1.2 build v9.1.2rc0 (linux64)\n",
            "Thread count: 1 physical cores, 2 logical processors, using up to 2 threads\n",
            "Optimize a model with 162 rows, 118 columns and 3360 nonzeros\n",
            "Model fingerprint: 0x0ca6b3c9\n",
            "Model has 858 quadratic objective terms\n",
            "Variable types: 78 continuous, 40 integer (40 binary)\n",
            "Coefficient statistics:\n",
            "  Matrix range     [6e-05, 1e+04]\n",
            "  Objective range  [0e+00, 0e+00]\n",
            "  QObjective range [5e-05, 1e+00]\n",
            "  Bounds range     [1e+00, 1e+00]\n",
            "  RHS range        [1e-03, 1e+02]\n",
            "Found heuristic solution: objective 2.9157460\n",
            "Presolve removed 1 rows and 0 columns\n",
            "Presolve time: 0.00s\n",
            "Presolved: 161 rows, 118 columns, 3320 nonzeros\n",
            "Presolved model has 858 quadratic objective terms\n",
            "Variable types: 78 continuous, 40 integer (40 binary)\n",
            "\n",
            "Root relaxation: objective 9.392317e-04, 96 iterations, 0.00 seconds\n",
            "\n",
            "    Nodes    |    Current Node    |     Objective Bounds      |     Work\n",
            " Expl Unexpl |  Obj  Depth IntInf | Incumbent    BestBd   Gap | It/Node Time\n",
            "\n",
            "     0     0    0.00094    0   40    2.91575    0.00094   100%     -    0s\n",
            "H    0     0                       0.0021580    0.00094  56.5%     -    0s\n",
            "     0     0    0.00094    0   40    0.00216    0.00094  56.5%     -    0s\n",
            "     0     2    0.00094    0   40    0.00216    0.00094  56.5%     -    0s\n",
            "H   50    15                       0.0009447    0.00094  0.54%  13.3    0s\n",
            "H   83    15                       0.0009439    0.00094  0.45%  10.9    0s\n",
            "H  115    29                       0.0009436    0.00094  0.40%  10.6    0s\n",
            "H  158    30                       0.0009423    0.00094  0.26%  10.7    0s\n",
            "*  160    28              36       0.0009422    0.00094  0.25%  10.7    0s\n",
            "\n",
            "Explored 679 nodes (5947 simplex iterations) in 0.44 seconds\n",
            "Thread count was 2 (of 2 available processors)\n",
            "\n",
            "Solution count 7: 0.000942245 0.000942284 0.000943567 ... 2.91575\n",
            "\n",
            "Optimal solution found (tolerance 1.00e-04)\n",
            "Warning: max constraint violation (4.3263e-06) exceeds tolerance\n",
            "Best objective 9.422454691990e-04, best bound 9.421816524436e-04, gap 0.0068%\n"
          ]
        }
      ]
    },
    {
      "cell_type": "code",
      "metadata": {
        "colab": {
          "base_uri": "https://localhost:8080/",
          "height": 1000
        },
        "id": "lHelD-zuvtNA",
        "outputId": "4f3e566b-6f11-428d-e00d-793893d8d263"
      },
      "source": [
        "SVM_MVO.get_results(fig_size=(8,4))"
      ],
      "execution_count": 208,
      "outputs": [
        {
          "output_type": "execute_result",
          "data": {
            "text/html": [
              "<div>\n",
              "<style scoped>\n",
              "    .dataframe tbody tr th:only-of-type {\n",
              "        vertical-align: middle;\n",
              "    }\n",
              "\n",
              "    .dataframe tbody tr th {\n",
              "        vertical-align: top;\n",
              "    }\n",
              "\n",
              "    .dataframe thead th {\n",
              "        text-align: right;\n",
              "    }\n",
              "</style>\n",
              "<table border=\"1\" class=\"dataframe\">\n",
              "  <thead>\n",
              "    <tr style=\"text-align: right;\">\n",
              "      <th></th>\n",
              "      <th>Minimum Risk Portfolio</th>\n",
              "    </tr>\n",
              "  </thead>\n",
              "  <tbody>\n",
              "    <tr>\n",
              "      <th>AAPL</th>\n",
              "      <td>0.000100</td>\n",
              "    </tr>\n",
              "    <tr>\n",
              "      <th>ABC</th>\n",
              "      <td>0.000100</td>\n",
              "    </tr>\n",
              "    <tr>\n",
              "      <th>ABMD</th>\n",
              "      <td>0.000100</td>\n",
              "    </tr>\n",
              "    <tr>\n",
              "      <th>ABT</th>\n",
              "      <td>0.090534</td>\n",
              "    </tr>\n",
              "    <tr>\n",
              "      <th>ADBE</th>\n",
              "      <td>0.000100</td>\n",
              "    </tr>\n",
              "    <tr>\n",
              "      <th>ADI</th>\n",
              "      <td>0.000100</td>\n",
              "    </tr>\n",
              "    <tr>\n",
              "      <th>ADM</th>\n",
              "      <td>0.088181</td>\n",
              "    </tr>\n",
              "    <tr>\n",
              "      <th>ADP</th>\n",
              "      <td>0.024103</td>\n",
              "    </tr>\n",
              "    <tr>\n",
              "      <th>ADSK</th>\n",
              "      <td>0.000100</td>\n",
              "    </tr>\n",
              "    <tr>\n",
              "      <th>AEE</th>\n",
              "      <td>0.209858</td>\n",
              "    </tr>\n",
              "    <tr>\n",
              "      <th>AEP</th>\n",
              "      <td>0.000100</td>\n",
              "    </tr>\n",
              "    <tr>\n",
              "      <th>AES</th>\n",
              "      <td>0.016354</td>\n",
              "    </tr>\n",
              "    <tr>\n",
              "      <th>AJG</th>\n",
              "      <td>0.000100</td>\n",
              "    </tr>\n",
              "    <tr>\n",
              "      <th>AKAM</th>\n",
              "      <td>0.000000</td>\n",
              "    </tr>\n",
              "    <tr>\n",
              "      <th>ALB</th>\n",
              "      <td>0.000100</td>\n",
              "    </tr>\n",
              "    <tr>\n",
              "      <th>ALK</th>\n",
              "      <td>0.000100</td>\n",
              "    </tr>\n",
              "    <tr>\n",
              "      <th>AMAT</th>\n",
              "      <td>0.000100</td>\n",
              "    </tr>\n",
              "    <tr>\n",
              "      <th>AMD</th>\n",
              "      <td>0.000100</td>\n",
              "    </tr>\n",
              "    <tr>\n",
              "      <th>AME</th>\n",
              "      <td>0.000100</td>\n",
              "    </tr>\n",
              "    <tr>\n",
              "      <th>AMGN</th>\n",
              "      <td>0.000100</td>\n",
              "    </tr>\n",
              "    <tr>\n",
              "      <th>AMT</th>\n",
              "      <td>0.058338</td>\n",
              "    </tr>\n",
              "    <tr>\n",
              "      <th>AMZN</th>\n",
              "      <td>0.000000</td>\n",
              "    </tr>\n",
              "    <tr>\n",
              "      <th>ANSS</th>\n",
              "      <td>0.059159</td>\n",
              "    </tr>\n",
              "    <tr>\n",
              "      <th>AON</th>\n",
              "      <td>0.000100</td>\n",
              "    </tr>\n",
              "    <tr>\n",
              "      <th>AOS</th>\n",
              "      <td>0.000100</td>\n",
              "    </tr>\n",
              "    <tr>\n",
              "      <th>APA</th>\n",
              "      <td>0.080781</td>\n",
              "    </tr>\n",
              "    <tr>\n",
              "      <th>APD</th>\n",
              "      <td>0.000100</td>\n",
              "    </tr>\n",
              "    <tr>\n",
              "      <th>APH</th>\n",
              "      <td>0.000000</td>\n",
              "    </tr>\n",
              "    <tr>\n",
              "      <th>ATO</th>\n",
              "      <td>0.000100</td>\n",
              "    </tr>\n",
              "    <tr>\n",
              "      <th>AVY</th>\n",
              "      <td>0.042926</td>\n",
              "    </tr>\n",
              "    <tr>\n",
              "      <th>AZO</th>\n",
              "      <td>0.000100</td>\n",
              "    </tr>\n",
              "    <tr>\n",
              "      <th>BA</th>\n",
              "      <td>0.000100</td>\n",
              "    </tr>\n",
              "    <tr>\n",
              "      <th>BAX</th>\n",
              "      <td>0.000100</td>\n",
              "    </tr>\n",
              "    <tr>\n",
              "      <th>BBY</th>\n",
              "      <td>0.000100</td>\n",
              "    </tr>\n",
              "    <tr>\n",
              "      <th>BDX</th>\n",
              "      <td>0.040080</td>\n",
              "    </tr>\n",
              "    <tr>\n",
              "      <th>BKNG</th>\n",
              "      <td>0.067384</td>\n",
              "    </tr>\n",
              "    <tr>\n",
              "      <th>BLL</th>\n",
              "      <td>0.042493</td>\n",
              "    </tr>\n",
              "    <tr>\n",
              "      <th>BMY</th>\n",
              "      <td>0.090499</td>\n",
              "    </tr>\n",
              "    <tr>\n",
              "      <th>BSX</th>\n",
              "      <td>0.000100</td>\n",
              "    </tr>\n",
              "    <tr>\n",
              "      <th>BWA</th>\n",
              "      <td>0.087010</td>\n",
              "    </tr>\n",
              "    <tr>\n",
              "      <th>Volatility</th>\n",
              "      <td>0.030688</td>\n",
              "    </tr>\n",
              "    <tr>\n",
              "      <th>Expected Return</th>\n",
              "      <td>-0.002651</td>\n",
              "    </tr>\n",
              "  </tbody>\n",
              "</table>\n",
              "</div>"
            ],
            "text/plain": [
              "                 Minimum Risk Portfolio\n",
              "AAPL                           0.000100\n",
              "ABC                            0.000100\n",
              "ABMD                           0.000100\n",
              "ABT                            0.090534\n",
              "ADBE                           0.000100\n",
              "ADI                            0.000100\n",
              "ADM                            0.088181\n",
              "ADP                            0.024103\n",
              "ADSK                           0.000100\n",
              "AEE                            0.209858\n",
              "AEP                            0.000100\n",
              "AES                            0.016354\n",
              "AJG                            0.000100\n",
              "AKAM                           0.000000\n",
              "ALB                            0.000100\n",
              "ALK                            0.000100\n",
              "AMAT                           0.000100\n",
              "AMD                            0.000100\n",
              "AME                            0.000100\n",
              "AMGN                           0.000100\n",
              "AMT                            0.058338\n",
              "AMZN                           0.000000\n",
              "ANSS                           0.059159\n",
              "AON                            0.000100\n",
              "AOS                            0.000100\n",
              "APA                            0.080781\n",
              "APD                            0.000100\n",
              "APH                            0.000000\n",
              "ATO                            0.000100\n",
              "AVY                            0.042926\n",
              "AZO                            0.000100\n",
              "BA                             0.000100\n",
              "BAX                            0.000100\n",
              "BBY                            0.000100\n",
              "BDX                            0.040080\n",
              "BKNG                           0.067384\n",
              "BLL                            0.042493\n",
              "BMY                            0.090499\n",
              "BSX                            0.000100\n",
              "BWA                            0.087010\n",
              "Volatility                     0.030688\n",
              "Expected Return               -0.002651"
            ]
          },
          "metadata": {},
          "execution_count": 208
        },
        {
          "output_type": "display_data",
          "data": {
            "image/png": "[encoded data removed]",
            "text/plain": [
              "<Figure size 576x288 with 1 Axes>"
            ]
          },
          "metadata": {
            "needs_background": "light"
          }
        }
      ]
    },
    {
      "cell_type": "code",
      "metadata": {
        "colab": {
          "base_uri": "https://localhost:8080/",
          "height": 1000
        },
        "id": "zzPEo7xJwCFs",
        "outputId": "5d93f32e-0e28-480e-c1b6-c3d7af4c0958"
      },
      "source": [
        "SVM_MVO.get_frontier()"
      ],
      "execution_count": 212,
      "outputs": [
        {
          "output_type": "stream",
          "name": "stdout",
          "text": [
            "-0.002651385784305171\n",
            "Gurobi Optimizer version 9.1.2 build v9.1.2rc0 (linux64)\n",
            "Thread count: 1 physical cores, 2 logical processors, using up to 2 threads\n",
            "Optimize a model with 162 rows, 118 columns and 3360 nonzeros\n",
            "Model fingerprint: 0xea72b9ff\n",
            "Model has 858 quadratic objective terms\n",
            "Variable types: 78 continuous, 40 integer (40 binary)\n",
            "Coefficient statistics:\n",
            "  Matrix range     [6e-05, 1e+04]\n",
            "  Objective range  [0e+00, 0e+00]\n",
            "  QObjective range [5e-05, 1e+00]\n",
            "  Bounds range     [1e+00, 1e+00]\n",
            "  RHS range        [1e-03, 1e+02]\n",
            "\n",
            "MIP start from previous solve did not produce a new incumbent solution\n",
            "\n",
            "Presolve removed 22 rows and 22 columns\n",
            "Presolve time: 0.01s\n",
            "Presolved: 140 rows, 96 columns, 3272 nonzeros\n",
            "Presolved model has 473 quadratic objective terms\n",
            "Variable types: 67 continuous, 29 integer (29 binary)\n",
            "\n",
            "Root relaxation: objective 5.828965e-02, 113 iterations, 0.00 seconds\n",
            "\n",
            "    Nodes    |    Current Node    |     Objective Bounds      |     Work\n",
            " Expl Unexpl |  Obj  Depth IntInf | Incumbent    BestBd   Gap | It/Node Time\n",
            "\n",
            "     0     0    0.05829    0   14          -    0.05829      -     -    0s\n",
            "     0     0    0.05829    0   14          -    0.05829      -     -    0s\n",
            "Model proven infeasible by zero objective heuristic\n",
            "\n",
            "Explored 1 nodes (113 simplex iterations) in 0.16 seconds\n",
            "Thread count was 2 (of 2 available processors)\n",
            "\n",
            "Solution count 0\n",
            "\n",
            "Model is infeasible or unbounded\n",
            "Best objective -, best bound 5.828964939731e-02, gap -\n"
          ]
        },
        {
          "output_type": "error",
          "ename": "GurobiError",
          "evalue": "ignored",
          "traceback": [
            "\u001b[0;31m---------------------------------------------------------------------------\u001b[0m",
            "\u001b[0;31mGurobiError\u001b[0m                               Traceback (most recent call last)",
            "\u001b[0;32m<ipython-input-212-c2bee29d90d0>\u001b[0m in \u001b[0;36m<module>\u001b[0;34m()\u001b[0m\n\u001b[0;32m----> 1\u001b[0;31m \u001b[0mSVM_MVO\u001b[0m\u001b[0;34m.\u001b[0m\u001b[0mget_frontier\u001b[0m\u001b[0;34m(\u001b[0m\u001b[0;34m)\u001b[0m\u001b[0;34m\u001b[0m\u001b[0;34m\u001b[0m\u001b[0m\n\u001b[0m",
            "\u001b[0;32m<ipython-input-202-545b4a939a38>\u001b[0m in \u001b[0;36mget_frontier\u001b[0;34m(self, export_dir, fig_size)\u001b[0m\n\u001b[1;32m     78\u001b[0m       \u001b[0mself\u001b[0m\u001b[0;34m.\u001b[0m\u001b[0mret_target\u001b[0m\u001b[0;34m[\u001b[0m\u001b[0;36m0\u001b[0m\u001b[0;34m]\u001b[0m\u001b[0;34m.\u001b[0m\u001b[0mrhs\u001b[0m \u001b[0;34m=\u001b[0m \u001b[0mr\u001b[0m\u001b[0;34m\u001b[0m\u001b[0;34m\u001b[0m\u001b[0m\n\u001b[1;32m     79\u001b[0m       \u001b[0mself\u001b[0m\u001b[0;34m.\u001b[0m\u001b[0mmodel\u001b[0m\u001b[0;34m.\u001b[0m\u001b[0moptimize\u001b[0m\u001b[0;34m(\u001b[0m\u001b[0;34m)\u001b[0m\u001b[0;34m\u001b[0m\u001b[0;34m\u001b[0m\u001b[0m\n\u001b[0;32m---> 80\u001b[0;31m       \u001b[0mvol_metric\u001b[0m \u001b[0;34m=\u001b[0m \u001b[0mnp\u001b[0m\u001b[0;34m.\u001b[0m\u001b[0msqrt\u001b[0m\u001b[0;34m(\u001b[0m\u001b[0mself\u001b[0m\u001b[0;34m.\u001b[0m\u001b[0mportfolio_risk\u001b[0m\u001b[0;34m.\u001b[0m\u001b[0mgetValue\u001b[0m\u001b[0;34m(\u001b[0m\u001b[0;34m)\u001b[0m\u001b[0;34m)\u001b[0m\u001b[0;34m[\u001b[0m\u001b[0;36m0\u001b[0m\u001b[0;34m]\u001b[0m\u001b[0;34m\u001b[0m\u001b[0;34m\u001b[0m\u001b[0m\n\u001b[0m\u001b[1;32m     81\u001b[0m       \u001b[0mfrontier\u001b[0m \u001b[0;34m=\u001b[0m \u001b[0mnp\u001b[0m\u001b[0;34m.\u001b[0m\u001b[0mappend\u001b[0m\u001b[0;34m(\u001b[0m\u001b[0mfrontier\u001b[0m\u001b[0;34m,\u001b[0m \u001b[0;34m[\u001b[0m\u001b[0;34m[\u001b[0m\u001b[0mvol_metric\u001b[0m\u001b[0;34m]\u001b[0m\u001b[0;34m,\u001b[0m\u001b[0;34m[\u001b[0m\u001b[0mr\u001b[0m\u001b[0;34m]\u001b[0m\u001b[0;34m]\u001b[0m\u001b[0;34m,\u001b[0m \u001b[0maxis\u001b[0m\u001b[0;34m=\u001b[0m\u001b[0;36m1\u001b[0m\u001b[0;34m)\u001b[0m\u001b[0;34m\u001b[0m\u001b[0;34m\u001b[0m\u001b[0m\n\u001b[1;32m     82\u001b[0m \u001b[0;34m\u001b[0m\u001b[0m\n",
            "\u001b[0;32msrc/gurobipy/mquadexpr.pxi\u001b[0m in \u001b[0;36mgurobipy.MQuadExpr.getValue\u001b[0;34m()\u001b[0m\n",
            "\u001b[0;32msrc/gurobipy/mvar.pxi\u001b[0m in \u001b[0;36mgurobipy.MVar.__getattr__\u001b[0;34m()\u001b[0m\n",
            "\u001b[0;32msrc/gurobipy/mvar.pxi\u001b[0m in \u001b[0;36mgurobipy.MVar.getAttr\u001b[0;34m()\u001b[0m\n",
            "\u001b[0;32msrc/gurobipy/attrutil.pxi\u001b[0m in \u001b[0;36mgurobipy.__gettypedattrlist\u001b[0;34m()\u001b[0m\n",
            "\u001b[0;31mGurobiError\u001b[0m: Unable to retrieve attribute 'X'"
          ]
        }
      ]
    }
  ]
}